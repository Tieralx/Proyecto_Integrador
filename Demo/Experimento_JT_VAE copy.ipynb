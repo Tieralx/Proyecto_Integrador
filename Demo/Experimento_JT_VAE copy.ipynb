{
  "cells": [
    {
      "cell_type": "code",
      "execution_count": 1,
      "metadata": {
        "id": "M3yYHjv3bJDu"
      },
      "outputs": [],
      "source": [
        "import rdkit\n",
        "from rdkit import Chem\n",
        "from rdkit.Chem import Draw\n",
        "import matplotlib.pyplot as plt\n",
        "import networkx as nx\n",
        "from rdkit.Chem import rdmolops\n",
        "import torch\n",
        "import pandas as pd\n",
        "\n",
        "import torch.nn as nn\n",
        "import torch.optim as optim\n",
        "import torch.nn.functional as F\n",
        "from sklearn.model_selection import train_test_split\n",
        "\n",
        "from rdkit.Chem import AllChem"
      ]
    },
    {
      "cell_type": "code",
      "execution_count": 2,
      "metadata": {
        "colab": {
          "base_uri": "https://localhost:8080/"
        },
        "id": "1yc7UhMSjNHI",
        "outputId": "13004b63-3bd8-4d6e-a327-81f4110af4fb"
      },
      "outputs": [
        {
          "name": "stdout",
          "output_type": "stream",
          "text": [
            "Using device: cpu\n"
          ]
        }
      ],
      "source": [
        "# Verificar disponibilidad de GPU\n",
        "device = torch.device(\"cuda\" if torch.cuda.is_available() else \"cpu\")\n",
        "print(f\"Using device: {device}\")"
      ]
    },
    {
      "cell_type": "code",
      "execution_count": 3,
      "metadata": {
        "colab": {
          "base_uri": "https://localhost:8080/",
          "height": 441
        },
        "id": "PuLYWuY0bGbU",
        "outputId": "667b565a-80d2-4161-cdb2-9c65776bfbd8"
      },
      "outputs": [
        {
          "data": {
            "text/html": [
              "<div>\n",
              "<style scoped>\n",
              "    .dataframe tbody tr th:only-of-type {\n",
              "        vertical-align: middle;\n",
              "    }\n",
              "\n",
              "    .dataframe tbody tr th {\n",
              "        vertical-align: top;\n",
              "    }\n",
              "\n",
              "    .dataframe thead th {\n",
              "        text-align: right;\n",
              "    }\n",
              "</style>\n",
              "<table border=\"1\" class=\"dataframe\">\n",
              "  <thead>\n",
              "    <tr style=\"text-align: right;\">\n",
              "      <th></th>\n",
              "      <th>molecule_chembl_id</th>\n",
              "      <th>canonical_smiles</th>\n",
              "      <th>class</th>\n",
              "      <th>MW</th>\n",
              "      <th>LogP</th>\n",
              "      <th>NumHDonors</th>\n",
              "      <th>NumHAcceptors</th>\n",
              "      <th>pIC50</th>\n",
              "    </tr>\n",
              "  </thead>\n",
              "  <tbody>\n",
              "    <tr>\n",
              "      <th>0</th>\n",
              "      <td>CHEMBL2022564</td>\n",
              "      <td>CC[C@H](C)[C@H]1C(=O)N2CCC[C@H]2C(=O)O[C@H](C(...</td>\n",
              "      <td>active</td>\n",
              "      <td>828.130</td>\n",
              "      <td>5.1124</td>\n",
              "      <td>2.0</td>\n",
              "      <td>10.0</td>\n",
              "      <td>9.494850</td>\n",
              "    </tr>\n",
              "    <tr>\n",
              "      <th>1</th>\n",
              "      <td>CHEMBL3234200</td>\n",
              "      <td>CC[C@H](C)[C@H]1C(=O)N2CCC[C@H]2C(=O)O[C@H](C(...</td>\n",
              "      <td>active</td>\n",
              "      <td>814.103</td>\n",
              "      <td>4.8664</td>\n",
              "      <td>2.0</td>\n",
              "      <td>10.0</td>\n",
              "      <td>9.522879</td>\n",
              "    </tr>\n",
              "    <tr>\n",
              "      <th>2</th>\n",
              "      <td>CHEMBL3234201</td>\n",
              "      <td>CC[C@H](C)[C@H]1C(=O)N2CCC[C@H]2C(=O)O[C@H](C(...</td>\n",
              "      <td>active</td>\n",
              "      <td>842.157</td>\n",
              "      <td>5.5025</td>\n",
              "      <td>2.0</td>\n",
              "      <td>10.0</td>\n",
              "      <td>9.327902</td>\n",
              "    </tr>\n",
              "    <tr>\n",
              "      <th>3</th>\n",
              "      <td>CHEMBL3234202</td>\n",
              "      <td>CC[C@H](C)[C@H]1C(=O)N2CCC[C@H]2C(=O)O[C@H](C(...</td>\n",
              "      <td>active</td>\n",
              "      <td>828.130</td>\n",
              "      <td>5.1124</td>\n",
              "      <td>2.0</td>\n",
              "      <td>10.0</td>\n",
              "      <td>9.920819</td>\n",
              "    </tr>\n",
              "    <tr>\n",
              "      <th>4</th>\n",
              "      <td>CHEMBL3649592</td>\n",
              "      <td>CC1CCC(NCc2ccn(Cc3ccccc3)c(=O)c2O)CC1</td>\n",
              "      <td>inactive</td>\n",
              "      <td>326.440</td>\n",
              "      <td>3.2705</td>\n",
              "      <td>2.0</td>\n",
              "      <td>4.0</td>\n",
              "      <td>4.562249</td>\n",
              "    </tr>\n",
              "    <tr>\n",
              "      <th>...</th>\n",
              "      <td>...</td>\n",
              "      <td>...</td>\n",
              "      <td>...</td>\n",
              "      <td>...</td>\n",
              "      <td>...</td>\n",
              "      <td>...</td>\n",
              "      <td>...</td>\n",
              "      <td>...</td>\n",
              "    </tr>\n",
              "    <tr>\n",
              "      <th>10630</th>\n",
              "      <td>CHEMBL4636800</td>\n",
              "      <td>COc1ccc(-c2cnn3c(N)c(-c4ccccc4)c(NCCCN(C)C)nc2...</td>\n",
              "      <td>intermediate</td>\n",
              "      <td>446.555</td>\n",
              "      <td>4.0263</td>\n",
              "      <td>2.0</td>\n",
              "      <td>8.0</td>\n",
              "      <td>5.102373</td>\n",
              "    </tr>\n",
              "    <tr>\n",
              "      <th>10631</th>\n",
              "      <td>CHEMBL4644274</td>\n",
              "      <td>COc1ccc(-c2cnn3c(N)c(-c4ccccc4)c(NC4CC(C)(C)N(...</td>\n",
              "      <td>active</td>\n",
              "      <td>514.674</td>\n",
              "      <td>5.7260</td>\n",
              "      <td>2.0</td>\n",
              "      <td>8.0</td>\n",
              "      <td>6.004365</td>\n",
              "    </tr>\n",
              "    <tr>\n",
              "      <th>10632</th>\n",
              "      <td>CHEMBL4636056</td>\n",
              "      <td>CN1C(C)(C)CC(Nc2nc3c(-c4ccc(C(=O)N5C[C@@H]6C[C...</td>\n",
              "      <td>intermediate</td>\n",
              "      <td>579.749</td>\n",
              "      <td>5.3221</td>\n",
              "      <td>2.0</td>\n",
              "      <td>8.0</td>\n",
              "      <td>5.886057</td>\n",
              "    </tr>\n",
              "    <tr>\n",
              "      <th>10633</th>\n",
              "      <td>CHEMBL4643578</td>\n",
              "      <td>COC(=O)N1CCN(C(=O)c2ccc(-c3cnn4c(N)c(-c5ccccc5...</td>\n",
              "      <td>active</td>\n",
              "      <td>624.790</td>\n",
              "      <td>5.2330</td>\n",
              "      <td>2.0</td>\n",
              "      <td>9.0</td>\n",
              "      <td>6.050610</td>\n",
              "    </tr>\n",
              "    <tr>\n",
              "      <th>10634</th>\n",
              "      <td>CHEMBL4639022</td>\n",
              "      <td>CN1C(C)(C)CC(Nc2nc3c(-c4ccc(C(=O)N5CCN(S(C)(=O...</td>\n",
              "      <td>intermediate</td>\n",
              "      <td>644.846</td>\n",
              "      <td>4.4262</td>\n",
              "      <td>2.0</td>\n",
              "      <td>9.0</td>\n",
              "      <td>5.958607</td>\n",
              "    </tr>\n",
              "  </tbody>\n",
              "</table>\n",
              "<p>10635 rows × 8 columns</p>\n",
              "</div>"
            ],
            "text/plain": [
              "      molecule_chembl_id                                   canonical_smiles  \\\n",
              "0          CHEMBL2022564  CC[C@H](C)[C@H]1C(=O)N2CCC[C@H]2C(=O)O[C@H](C(...   \n",
              "1          CHEMBL3234200  CC[C@H](C)[C@H]1C(=O)N2CCC[C@H]2C(=O)O[C@H](C(...   \n",
              "2          CHEMBL3234201  CC[C@H](C)[C@H]1C(=O)N2CCC[C@H]2C(=O)O[C@H](C(...   \n",
              "3          CHEMBL3234202  CC[C@H](C)[C@H]1C(=O)N2CCC[C@H]2C(=O)O[C@H](C(...   \n",
              "4          CHEMBL3649592              CC1CCC(NCc2ccn(Cc3ccccc3)c(=O)c2O)CC1   \n",
              "...                  ...                                                ...   \n",
              "10630      CHEMBL4636800  COc1ccc(-c2cnn3c(N)c(-c4ccccc4)c(NCCCN(C)C)nc2...   \n",
              "10631      CHEMBL4644274  COc1ccc(-c2cnn3c(N)c(-c4ccccc4)c(NC4CC(C)(C)N(...   \n",
              "10632      CHEMBL4636056  CN1C(C)(C)CC(Nc2nc3c(-c4ccc(C(=O)N5C[C@@H]6C[C...   \n",
              "10633      CHEMBL4643578  COC(=O)N1CCN(C(=O)c2ccc(-c3cnn4c(N)c(-c5ccccc5...   \n",
              "10634      CHEMBL4639022  CN1C(C)(C)CC(Nc2nc3c(-c4ccc(C(=O)N5CCN(S(C)(=O...   \n",
              "\n",
              "              class       MW    LogP  NumHDonors  NumHAcceptors     pIC50  \n",
              "0            active  828.130  5.1124         2.0           10.0  9.494850  \n",
              "1            active  814.103  4.8664         2.0           10.0  9.522879  \n",
              "2            active  842.157  5.5025         2.0           10.0  9.327902  \n",
              "3            active  828.130  5.1124         2.0           10.0  9.920819  \n",
              "4          inactive  326.440  3.2705         2.0            4.0  4.562249  \n",
              "...             ...      ...     ...         ...            ...       ...  \n",
              "10630  intermediate  446.555  4.0263         2.0            8.0  5.102373  \n",
              "10631        active  514.674  5.7260         2.0            8.0  6.004365  \n",
              "10632  intermediate  579.749  5.3221         2.0            8.0  5.886057  \n",
              "10633        active  624.790  5.2330         2.0            9.0  6.050610  \n",
              "10634  intermediate  644.846  4.4262         2.0            9.0  5.958607  \n",
              "\n",
              "[10635 rows x 8 columns]"
            ]
          },
          "execution_count": 3,
          "metadata": {},
          "output_type": "execute_result"
        }
      ],
      "source": [
        "# Cargar el dataset\n",
        "ruta_archivo_bioactivity = 'bioactivity_data_2class_pIC50.csv'\n",
        "\n",
        "# Lee el archivo CSV en un DataFrame\n",
        "df = pd.read_csv(ruta_archivo_bioactivity)\n",
        "\n",
        "# Mostrar que se haya importado correctamente el archivo\n",
        "df"
      ]
    },
    {
      "cell_type": "code",
      "execution_count": 4,
      "metadata": {
        "colab": {
          "base_uri": "https://localhost:8080/",
          "height": 334
        },
        "id": "AxXUQLtAAofs",
        "outputId": "ec0fbae5-0a50-4b14-d98f-add9c3be3976"
      },
      "outputs": [
        {
          "name": "stdout",
          "output_type": "stream",
          "text": [
            "CC[C@H](C)[C@H]1C(=O)N2CCC[C@H]2C(=O)O[C@H](C(C)(C)C)C[C@@H](C)C[C@H](O)[C@H](C)C2=N[C@@H](CCC(=O)N[C@@H](Cc3ccc(OC)cc3)C(=O)N(C)[C@@H](C)C(=O)N1C)CS2\n"
          ]
        },
        {
          "data": {
            "image/jpeg": "[encoded data removed]",
            "image/png": "[encoded data removed]",
            "text/plain": [
              "<PIL.PngImagePlugin.PngImageFile image mode=RGB size=300x300>"
            ]
          },
          "execution_count": 4,
          "metadata": {},
          "output_type": "execute_result"
        }
      ],
      "source": [
        "# Convertir SMILES a Mol\n",
        "smile = df[\"canonical_smiles\"][0]\n",
        "mol = Chem.MolFromSmiles(smile)\n",
        "\n",
        "print(Chem.MolToSmiles(mol))\n",
        "\n",
        "# Dibujar la molécula\n",
        "Draw.MolToImage(mol)"
      ]
    },
    {
      "cell_type": "code",
      "execution_count": 5,
      "metadata": {
        "id": "c2tXXPqVAtBZ"
      },
      "outputs": [],
      "source": [
        "# Función para convertir SMILES a grafo\n",
        "def mol_to_nx(smiles):\n",
        "    mol = Chem.MolFromSmiles(smiles)\n",
        "    G = nx.Graph()\n",
        "    for atom in mol.GetAtoms():\n",
        "        G.add_node(atom.GetIdx(), label=atom.GetSymbol(), atomic_num=atom.GetAtomicNum())\n",
        "    for bond in mol.GetBonds():\n",
        "        G.add_edge(bond.GetBeginAtomIdx(), bond.GetEndAtomIdx(), label=bond.GetBondType())\n",
        "    return G"
      ]
    },
    {
      "cell_type": "code",
      "execution_count": 6,
      "metadata": {
        "colab": {
          "base_uri": "https://localhost:8080/",
          "height": 516
        },
        "id": "2BAoy0X_AvZY",
        "outputId": "9bc64dd1-4649-402e-9178-3ce50fab1ff5"
      },
      "outputs": [
        {
          "data": {
            "image/png": "[encoded data removed]",
            "text/plain": [
              "<Figure size 640x480 with 1 Axes>"
            ]
          },
          "metadata": {},
          "output_type": "display_data"
        }
      ],
      "source": [
        "# Generamos un nuevo grafo para esa molécula\n",
        "G = mol_to_nx(smile)\n",
        "\n",
        "# Visualizar el grafo\n",
        "pos = nx.spring_layout(G)\n",
        "labels = nx.get_node_attributes(G, 'label')\n",
        "nx.draw(G, pos, labels=labels, with_labels=True, node_size=200, node_color='skyblue', font_size=10, font_color='black')\n",
        "plt.show()"
      ]
    },
    {
      "cell_type": "code",
      "execution_count": 7,
      "metadata": {
        "id": "ip8BcmFVA1D0"
      },
      "outputs": [],
      "source": [
        "# Función para triangular el grafo (hacerlo chordal)\n",
        "def make_chordal(G):\n",
        "    chordal_G = nx.Graph(G)\n",
        "    cliques = list(nx.find_cliques(G))\n",
        "    for clique in cliques:\n",
        "        for i in range(len(clique)):\n",
        "            for j in range(i + 1, len(clique)):\n",
        "                if not chordal_G.has_edge(clique[i], clique[j]):\n",
        "                    chordal_G.add_edge(clique[i], clique[j])\n",
        "    return chordal_G"
      ]
    },
    {
      "cell_type": "code",
      "execution_count": 8,
      "metadata": {
        "id": "FKOy3zbNIJvk"
      },
      "outputs": [],
      "source": [
        "# Función para construir el Junction Tree\n",
        "def build_junction_tree(chordal_G):\n",
        "    cliques = list(nx.find_cliques(chordal_G))\n",
        "    JG = nx.Graph()\n",
        "    for i, clique in enumerate(cliques):\n",
        "        JG.add_node(i, atoms=clique, label='Clique {}'.format(i))\n",
        "    for i in range(len(cliques)):\n",
        "        for j in range(i + 1, len(cliques)):\n",
        "            common_atoms = set(cliques[i]).intersection(set(cliques[j]))\n",
        "            if common_atoms:\n",
        "                JG.add_edge(i, j, weight=len(common_atoms))\n",
        "    return JG"
      ]
    },
    {
      "cell_type": "code",
      "execution_count": 9,
      "metadata": {
        "id": "UjBrBsP-dEKW"
      },
      "outputs": [],
      "source": [
        "# Función auxiliar para construir el Junction Tree a partir del grafo molecular\n",
        "def graph_to_junction_tree(graph):\n",
        "    chordal_G = make_chordal(graph)\n",
        "    junction_tree = build_junction_tree(chordal_G)\n",
        "    return junction_tree"
      ]
    },
    {
      "cell_type": "code",
      "execution_count": 10,
      "metadata": {
        "id": "Os1TitDxfgtL"
      },
      "outputs": [],
      "source": [
        "def pad_tensor(tensor, max_length):\n",
        "    \"\"\"\n",
        "    Rellena el tensor con ceros hasta alcanzar max_length en ambas dimensiones.\n",
        "    \"\"\"\n",
        "    padded_tensor = torch.zeros((max_length, max_length), dtype=torch.float32)\n",
        "    tensor = torch.tensor(tensor, dtype=torch.float32)  # Convertir numpy array a torch tensor\n",
        "    padded_tensor[:tensor.shape[0], :tensor.shape[1]] = tensor\n",
        "    return padded_tensor\n",
        "\n",
        "def pad_labels(labels, max_length):\n",
        "    \"\"\"\n",
        "    Rellena el tensor de etiquetas con ceros hasta alcanzar max_length.\n",
        "    \"\"\"\n",
        "    padded_labels = torch.zeros(max_length, dtype=torch.long)\n",
        "    labels = torch.tensor(labels, dtype=torch.long)  # Convertir numpy array a torch tensor\n",
        "    padded_labels[:len(labels)] = labels\n",
        "    return padded_labels"
      ]
    },
    {
      "cell_type": "code",
      "execution_count": 11,
      "metadata": {
        "colab": {
          "base_uri": "https://localhost:8080/",
          "height": 424
        },
        "id": "sfARuF0Bb068",
        "outputId": "6442ebed-c8d7-4c7e-db8c-e3cab5aec63d"
      },
      "outputs": [
        {
          "data": {
            "text/html": [
              "<div>\n",
              "<style scoped>\n",
              "    .dataframe tbody tr th:only-of-type {\n",
              "        vertical-align: middle;\n",
              "    }\n",
              "\n",
              "    .dataframe tbody tr th {\n",
              "        vertical-align: top;\n",
              "    }\n",
              "\n",
              "    .dataframe thead th {\n",
              "        text-align: right;\n",
              "    }\n",
              "</style>\n",
              "<table border=\"1\" class=\"dataframe\">\n",
              "  <thead>\n",
              "    <tr style=\"text-align: right;\">\n",
              "      <th></th>\n",
              "      <th>molecule_chembl_id</th>\n",
              "      <th>canonical_smiles</th>\n",
              "      <th>class</th>\n",
              "      <th>MW</th>\n",
              "      <th>LogP</th>\n",
              "      <th>NumHDonors</th>\n",
              "      <th>NumHAcceptors</th>\n",
              "      <th>pIC50</th>\n",
              "      <th>graphs</th>\n",
              "    </tr>\n",
              "  </thead>\n",
              "  <tbody>\n",
              "    <tr>\n",
              "      <th>0</th>\n",
              "      <td>CHEMBL2022564</td>\n",
              "      <td>CC[C@H](C)[C@H]1C(=O)N2CCC[C@H]2C(=O)O[C@H](C(...</td>\n",
              "      <td>active</td>\n",
              "      <td>828.130</td>\n",
              "      <td>5.1124</td>\n",
              "      <td>2.0</td>\n",
              "      <td>10.0</td>\n",
              "      <td>9.494850</td>\n",
              "      <td>(0, 1, 2, 3, 4, 5, 6, 7, 8, 9, 10, 11, 12, 13,...</td>\n",
              "    </tr>\n",
              "    <tr>\n",
              "      <th>1</th>\n",
              "      <td>CHEMBL3234200</td>\n",
              "      <td>CC[C@H](C)[C@H]1C(=O)N2CCC[C@H]2C(=O)O[C@H](C(...</td>\n",
              "      <td>active</td>\n",
              "      <td>814.103</td>\n",
              "      <td>4.8664</td>\n",
              "      <td>2.0</td>\n",
              "      <td>10.0</td>\n",
              "      <td>9.522879</td>\n",
              "      <td>(0, 1, 2, 3, 4, 5, 6, 7, 8, 9, 10, 11, 12, 13,...</td>\n",
              "    </tr>\n",
              "    <tr>\n",
              "      <th>2</th>\n",
              "      <td>CHEMBL3234201</td>\n",
              "      <td>CC[C@H](C)[C@H]1C(=O)N2CCC[C@H]2C(=O)O[C@H](C(...</td>\n",
              "      <td>active</td>\n",
              "      <td>842.157</td>\n",
              "      <td>5.5025</td>\n",
              "      <td>2.0</td>\n",
              "      <td>10.0</td>\n",
              "      <td>9.327902</td>\n",
              "      <td>(0, 1, 2, 3, 4, 5, 6, 7, 8, 9, 10, 11, 12, 13,...</td>\n",
              "    </tr>\n",
              "    <tr>\n",
              "      <th>3</th>\n",
              "      <td>CHEMBL3234202</td>\n",
              "      <td>CC[C@H](C)[C@H]1C(=O)N2CCC[C@H]2C(=O)O[C@H](C(...</td>\n",
              "      <td>active</td>\n",
              "      <td>828.130</td>\n",
              "      <td>5.1124</td>\n",
              "      <td>2.0</td>\n",
              "      <td>10.0</td>\n",
              "      <td>9.920819</td>\n",
              "      <td>(0, 1, 2, 3, 4, 5, 6, 7, 8, 9, 10, 11, 12, 13,...</td>\n",
              "    </tr>\n",
              "    <tr>\n",
              "      <th>4</th>\n",
              "      <td>CHEMBL3649592</td>\n",
              "      <td>CC1CCC(NCc2ccn(Cc3ccccc3)c(=O)c2O)CC1</td>\n",
              "      <td>inactive</td>\n",
              "      <td>326.440</td>\n",
              "      <td>3.2705</td>\n",
              "      <td>2.0</td>\n",
              "      <td>4.0</td>\n",
              "      <td>4.562249</td>\n",
              "      <td>(0, 1, 2, 3, 4, 5, 6, 7, 8, 9, 10, 11, 12, 13,...</td>\n",
              "    </tr>\n",
              "    <tr>\n",
              "      <th>...</th>\n",
              "      <td>...</td>\n",
              "      <td>...</td>\n",
              "      <td>...</td>\n",
              "      <td>...</td>\n",
              "      <td>...</td>\n",
              "      <td>...</td>\n",
              "      <td>...</td>\n",
              "      <td>...</td>\n",
              "      <td>...</td>\n",
              "    </tr>\n",
              "    <tr>\n",
              "      <th>10630</th>\n",
              "      <td>CHEMBL4636800</td>\n",
              "      <td>COc1ccc(-c2cnn3c(N)c(-c4ccccc4)c(NCCCN(C)C)nc2...</td>\n",
              "      <td>intermediate</td>\n",
              "      <td>446.555</td>\n",
              "      <td>4.0263</td>\n",
              "      <td>2.0</td>\n",
              "      <td>8.0</td>\n",
              "      <td>5.102373</td>\n",
              "      <td>(0, 1, 2, 3, 4, 5, 6, 7, 8, 9, 10, 11, 12, 13,...</td>\n",
              "    </tr>\n",
              "    <tr>\n",
              "      <th>10631</th>\n",
              "      <td>CHEMBL4644274</td>\n",
              "      <td>COc1ccc(-c2cnn3c(N)c(-c4ccccc4)c(NC4CC(C)(C)N(...</td>\n",
              "      <td>active</td>\n",
              "      <td>514.674</td>\n",
              "      <td>5.7260</td>\n",
              "      <td>2.0</td>\n",
              "      <td>8.0</td>\n",
              "      <td>6.004365</td>\n",
              "      <td>(0, 1, 2, 3, 4, 5, 6, 7, 8, 9, 10, 11, 12, 13,...</td>\n",
              "    </tr>\n",
              "    <tr>\n",
              "      <th>10632</th>\n",
              "      <td>CHEMBL4636056</td>\n",
              "      <td>CN1C(C)(C)CC(Nc2nc3c(-c4ccc(C(=O)N5C[C@@H]6C[C...</td>\n",
              "      <td>intermediate</td>\n",
              "      <td>579.749</td>\n",
              "      <td>5.3221</td>\n",
              "      <td>2.0</td>\n",
              "      <td>8.0</td>\n",
              "      <td>5.886057</td>\n",
              "      <td>(0, 1, 2, 3, 4, 5, 6, 7, 8, 9, 10, 11, 12, 13,...</td>\n",
              "    </tr>\n",
              "    <tr>\n",
              "      <th>10633</th>\n",
              "      <td>CHEMBL4643578</td>\n",
              "      <td>COC(=O)N1CCN(C(=O)c2ccc(-c3cnn4c(N)c(-c5ccccc5...</td>\n",
              "      <td>active</td>\n",
              "      <td>624.790</td>\n",
              "      <td>5.2330</td>\n",
              "      <td>2.0</td>\n",
              "      <td>9.0</td>\n",
              "      <td>6.050610</td>\n",
              "      <td>(0, 1, 2, 3, 4, 5, 6, 7, 8, 9, 10, 11, 12, 13,...</td>\n",
              "    </tr>\n",
              "    <tr>\n",
              "      <th>10634</th>\n",
              "      <td>CHEMBL4639022</td>\n",
              "      <td>CN1C(C)(C)CC(Nc2nc3c(-c4ccc(C(=O)N5CCN(S(C)(=O...</td>\n",
              "      <td>intermediate</td>\n",
              "      <td>644.846</td>\n",
              "      <td>4.4262</td>\n",
              "      <td>2.0</td>\n",
              "      <td>9.0</td>\n",
              "      <td>5.958607</td>\n",
              "      <td>(0, 1, 2, 3, 4, 5, 6, 7, 8, 9, 10, 11, 12, 13,...</td>\n",
              "    </tr>\n",
              "  </tbody>\n",
              "</table>\n",
              "<p>10635 rows × 9 columns</p>\n",
              "</div>"
            ],
            "text/plain": [
              "      molecule_chembl_id                                   canonical_smiles  \\\n",
              "0          CHEMBL2022564  CC[C@H](C)[C@H]1C(=O)N2CCC[C@H]2C(=O)O[C@H](C(...   \n",
              "1          CHEMBL3234200  CC[C@H](C)[C@H]1C(=O)N2CCC[C@H]2C(=O)O[C@H](C(...   \n",
              "2          CHEMBL3234201  CC[C@H](C)[C@H]1C(=O)N2CCC[C@H]2C(=O)O[C@H](C(...   \n",
              "3          CHEMBL3234202  CC[C@H](C)[C@H]1C(=O)N2CCC[C@H]2C(=O)O[C@H](C(...   \n",
              "4          CHEMBL3649592              CC1CCC(NCc2ccn(Cc3ccccc3)c(=O)c2O)CC1   \n",
              "...                  ...                                                ...   \n",
              "10630      CHEMBL4636800  COc1ccc(-c2cnn3c(N)c(-c4ccccc4)c(NCCCN(C)C)nc2...   \n",
              "10631      CHEMBL4644274  COc1ccc(-c2cnn3c(N)c(-c4ccccc4)c(NC4CC(C)(C)N(...   \n",
              "10632      CHEMBL4636056  CN1C(C)(C)CC(Nc2nc3c(-c4ccc(C(=O)N5C[C@@H]6C[C...   \n",
              "10633      CHEMBL4643578  COC(=O)N1CCN(C(=O)c2ccc(-c3cnn4c(N)c(-c5ccccc5...   \n",
              "10634      CHEMBL4639022  CN1C(C)(C)CC(Nc2nc3c(-c4ccc(C(=O)N5CCN(S(C)(=O...   \n",
              "\n",
              "              class       MW    LogP  NumHDonors  NumHAcceptors     pIC50  \\\n",
              "0            active  828.130  5.1124         2.0           10.0  9.494850   \n",
              "1            active  814.103  4.8664         2.0           10.0  9.522879   \n",
              "2            active  842.157  5.5025         2.0           10.0  9.327902   \n",
              "3            active  828.130  5.1124         2.0           10.0  9.920819   \n",
              "4          inactive  326.440  3.2705         2.0            4.0  4.562249   \n",
              "...             ...      ...     ...         ...            ...       ...   \n",
              "10630  intermediate  446.555  4.0263         2.0            8.0  5.102373   \n",
              "10631        active  514.674  5.7260         2.0            8.0  6.004365   \n",
              "10632  intermediate  579.749  5.3221         2.0            8.0  5.886057   \n",
              "10633        active  624.790  5.2330         2.0            9.0  6.050610   \n",
              "10634  intermediate  644.846  4.4262         2.0            9.0  5.958607   \n",
              "\n",
              "                                                  graphs  \n",
              "0      (0, 1, 2, 3, 4, 5, 6, 7, 8, 9, 10, 11, 12, 13,...  \n",
              "1      (0, 1, 2, 3, 4, 5, 6, 7, 8, 9, 10, 11, 12, 13,...  \n",
              "2      (0, 1, 2, 3, 4, 5, 6, 7, 8, 9, 10, 11, 12, 13,...  \n",
              "3      (0, 1, 2, 3, 4, 5, 6, 7, 8, 9, 10, 11, 12, 13,...  \n",
              "4      (0, 1, 2, 3, 4, 5, 6, 7, 8, 9, 10, 11, 12, 13,...  \n",
              "...                                                  ...  \n",
              "10630  (0, 1, 2, 3, 4, 5, 6, 7, 8, 9, 10, 11, 12, 13,...  \n",
              "10631  (0, 1, 2, 3, 4, 5, 6, 7, 8, 9, 10, 11, 12, 13,...  \n",
              "10632  (0, 1, 2, 3, 4, 5, 6, 7, 8, 9, 10, 11, 12, 13,...  \n",
              "10633  (0, 1, 2, 3, 4, 5, 6, 7, 8, 9, 10, 11, 12, 13,...  \n",
              "10634  (0, 1, 2, 3, 4, 5, 6, 7, 8, 9, 10, 11, 12, 13,...  \n",
              "\n",
              "[10635 rows x 9 columns]"
            ]
          },
          "execution_count": 11,
          "metadata": {},
          "output_type": "execute_result"
        }
      ],
      "source": [
        "# Convertir SMILES a grafos y almacenar en una nueva columna \"graphs\"\n",
        "df[\"graphs\"] = df[\"canonical_smiles\"].apply(mol_to_nx)\n",
        "df"
      ]
    },
    {
      "cell_type": "code",
      "execution_count": 12,
      "metadata": {
        "colab": {
          "base_uri": "https://localhost:8080/",
          "height": 597
        },
        "id": "o9RmXafedIBE",
        "outputId": "163de907-2d9e-49c9-fb99-da504f93156b"
      },
      "outputs": [
        {
          "data": {
            "text/html": [
              "<div>\n",
              "<style scoped>\n",
              "    .dataframe tbody tr th:only-of-type {\n",
              "        vertical-align: middle;\n",
              "    }\n",
              "\n",
              "    .dataframe tbody tr th {\n",
              "        vertical-align: top;\n",
              "    }\n",
              "\n",
              "    .dataframe thead th {\n",
              "        text-align: right;\n",
              "    }\n",
              "</style>\n",
              "<table border=\"1\" class=\"dataframe\">\n",
              "  <thead>\n",
              "    <tr style=\"text-align: right;\">\n",
              "      <th></th>\n",
              "      <th>molecule_chembl_id</th>\n",
              "      <th>canonical_smiles</th>\n",
              "      <th>class</th>\n",
              "      <th>MW</th>\n",
              "      <th>LogP</th>\n",
              "      <th>NumHDonors</th>\n",
              "      <th>NumHAcceptors</th>\n",
              "      <th>pIC50</th>\n",
              "      <th>graphs</th>\n",
              "      <th>junction_trees</th>\n",
              "    </tr>\n",
              "  </thead>\n",
              "  <tbody>\n",
              "    <tr>\n",
              "      <th>0</th>\n",
              "      <td>CHEMBL2022564</td>\n",
              "      <td>CC[C@H](C)[C@H]1C(=O)N2CCC[C@H]2C(=O)O[C@H](C(...</td>\n",
              "      <td>active</td>\n",
              "      <td>828.130</td>\n",
              "      <td>5.1124</td>\n",
              "      <td>2.0</td>\n",
              "      <td>10.0</td>\n",
              "      <td>9.494850</td>\n",
              "      <td>(0, 1, 2, 3, 4, 5, 6, 7, 8, 9, 10, 11, 12, 13,...</td>\n",
              "      <td>(0, 1, 2, 3, 4, 5, 6, 7, 8, 9, 10, 11, 12, 13,...</td>\n",
              "    </tr>\n",
              "    <tr>\n",
              "      <th>1</th>\n",
              "      <td>CHEMBL3234200</td>\n",
              "      <td>CC[C@H](C)[C@H]1C(=O)N2CCC[C@H]2C(=O)O[C@H](C(...</td>\n",
              "      <td>active</td>\n",
              "      <td>814.103</td>\n",
              "      <td>4.8664</td>\n",
              "      <td>2.0</td>\n",
              "      <td>10.0</td>\n",
              "      <td>9.522879</td>\n",
              "      <td>(0, 1, 2, 3, 4, 5, 6, 7, 8, 9, 10, 11, 12, 13,...</td>\n",
              "      <td>(0, 1, 2, 3, 4, 5, 6, 7, 8, 9, 10, 11, 12, 13,...</td>\n",
              "    </tr>\n",
              "    <tr>\n",
              "      <th>2</th>\n",
              "      <td>CHEMBL3234201</td>\n",
              "      <td>CC[C@H](C)[C@H]1C(=O)N2CCC[C@H]2C(=O)O[C@H](C(...</td>\n",
              "      <td>active</td>\n",
              "      <td>842.157</td>\n",
              "      <td>5.5025</td>\n",
              "      <td>2.0</td>\n",
              "      <td>10.0</td>\n",
              "      <td>9.327902</td>\n",
              "      <td>(0, 1, 2, 3, 4, 5, 6, 7, 8, 9, 10, 11, 12, 13,...</td>\n",
              "      <td>(0, 1, 2, 3, 4, 5, 6, 7, 8, 9, 10, 11, 12, 13,...</td>\n",
              "    </tr>\n",
              "    <tr>\n",
              "      <th>3</th>\n",
              "      <td>CHEMBL3234202</td>\n",
              "      <td>CC[C@H](C)[C@H]1C(=O)N2CCC[C@H]2C(=O)O[C@H](C(...</td>\n",
              "      <td>active</td>\n",
              "      <td>828.130</td>\n",
              "      <td>5.1124</td>\n",
              "      <td>2.0</td>\n",
              "      <td>10.0</td>\n",
              "      <td>9.920819</td>\n",
              "      <td>(0, 1, 2, 3, 4, 5, 6, 7, 8, 9, 10, 11, 12, 13,...</td>\n",
              "      <td>(0, 1, 2, 3, 4, 5, 6, 7, 8, 9, 10, 11, 12, 13,...</td>\n",
              "    </tr>\n",
              "    <tr>\n",
              "      <th>4</th>\n",
              "      <td>CHEMBL3649592</td>\n",
              "      <td>CC1CCC(NCc2ccn(Cc3ccccc3)c(=O)c2O)CC1</td>\n",
              "      <td>inactive</td>\n",
              "      <td>326.440</td>\n",
              "      <td>3.2705</td>\n",
              "      <td>2.0</td>\n",
              "      <td>4.0</td>\n",
              "      <td>4.562249</td>\n",
              "      <td>(0, 1, 2, 3, 4, 5, 6, 7, 8, 9, 10, 11, 12, 13,...</td>\n",
              "      <td>(0, 1, 2, 3, 4, 5, 6, 7, 8, 9, 10, 11, 12, 13,...</td>\n",
              "    </tr>\n",
              "    <tr>\n",
              "      <th>...</th>\n",
              "      <td>...</td>\n",
              "      <td>...</td>\n",
              "      <td>...</td>\n",
              "      <td>...</td>\n",
              "      <td>...</td>\n",
              "      <td>...</td>\n",
              "      <td>...</td>\n",
              "      <td>...</td>\n",
              "      <td>...</td>\n",
              "      <td>...</td>\n",
              "    </tr>\n",
              "    <tr>\n",
              "      <th>10630</th>\n",
              "      <td>CHEMBL4636800</td>\n",
              "      <td>COc1ccc(-c2cnn3c(N)c(-c4ccccc4)c(NCCCN(C)C)nc2...</td>\n",
              "      <td>intermediate</td>\n",
              "      <td>446.555</td>\n",
              "      <td>4.0263</td>\n",
              "      <td>2.0</td>\n",
              "      <td>8.0</td>\n",
              "      <td>5.102373</td>\n",
              "      <td>(0, 1, 2, 3, 4, 5, 6, 7, 8, 9, 10, 11, 12, 13,...</td>\n",
              "      <td>(0, 1, 2, 3, 4, 5, 6, 7, 8, 9, 10, 11, 12, 13,...</td>\n",
              "    </tr>\n",
              "    <tr>\n",
              "      <th>10631</th>\n",
              "      <td>CHEMBL4644274</td>\n",
              "      <td>COc1ccc(-c2cnn3c(N)c(-c4ccccc4)c(NC4CC(C)(C)N(...</td>\n",
              "      <td>active</td>\n",
              "      <td>514.674</td>\n",
              "      <td>5.7260</td>\n",
              "      <td>2.0</td>\n",
              "      <td>8.0</td>\n",
              "      <td>6.004365</td>\n",
              "      <td>(0, 1, 2, 3, 4, 5, 6, 7, 8, 9, 10, 11, 12, 13,...</td>\n",
              "      <td>(0, 1, 2, 3, 4, 5, 6, 7, 8, 9, 10, 11, 12, 13,...</td>\n",
              "    </tr>\n",
              "    <tr>\n",
              "      <th>10632</th>\n",
              "      <td>CHEMBL4636056</td>\n",
              "      <td>CN1C(C)(C)CC(Nc2nc3c(-c4ccc(C(=O)N5C[C@@H]6C[C...</td>\n",
              "      <td>intermediate</td>\n",
              "      <td>579.749</td>\n",
              "      <td>5.3221</td>\n",
              "      <td>2.0</td>\n",
              "      <td>8.0</td>\n",
              "      <td>5.886057</td>\n",
              "      <td>(0, 1, 2, 3, 4, 5, 6, 7, 8, 9, 10, 11, 12, 13,...</td>\n",
              "      <td>(0, 1, 2, 3, 4, 5, 6, 7, 8, 9, 10, 11, 12, 13,...</td>\n",
              "    </tr>\n",
              "    <tr>\n",
              "      <th>10633</th>\n",
              "      <td>CHEMBL4643578</td>\n",
              "      <td>COC(=O)N1CCN(C(=O)c2ccc(-c3cnn4c(N)c(-c5ccccc5...</td>\n",
              "      <td>active</td>\n",
              "      <td>624.790</td>\n",
              "      <td>5.2330</td>\n",
              "      <td>2.0</td>\n",
              "      <td>9.0</td>\n",
              "      <td>6.050610</td>\n",
              "      <td>(0, 1, 2, 3, 4, 5, 6, 7, 8, 9, 10, 11, 12, 13,...</td>\n",
              "      <td>(0, 1, 2, 3, 4, 5, 6, 7, 8, 9, 10, 11, 12, 13,...</td>\n",
              "    </tr>\n",
              "    <tr>\n",
              "      <th>10634</th>\n",
              "      <td>CHEMBL4639022</td>\n",
              "      <td>CN1C(C)(C)CC(Nc2nc3c(-c4ccc(C(=O)N5CCN(S(C)(=O...</td>\n",
              "      <td>intermediate</td>\n",
              "      <td>644.846</td>\n",
              "      <td>4.4262</td>\n",
              "      <td>2.0</td>\n",
              "      <td>9.0</td>\n",
              "      <td>5.958607</td>\n",
              "      <td>(0, 1, 2, 3, 4, 5, 6, 7, 8, 9, 10, 11, 12, 13,...</td>\n",
              "      <td>(0, 1, 2, 3, 4, 5, 6, 7, 8, 9, 10, 11, 12, 13,...</td>\n",
              "    </tr>\n",
              "  </tbody>\n",
              "</table>\n",
              "<p>10635 rows × 10 columns</p>\n",
              "</div>"
            ],
            "text/plain": [
              "      molecule_chembl_id                                   canonical_smiles  \\\n",
              "0          CHEMBL2022564  CC[C@H](C)[C@H]1C(=O)N2CCC[C@H]2C(=O)O[C@H](C(...   \n",
              "1          CHEMBL3234200  CC[C@H](C)[C@H]1C(=O)N2CCC[C@H]2C(=O)O[C@H](C(...   \n",
              "2          CHEMBL3234201  CC[C@H](C)[C@H]1C(=O)N2CCC[C@H]2C(=O)O[C@H](C(...   \n",
              "3          CHEMBL3234202  CC[C@H](C)[C@H]1C(=O)N2CCC[C@H]2C(=O)O[C@H](C(...   \n",
              "4          CHEMBL3649592              CC1CCC(NCc2ccn(Cc3ccccc3)c(=O)c2O)CC1   \n",
              "...                  ...                                                ...   \n",
              "10630      CHEMBL4636800  COc1ccc(-c2cnn3c(N)c(-c4ccccc4)c(NCCCN(C)C)nc2...   \n",
              "10631      CHEMBL4644274  COc1ccc(-c2cnn3c(N)c(-c4ccccc4)c(NC4CC(C)(C)N(...   \n",
              "10632      CHEMBL4636056  CN1C(C)(C)CC(Nc2nc3c(-c4ccc(C(=O)N5C[C@@H]6C[C...   \n",
              "10633      CHEMBL4643578  COC(=O)N1CCN(C(=O)c2ccc(-c3cnn4c(N)c(-c5ccccc5...   \n",
              "10634      CHEMBL4639022  CN1C(C)(C)CC(Nc2nc3c(-c4ccc(C(=O)N5CCN(S(C)(=O...   \n",
              "\n",
              "              class       MW    LogP  NumHDonors  NumHAcceptors     pIC50  \\\n",
              "0            active  828.130  5.1124         2.0           10.0  9.494850   \n",
              "1            active  814.103  4.8664         2.0           10.0  9.522879   \n",
              "2            active  842.157  5.5025         2.0           10.0  9.327902   \n",
              "3            active  828.130  5.1124         2.0           10.0  9.920819   \n",
              "4          inactive  326.440  3.2705         2.0            4.0  4.562249   \n",
              "...             ...      ...     ...         ...            ...       ...   \n",
              "10630  intermediate  446.555  4.0263         2.0            8.0  5.102373   \n",
              "10631        active  514.674  5.7260         2.0            8.0  6.004365   \n",
              "10632  intermediate  579.749  5.3221         2.0            8.0  5.886057   \n",
              "10633        active  624.790  5.2330         2.0            9.0  6.050610   \n",
              "10634  intermediate  644.846  4.4262         2.0            9.0  5.958607   \n",
              "\n",
              "                                                  graphs  \\\n",
              "0      (0, 1, 2, 3, 4, 5, 6, 7, 8, 9, 10, 11, 12, 13,...   \n",
              "1      (0, 1, 2, 3, 4, 5, 6, 7, 8, 9, 10, 11, 12, 13,...   \n",
              "2      (0, 1, 2, 3, 4, 5, 6, 7, 8, 9, 10, 11, 12, 13,...   \n",
              "3      (0, 1, 2, 3, 4, 5, 6, 7, 8, 9, 10, 11, 12, 13,...   \n",
              "4      (0, 1, 2, 3, 4, 5, 6, 7, 8, 9, 10, 11, 12, 13,...   \n",
              "...                                                  ...   \n",
              "10630  (0, 1, 2, 3, 4, 5, 6, 7, 8, 9, 10, 11, 12, 13,...   \n",
              "10631  (0, 1, 2, 3, 4, 5, 6, 7, 8, 9, 10, 11, 12, 13,...   \n",
              "10632  (0, 1, 2, 3, 4, 5, 6, 7, 8, 9, 10, 11, 12, 13,...   \n",
              "10633  (0, 1, 2, 3, 4, 5, 6, 7, 8, 9, 10, 11, 12, 13,...   \n",
              "10634  (0, 1, 2, 3, 4, 5, 6, 7, 8, 9, 10, 11, 12, 13,...   \n",
              "\n",
              "                                          junction_trees  \n",
              "0      (0, 1, 2, 3, 4, 5, 6, 7, 8, 9, 10, 11, 12, 13,...  \n",
              "1      (0, 1, 2, 3, 4, 5, 6, 7, 8, 9, 10, 11, 12, 13,...  \n",
              "2      (0, 1, 2, 3, 4, 5, 6, 7, 8, 9, 10, 11, 12, 13,...  \n",
              "3      (0, 1, 2, 3, 4, 5, 6, 7, 8, 9, 10, 11, 12, 13,...  \n",
              "4      (0, 1, 2, 3, 4, 5, 6, 7, 8, 9, 10, 11, 12, 13,...  \n",
              "...                                                  ...  \n",
              "10630  (0, 1, 2, 3, 4, 5, 6, 7, 8, 9, 10, 11, 12, 13,...  \n",
              "10631  (0, 1, 2, 3, 4, 5, 6, 7, 8, 9, 10, 11, 12, 13,...  \n",
              "10632  (0, 1, 2, 3, 4, 5, 6, 7, 8, 9, 10, 11, 12, 13,...  \n",
              "10633  (0, 1, 2, 3, 4, 5, 6, 7, 8, 9, 10, 11, 12, 13,...  \n",
              "10634  (0, 1, 2, 3, 4, 5, 6, 7, 8, 9, 10, 11, 12, 13,...  \n",
              "\n",
              "[10635 rows x 10 columns]"
            ]
          },
          "execution_count": 12,
          "metadata": {},
          "output_type": "execute_result"
        }
      ],
      "source": [
        "# Aplicar la función graph_to_junction_tree a cada grafo y almacenar los Junction Trees en una nueva columna \"junction_trees\"\n",
        "df[\"junction_trees\"] = df[\"graphs\"].apply(graph_to_junction_tree)\n",
        "df"
      ]
    },
    {
      "cell_type": "code",
      "execution_count": 13,
      "metadata": {
        "colab": {
          "base_uri": "https://localhost:8080/",
          "height": 1000
        },
        "id": "4TU8BJmlILXP",
        "outputId": "1dae31a9-2008-476a-e186-98ba79caa074"
      },
      "outputs": [
        {
          "data": {
            "image/png": "[encoded data removed]",
            "text/plain": [
              "<Figure size 1200x1200 with 1 Axes>"
            ]
          },
          "metadata": {},
          "output_type": "display_data"
        }
      ],
      "source": [
        "junction_tree = df[\"junction_trees\"][6]\n",
        "# Visualizar el Junction Tree\n",
        "plt.figure(figsize=(12, 12))  # Aumentar el tamaño de la figura\n",
        "pos = nx.spring_layout(junction_tree, k=0.15)\n",
        "labels = nx.get_node_attributes(junction_tree, 'label')\n",
        "nx.draw(junction_tree, pos, labels=labels, with_labels=True, node_size=500, node_color='lightgreen', font_size=10, font_color='black')\n",
        "edge_labels = nx.get_edge_attributes(junction_tree, 'weight')\n",
        "nx.draw_networkx_edge_labels(junction_tree, pos, edge_labels=edge_labels)\n",
        "plt.show()"
      ]
    },
    {
      "cell_type": "code",
      "execution_count": 14,
      "metadata": {
        "colab": {
          "base_uri": "https://localhost:8080/"
        },
        "id": "6GfBnVIwUZd7",
        "outputId": "a9567dde-3661-45f8-c033-bd23a1a687af"
      },
      "outputs": [
        {
          "name": "stdout",
          "output_type": "stream",
          "text": [
            "0 {'label': 'C', 'atomic_num': 6}\n",
            "1 {'label': 'C', 'atomic_num': 6}\n",
            "2 {'label': 'N', 'atomic_num': 7}\n",
            "3 {'label': 'C', 'atomic_num': 6}\n",
            "4 {'label': 'C', 'atomic_num': 6}\n",
            "5 {'label': 'C', 'atomic_num': 6}\n",
            "6 {'label': 'C', 'atomic_num': 6}\n",
            "7 {'label': 'N', 'atomic_num': 7}\n",
            "8 {'label': 'C', 'atomic_num': 6}\n",
            "9 {'label': 'C', 'atomic_num': 6}\n",
            "10 {'label': 'C', 'atomic_num': 6}\n",
            "11 {'label': 'C', 'atomic_num': 6}\n",
            "12 {'label': 'C', 'atomic_num': 6}\n",
            "13 {'label': 'C', 'atomic_num': 6}\n",
            "14 {'label': 'C', 'atomic_num': 6}\n",
            "15 {'label': 'C', 'atomic_num': 6}\n",
            "16 {'label': 'O', 'atomic_num': 8}\n",
            "17 {'label': 'C', 'atomic_num': 6}\n",
            "18 {'label': 'O', 'atomic_num': 8}\n",
            "19 {'label': 'C', 'atomic_num': 6}\n",
            "20 {'label': 'C', 'atomic_num': 6}\n",
            "21 {'label': 'C', 'atomic_num': 6}\n",
            "22 {'label': 'C', 'atomic_num': 6}\n",
            "23 {'label': 'C', 'atomic_num': 6}\n",
            "24 {'label': 'C', 'atomic_num': 6}\n"
          ]
        }
      ],
      "source": [
        "# Convertir SMILES a Mol\n",
        "smile = df[\"canonical_smiles\"][6]\n",
        "\n",
        "# Crear el grafo molecular a partir del SMILES\n",
        "G_Test = mol_to_nx(smile)\n",
        "\n",
        "# Verificar los datos de los nodos\n",
        "for node, data in G_Test.nodes(data=True):\n",
        "    print(node, data)"
      ]
    },
    {
      "cell_type": "code",
      "execution_count": 15,
      "metadata": {
        "colab": {
          "base_uri": "https://localhost:8080/"
        },
        "id": "vOS_d6X5Cq6t",
        "outputId": "b0799cd1-af45-421b-82f8-66a0ab45d0f9"
      },
      "outputs": [
        {
          "name": "stdout",
          "output_type": "stream",
          "text": [
            "Molecular Graph Tensor Shape: torch.Size([25, 25])\n",
            "Molecular Graph Node Labels: tensor([6, 6, 7, 6, 6, 6, 6, 7, 6, 6, 6, 6, 6, 6, 6, 6, 8, 6, 8, 6, 6, 6, 6, 6,\n",
            "        6])\n",
            "Junction Tree Tensor Shape: torch.Size([27, 27])\n",
            "Junction Tree Node Labels: tensor([ 0,  1,  2,  3,  4,  5,  6,  7,  8,  9, 10, 11, 12, 13, 14, 15, 16, 17,\n",
            "        18, 19, 20, 21, 22, 23, 24, 25, 26])\n"
          ]
        }
      ],
      "source": [
        "def graph_to_tensor(graph, is_junction_tree=False):\n",
        "    # Convertir el grafo en una matriz de adyacencia\n",
        "    adj_matrix = nx.to_numpy_array(graph)\n",
        "\n",
        "    if is_junction_tree:\n",
        "        # Usar identificadores simples para los cliques en el Junction Tree\n",
        "        node_labels = list(graph.nodes())\n",
        "    else:\n",
        "        # Obtener los números atómicos de los nodos\n",
        "        node_labels = [data['atomic_num'] for _, data in graph.nodes(data=True)]\n",
        "\n",
        "    return torch.tensor(adj_matrix, dtype=torch.float32), torch.tensor(node_labels, dtype=torch.long)\n",
        "\n",
        "# Convertir el grafo molecular a tensor\n",
        "mol_tensor, mol_labels = graph_to_tensor(G_Test)\n",
        "\n",
        "# Convertir el Junction Tree a tensor\n",
        "jt_tensor, jt_labels = graph_to_tensor(junction_tree, is_junction_tree=True)\n",
        "\n",
        "print(\"Molecular Graph Tensor Shape:\", mol_tensor.shape)\n",
        "print(\"Molecular Graph Node Labels:\", mol_labels)\n",
        "print(\"Junction Tree Tensor Shape:\", jt_tensor.shape)\n",
        "print(\"Junction Tree Node Labels:\", jt_labels)\n"
      ]
    },
    {
      "cell_type": "code",
      "execution_count": 16,
      "metadata": {
        "id": "a0uYHSBcLeVo"
      },
      "outputs": [],
      "source": [
        "# Determinar el tamaño máximo de los tensores\n",
        "max_mol_dim = max(len(G) for G in df[\"graphs\"])\n",
        "max_jt_dim = max(len(JT) for JT in df[\"junction_trees\"])\n",
        "\n",
        "# Aplicar padding a los grafos moleculares y Junction Trees\n",
        "df[\"padded_mol_tensors\"] = df[\"graphs\"].apply(lambda G: pad_tensor(nx.to_numpy_array(G), max_mol_dim))\n",
        "df[\"padded_mol_labels\"] = df[\"graphs\"].apply(lambda G: pad_labels([data['atomic_num'] for _, data in G.nodes(data=True)], max_mol_dim))\n",
        "\n",
        "df[\"padded_jt_tensors\"] = df[\"junction_trees\"].apply(lambda JT: pad_tensor(nx.to_numpy_array(JT), max_jt_dim))\n",
        "df[\"padded_jt_labels\"] = df[\"junction_trees\"].apply(lambda JT: pad_labels(list(JT.nodes()), max_jt_dim))"
      ]
    },
    {
      "cell_type": "code",
      "execution_count": 17,
      "metadata": {
        "colab": {
          "base_uri": "https://localhost:8080/"
        },
        "id": "LG1OLTBfh-Q6",
        "outputId": "c7e4ddfc-2858-464b-bbf8-4c3bef94a0bb"
      },
      "outputs": [
        {
          "name": "stdout",
          "output_type": "stream",
          "text": [
            "Max mol dim:  145\n",
            "Max jt dim:  152\n"
          ]
        }
      ],
      "source": [
        "print(\"Max mol dim: \", max_mol_dim)\n",
        "print(\"Max jt dim: \", max_jt_dim)"
      ]
    },
    {
      "cell_type": "markdown",
      "metadata": {
        "id": "Rg-S3FUGpkOm"
      },
      "source": [
        "\n",
        "\n",
        "---\n",
        "\n",
        "Crear conjuntos de Entrenamiento y Pruebna\n"
      ]
    },
    {
      "cell_type": "code",
      "execution_count": 18,
      "metadata": {
        "id": "G1afZtdBpNkh"
      },
      "outputs": [],
      "source": [
        "# Dividir el DataFrame en entrenamiento y prueba (80% entrenamiento, 20% prueba)\n",
        "df_train, df_test = train_test_split(df, test_size=0.2, random_state=42)"
      ]
    },
    {
      "cell_type": "code",
      "execution_count": 19,
      "metadata": {
        "id": "LtCWh8UJgSG0"
      },
      "outputs": [],
      "source": [
        "class Encoder(nn.Module):\n",
        "    def __init__(self, input_dim, hidden_dim, latent_dim):\n",
        "        super(Encoder, self).__init__()\n",
        "        self.fc1 = nn.Linear(input_dim, hidden_dim)\n",
        "        self.fc2_mean = nn.Linear(hidden_dim, latent_dim)\n",
        "        self.fc2_logvar = nn.Linear(hidden_dim, latent_dim)\n",
        "\n",
        "    def forward(self, x):\n",
        "        h = F.relu(self.fc1(x))\n",
        "        mean = self.fc2_mean(h)\n",
        "        logvar = self.fc2_logvar(h)\n",
        "        return mean, logvar\n",
        "\n",
        "class Decoder(nn.Module):\n",
        "    def __init__(self, latent_dim, hidden_dim, output_dim):\n",
        "        super(Decoder, self).__init__()\n",
        "        self.fc1 = nn.Linear(latent_dim * 2, hidden_dim)  # Ajustar la entrada para latente concatenada\n",
        "        self.fc2 = nn.Linear(hidden_dim, output_dim)\n",
        "\n",
        "    def forward(self, z):\n",
        "        h = F.relu(self.fc1(z))\n",
        "        x_reconstructed = torch.sigmoid(self.fc2(h))\n",
        "        return x_reconstructed"
      ]
    },
    {
      "cell_type": "code",
      "execution_count": 20,
      "metadata": {
        "id": "wK0LygVbhIZg"
      },
      "outputs": [],
      "source": [
        "class JT_VAE(nn.Module):\n",
        "    def __init__(self, mol_dim, jt_dim, hidden_dim, latent_dim):\n",
        "        super(JT_VAE, self).__init__()\n",
        "        self.mol_encoder = Encoder(mol_dim, hidden_dim, latent_dim)\n",
        "        self.jt_encoder = Encoder(jt_dim, hidden_dim, latent_dim)\n",
        "        self.decoder = Decoder(latent_dim, hidden_dim, mol_dim + jt_dim)  # Ajustar la dimensión de entrada de acuerdo al latente concatenado\n",
        "\n",
        "    def reparameterize(self, mean, logvar):\n",
        "        std = torch.exp(0.5 * logvar)\n",
        "        eps = torch.randn_like(std)\n",
        "        return mean + eps * std\n",
        "\n",
        "    def forward(self, mol_tensor, jt_tensor):\n",
        "        mol_mean, mol_logvar = self.mol_encoder(mol_tensor)\n",
        "        jt_mean, jt_logvar = self.jt_encoder(jt_tensor)\n",
        "\n",
        "        mol_z = self.reparameterize(mol_mean, mol_logvar)\n",
        "        jt_z = self.reparameterize(jt_mean, jt_logvar)\n",
        "\n",
        "        # Aplicar mean pooling para asegurar dimensiones consistentes\n",
        "        mol_z = mol_z.mean(dim=1)\n",
        "        jt_z = jt_z.mean(dim=1)\n",
        "\n",
        "        z = torch.cat((mol_z, jt_z), dim=1)\n",
        "\n",
        "        reconstructed = self.decoder(z)\n",
        "        return reconstructed, mol_mean, mol_logvar, jt_mean, jt_logvar"
      ]
    },
    {
      "cell_type": "code",
      "execution_count": 21,
      "metadata": {
        "id": "sV10XFHwi7QZ"
      },
      "outputs": [],
      "source": [
        "def loss_function(reconstructed, mol_tensor, jt_tensor, mol_mean, mol_logvar, jt_mean, jt_logvar):\n",
        "    # Redimensionar los tensores para que coincidan antes de concatenarlos\n",
        "    mol_tensor = mol_tensor.mean(dim=1)\n",
        "    jt_tensor = jt_tensor.mean(dim=1)\n",
        "    target = torch.cat((mol_tensor, jt_tensor), dim=1)\n",
        "\n",
        "    BCE = F.binary_cross_entropy(reconstructed, target, reduction='sum')\n",
        "    KLD = -0.5 * torch.sum(1 + mol_logvar - mol_mean.pow(2) - mol_logvar.exp()) \\\n",
        "          -0.5 * torch.sum(1 + jt_logvar - jt_mean.pow(2) - jt_logvar.exp())\n",
        "    return BCE + KLD"
      ]
    },
    {
      "cell_type": "code",
      "execution_count": 22,
      "metadata": {
        "id": "y1-_2OXwi8qb"
      },
      "outputs": [],
      "source": [
        "# Continuar con el mismo proceso de entrenamiento\n",
        "def train(model, dataloader, optimizer, num_epochs, device):\n",
        "    model.train()\n",
        "    for epoch in range(num_epochs):\n",
        "        total_loss = 0\n",
        "        for mol_tensor, jt_tensor in dataloader:\n",
        "            mol_tensor = mol_tensor.to(device)\n",
        "            jt_tensor = jt_tensor.to(device)\n",
        "            optimizer.zero_grad()\n",
        "            reconstructed, mol_mean, mol_logvar, jt_mean, jt_logvar = model(mol_tensor, jt_tensor)\n",
        "            loss = loss_function(reconstructed, mol_tensor, jt_tensor, mol_mean, mol_logvar, jt_mean, jt_logvar)\n",
        "            loss.backward()\n",
        "            optimizer.step()\n",
        "            total_loss += loss.item()\n",
        "        print(f'Epoch {epoch + 1}, Loss: {total_loss / len(dataloader.dataset)}')"
      ]
    },
    {
      "cell_type": "code",
      "execution_count": 23,
      "metadata": {
        "id": "3oxV1WZti_ts"
      },
      "outputs": [],
      "source": [
        "# Crear un DataLoader con los datos del DataFrame\n",
        "class MolJTDataset(torch.utils.data.Dataset):\n",
        "    def __init__(self, df):\n",
        "        self.mol_tensors = list(df['padded_mol_tensors'].values)\n",
        "        self.jt_tensors = list(df['padded_jt_tensors'].values)\n",
        "\n",
        "    def __len__(self):\n",
        "        return len(self.mol_tensors)\n",
        "\n",
        "    def __getitem__(self, idx):\n",
        "        mol_tensor = self.mol_tensors[idx]\n",
        "        jt_tensor = self.jt_tensors[idx]\n",
        "        return mol_tensor, jt_tensor"
      ]
    },
    {
      "cell_type": "code",
      "execution_count": 24,
      "metadata": {
        "id": "I7ES71-3jDm2"
      },
      "outputs": [],
      "source": [
        "train_dataset = MolJTDataset(df_train)\n",
        "test_dataset = MolJTDataset(df_test)\n",
        "\n",
        "train_dataloader = torch.utils.data.DataLoader(train_dataset, batch_size=16, shuffle=True)\n",
        "test_dataloader = torch.utils.data.DataLoader(test_dataset, batch_size=16, shuffle=False)"
      ]
    },
    {
      "cell_type": "code",
      "execution_count": 25,
      "metadata": {
        "colab": {
          "base_uri": "https://localhost:8080/"
        },
        "id": "9Hw2Y1k3ke6I",
        "outputId": "9aaaf225-cbc7-44fc-fcb5-3848ebda3346"
      },
      "outputs": [
        {
          "name": "stderr",
          "output_type": "stream",
          "text": [
            "/Users/herromer/anaconda3/lib/python3.10/site-packages/tqdm/auto.py:21: TqdmWarning: IProgress not found. Please update jupyter and ipywidgets. See https://ipywidgets.readthedocs.io/en/stable/user_install.html\n",
            "  from .autonotebook import tqdm as notebook_tqdm\n"
          ]
        },
        {
          "name": "stdout",
          "output_type": "stream",
          "text": [
            "Epoch 1, Loss: 28.74479205315809\n",
            "Epoch 2, Loss: 6.965461140010746\n",
            "Epoch 3, Loss: 6.134070000516231\n",
            "Epoch 4, Loss: 5.992492961838709\n",
            "Epoch 5, Loss: 5.963130451448097\n"
          ]
        }
      ],
      "source": [
        "# Crear y entrenar el modelo\n",
        "mol_dim = max_mol_dim\n",
        "jt_dim = max_jt_dim\n",
        "hidden_dim = 128\n",
        "latent_dim = 64\n",
        "num_epochs = 5\n",
        "learning_rate = 1e-3\n",
        "\n",
        "model = JT_VAE(mol_dim, jt_dim, hidden_dim, latent_dim).to(device)\n",
        "optimizer = optim.Adam(model.parameters(), lr=learning_rate)\n",
        "\n",
        "train(model, train_dataloader, optimizer, num_epochs, device)"
      ]
    },
    {
      "cell_type": "code",
      "execution_count": 26,
      "metadata": {
        "id": "ikI2BkfPkqPj"
      },
      "outputs": [],
      "source": [
        "def evaluate(model, dataloader, device):\n",
        "    model.eval()\n",
        "    total_loss = 0\n",
        "    with torch.no_grad():\n",
        "        for mol_tensor, jt_tensor in dataloader:\n",
        "            mol_tensor = mol_tensor.to(device)\n",
        "            jt_tensor = jt_tensor.to(device)\n",
        "            reconstructed, mol_mean, mol_logvar, jt_mean, jt_logvar = model(mol_tensor, jt_tensor)\n",
        "            loss = loss_function(reconstructed, mol_tensor, jt_tensor, mol_mean, mol_logvar, jt_mean, jt_logvar)\n",
        "            total_loss += loss.item()\n",
        "    average_loss = total_loss / len(dataloader.dataset)\n",
        "    print(f'Test Loss: {average_loss}')"
      ]
    },
    {
      "cell_type": "code",
      "execution_count": 27,
      "metadata": {
        "colab": {
          "base_uri": "https://localhost:8080/"
        },
        "id": "GNRXrFbPp_0L",
        "outputId": "f15f03a2-9420-43c0-8aa8-89603f5970c7"
      },
      "outputs": [
        {
          "name": "stdout",
          "output_type": "stream",
          "text": [
            "Test Loss: 6.0073198426986\n"
          ]
        }
      ],
      "source": [
        "# Evaluar el modelo\n",
        "evaluate(model, test_dataloader, device)"
      ]
    },
    {
      "cell_type": "code",
      "execution_count": 34,
      "metadata": {
        "id": "wA_y3g79qAji"
      },
      "outputs": [],
      "source": [
        "def generate_new_molecules(model, num_samples, device):\n",
        "    model.eval()\n",
        "    with torch.no_grad():\n",
        "        z = torch.randn(num_samples, model.decoder.fc1.in_features).to(device)\n",
        "        generated = model.decoder(z)\n",
        "    return generated"
      ]
    },
    {
      "cell_type": "code",
      "execution_count": 35,
      "metadata": {
        "id": "kzbKwdyXrQmp"
      },
      "outputs": [],
      "source": [
        "def decode_tensor_to_smiles(tensor):\n",
        "    \"\"\"\n",
        "    Decodifica un tensor generado por el modelo en una cadena SMILES.\n",
        "    Este ejemplo utiliza valores atómicos para reconstruir la molécula.\n",
        "    \"\"\"\n",
        "    # Asegurarse de que el tensor sea de una dimensión y convertir a CPU si es necesario\n",
        "    if tensor.dim() > 1:\n",
        "        tensor = tensor.squeeze()\n",
        "\n",
        "    # Convertir a CPU si es necesario\n",
        "    tensor = tensor.cpu()\n",
        "\n",
        "    # Obtener los índices con los valores máximos\n",
        "    atom_numbers = tensor.argmax(dim=0).tolist()\n",
        "\n",
        "    print(\"atom_numbers: \", atom_numbers)\n",
        "\n",
        "    # Si atom_numbers es un solo valor, conviértelo en una lista\n",
        "    if isinstance(atom_numbers, int):\n",
        "        atom_numbers = [atom_numbers]\n",
        "\n",
        "    # Definir un rango de números atómicos válidos (1 a 118 para los elementos conocidos)\n",
        "    valid_atomic_numbers = set(range(1, 119))\n",
        "\n",
        "    mol = Chem.RWMol()\n",
        "\n",
        "    for atom_num in atom_numbers:\n",
        "        if atom_num in valid_atomic_numbers:  # Usar solo valores válidos\n",
        "            mol.AddAtom(Chem.Atom(int(atom_num)))\n",
        "\n",
        "    smiles = Chem.MolToSmiles(mol)\n",
        "    return smiles\n"
      ]
    },
    {
      "cell_type": "code",
      "execution_count": 36,
      "metadata": {
        "colab": {
          "base_uri": "https://localhost:8080/"
        },
        "id": "ZnzPS6aGrn_i",
        "outputId": "43c409d8-16c1-4f02-aada-003d339736c5"
      },
      "outputs": [
        {
          "name": "stdout",
          "output_type": "stream",
          "text": [
            "Tensores generados: tensor([[3.3445e-03, 3.9248e-03, 3.3642e-03, 3.7275e-03, 5.0656e-03, 4.8252e-03,\n",
            "         4.3643e-03, 3.1435e-03, 4.9442e-03, 4.4668e-03, 4.2160e-03, 3.6140e-03,\n",
            "         4.3459e-03, 3.7571e-03, 5.1611e-03, 3.0876e-03, 4.5619e-03, 4.7367e-03,\n",
            "         4.4103e-03, 4.5618e-03, 4.0882e-03, 4.8444e-03, 4.0249e-03, 4.4129e-03,\n",
            "         3.2375e-03, 3.9852e-03, 5.7426e-03, 5.4225e-03, 3.4107e-03, 3.6984e-03,\n",
            "         2.7985e-03, 3.9984e-03, 3.2383e-03, 4.6377e-03, 2.8136e-03, 4.4364e-03,\n",
            "         2.6438e-03, 1.5144e-03, 2.1880e-03, 1.3314e-03, 1.0275e-03, 9.8357e-04,\n",
            "         6.1919e-04, 5.3491e-04, 3.1611e-04, 1.9570e-04, 2.4413e-04, 8.5881e-05,\n",
            "         1.3598e-04, 1.1089e-04, 6.6461e-05, 5.7254e-05, 4.9588e-05, 8.9584e-05,\n",
            "         6.2845e-05, 7.7115e-05, 4.7147e-05, 8.7792e-05, 8.1153e-05, 4.9576e-05,\n",
            "         7.2476e-05, 7.3333e-05, 5.8479e-05, 5.9661e-05, 6.3360e-05, 4.8189e-05,\n",
            "         6.7848e-05, 4.9287e-05, 7.4366e-05, 4.2827e-05, 6.5960e-05, 5.6010e-05,\n",
            "         5.8152e-05, 4.8256e-05, 4.6873e-05, 4.0003e-05, 5.4253e-05, 4.6828e-05,\n",
            "         4.9710e-05, 3.4317e-05, 4.7670e-05, 4.1964e-05, 6.7805e-05, 3.9057e-05,\n",
            "         4.0342e-05, 2.5758e-05, 4.9588e-05, 3.6847e-05, 4.3506e-05, 3.4193e-05,\n",
            "         3.2946e-05, 4.3551e-05, 4.8674e-05, 2.3024e-05, 3.0030e-05, 3.9292e-05,\n",
            "         3.0951e-05, 4.2365e-05, 3.9979e-05, 4.1994e-05, 2.9875e-05, 4.0413e-05,\n",
            "         6.1652e-05, 3.4088e-05, 3.2553e-05, 5.0197e-05, 3.8690e-05, 5.5051e-05,\n",
            "         3.7184e-05, 4.4740e-05, 4.1223e-05, 3.0777e-05, 3.0446e-05, 3.0391e-05,\n",
            "         3.5923e-05, 2.9598e-05, 3.0285e-05, 3.2428e-05, 2.5747e-05, 4.4385e-05,\n",
            "         3.3555e-05, 2.8296e-05, 3.4360e-05, 2.9824e-05, 3.7164e-05, 2.4448e-05,\n",
            "         2.9184e-05, 2.6770e-05, 2.8802e-05, 3.4915e-05, 3.9747e-05, 3.1384e-05,\n",
            "         2.9160e-05, 2.8467e-05, 2.7131e-05, 2.5140e-05, 4.0013e-05, 3.2918e-05,\n",
            "         3.1489e-05, 2.3513e-05, 2.8478e-05, 2.4374e-05, 2.8618e-05, 2.9439e-05,\n",
            "         3.4367e-05, 4.8367e-03, 5.3221e-03, 5.5664e-03, 4.3658e-03, 4.0963e-03,\n",
            "         4.1431e-03, 4.0516e-03, 6.9531e-03, 5.7563e-03, 4.9074e-03, 5.4196e-03,\n",
            "         6.2781e-03, 6.4829e-03, 6.8555e-03, 5.3756e-03, 5.4887e-03, 5.2601e-03,\n",
            "         4.3341e-03, 4.6446e-03, 4.8116e-03, 4.4297e-03, 5.0250e-03, 6.3713e-03,\n",
            "         5.2707e-03, 4.6621e-03, 4.0671e-03, 5.1344e-03, 3.9363e-03, 5.1769e-03,\n",
            "         3.8809e-03, 3.3293e-03, 6.1230e-03, 3.6597e-03, 3.3988e-03, 2.7388e-03,\n",
            "         4.6165e-03, 2.9282e-03, 2.9086e-03, 2.5094e-03, 2.2488e-03, 1.8003e-03,\n",
            "         2.0016e-03, 2.4059e-03, 1.6248e-03, 1.1968e-03, 8.5668e-04, 9.7478e-04,\n",
            "         8.0419e-04, 4.7299e-04, 2.9728e-04, 2.7591e-04, 2.0493e-04, 1.1149e-04,\n",
            "         1.0302e-04, 8.7379e-05, 1.0562e-04, 1.3765e-04, 1.0967e-04, 6.1151e-05,\n",
            "         8.0251e-05, 8.0937e-05, 1.0982e-04, 3.8658e-05, 6.2951e-05, 5.3997e-05,\n",
            "         6.3811e-05, 6.5504e-05, 7.3474e-05, 5.4469e-05, 8.8391e-05, 7.0657e-05,\n",
            "         9.2403e-05, 3.9454e-05, 7.4204e-05, 4.2073e-05, 5.3869e-05, 4.0045e-05,\n",
            "         6.2937e-05, 5.5128e-05, 5.8382e-05, 3.6814e-05, 7.0786e-05, 7.2555e-05,\n",
            "         5.0912e-05, 6.2381e-05, 4.0115e-05, 4.8133e-05, 5.5059e-05, 5.0474e-05,\n",
            "         4.5086e-05, 4.9619e-05, 4.8619e-05, 5.0063e-05, 6.0448e-05, 5.4821e-05,\n",
            "         2.9873e-05, 3.5008e-05, 2.7091e-05, 3.3638e-05, 4.4130e-05, 4.9429e-05,\n",
            "         4.5026e-05, 3.9446e-05, 4.9692e-05, 3.9382e-05, 4.1708e-05, 4.8189e-05,\n",
            "         5.0685e-05, 4.9759e-05, 2.8591e-05, 4.1823e-05, 3.6893e-05, 2.8893e-05,\n",
            "         2.7933e-05, 5.9698e-05, 4.1165e-05, 4.7102e-05, 4.1476e-05, 5.6946e-05,\n",
            "         5.9482e-05, 2.8371e-05, 3.6018e-05, 2.8001e-05, 3.8823e-05, 4.0372e-05,\n",
            "         3.5530e-05, 3.2152e-05, 3.4798e-05, 3.8460e-05, 2.3312e-05, 3.2622e-05,\n",
            "         3.3216e-05, 3.1874e-05, 4.3514e-05, 4.3889e-05, 2.9160e-05, 2.6334e-05,\n",
            "         2.7341e-05, 3.6250e-05, 3.2133e-05, 2.8442e-05, 2.5081e-05, 2.9713e-05,\n",
            "         2.7559e-05, 3.7321e-05, 4.6314e-05, 2.9473e-05, 3.0015e-05, 4.0388e-05,\n",
            "         3.7372e-05, 3.9234e-05, 2.1527e-05]])\n",
            "atom_numbers:  152\n"
          ]
        }
      ],
      "source": [
        "# Paso 1: Generar nuevas moléculas y verificar la forma de los tensores\n",
        "new_molecules = generate_new_molecules(model, num_samples=1, device=device)\n",
        "print(\"Tensores generados:\", new_molecules)\n",
        "\n",
        "# Paso 3: Convertir tensores a SMILES\n",
        "new_smiles = [decode_tensor_to_smiles(tensor) for tensor in new_molecules]"
      ]
    },
    {
      "cell_type": "code",
      "execution_count": 37,
      "metadata": {
        "colab": {
          "base_uri": "https://localhost:8080/"
        },
        "id": "sIt4-idKqqYY",
        "outputId": "9e4431ac-132e-4a6b-cb47-de2c78c1c819"
      },
      "outputs": [
        {
          "name": "stdout",
          "output_type": "stream",
          "text": [
            "['']\n"
          ]
        }
      ],
      "source": [
        "print(new_smiles)"
      ]
    },
    {
      "cell_type": "code",
      "execution_count": 38,
      "metadata": {
        "colab": {
          "base_uri": "https://localhost:8080/",
          "height": 617
        },
        "id": "7ZvBYn_9q3d6",
        "outputId": "5314e8b6-fa7d-4e93-cb7b-1ca66a2af2e7"
      },
      "outputs": [
        {
          "data": {
            "image/png": "[encoded data removed]",
            "text/plain": [
              "<IPython.core.display.Image object>"
            ]
          },
          "execution_count": 38,
          "metadata": {},
          "output_type": "execute_result"
        }
      ],
      "source": [
        "n_cols=4\n",
        "mols = [Chem.MolFromSmiles(smile) for smile in new_smiles]\n",
        "Draw.MolsToGridImage(mols, molsPerRow=n_cols, subImgSize=(200, 200))"
      ]
    },
    {
      "cell_type": "code",
      "execution_count": null,
      "metadata": {
        "id": "dXm5nNpT5Ye4"
      },
      "outputs": [],
      "source": []
    }
  ],
  "metadata": {
    "accelerator": "GPU",
    "colab": {
      "gpuType": "L4",
      "machine_shape": "hm",
      "provenance": []
    },
    "kernelspec": {
      "display_name": "Python 3",
      "name": "python3"
    },
    "language_info": {
      "codemirror_mode": {
        "name": "ipython",
        "version": 3
      },
      "file_extension": ".py",
      "mimetype": "text/x-python",
      "name": "python",
      "nbconvert_exporter": "python",
      "pygments_lexer": "ipython3",
      "version": "3.10.9"
    }
  },
  "nbformat": 4,
  "nbformat_minor": 0
}
