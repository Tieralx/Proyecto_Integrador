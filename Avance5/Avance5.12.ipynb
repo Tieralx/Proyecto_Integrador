{
  "nbformat": 4,
  "nbformat_minor": 0,
  "metadata": {
    "colab": {
      "provenance": [],
      "gpuType": "T4"
    },
    "kernelspec": {
      "name": "python3",
      "display_name": "Python 3"
    },
    "language_info": {
      "name": "python"
    },
    "accelerator": "GPU"
  },
  "cells": [
    {
      "cell_type": "markdown",
      "source": [
        "# Instituto Tecnológico y de Estudios Superiores de Monterrey\n",
        "## Maestría en Inteligencia Artificial Aplicada\n",
        "### Proyecto Integrador (Gpo 10) - TC5035.10\n",
        "\n",
        "### **Proyecto: Diseño Acelerado de Fármacos**\n",
        "\n",
        "### Avance 5: Modelo Final\n",
        "\n",
        "#### **Docentes:**\n",
        "- Dra. Grettel Barceló Alonso - Profesor Titular\n",
        "- Dr. Luis Eduardo Falcón Morales - Profesor Titular\n",
        "- Dr. Ricardo Ambrocio Ramírez Mendoza  – Profesor Tutor\n",
        "\n",
        "#### **Miembros del equipo:**\n",
        "- Ernesto Enríquez Rubio - A01228409\n",
        "- Roberto Romero Vielma - A00822314\n",
        "- Herbert Joadan Romero Villarreal –  A01794199"
      ],
      "metadata": {
        "id": "DAYmOHhX06Y3"
      }
    },
    {
      "cell_type": "markdown",
      "source": [
        "\n",
        "\n",
        "---\n",
        "\n",
        "\n",
        "### Modelo Final\n",
        "#### Background:\n",
        "\n",
        "TODO: Explicar el background de por qué después de todo y en la metodología CRISP es bueno seleccionar un solo modelo final"
      ],
      "metadata": {
        "id": "g9E817jcLQOt"
      }
    },
    {
      "cell_type": "markdown",
      "source": [
        "\n",
        "\n",
        "---\n",
        "\n",
        "### Modelos de ensamble\n",
        "\n",
        "* En esta etapa se busca crear una variedad de modelos de ensamble para solucionar el problema planteado. Para ello, deberán tomar en cuenta las siguientes consideraciones:\n",
        "1.  Incluir la optimización de hiperparámetros para los modelos más relevantes.\n",
        "2. Utilizar algoritmos que apliquen tanto estrategias de ensamble homogéneas como heterogéneas.\n",
        "3. Para las estrategias de stacking y/o blending, se deberán emplear los modelos individuales de mejor rendimiento obtenidos en la fase anterior.\n",
        "\n",
        "\n",
        "* Una vez que se han generado los modelos de ensamble, sintetizar los resultados en una tabla comparativa en la que se incluyan los modelos individuales de la fase previa.\n",
        "\n",
        "1. Los modelos deben ser ordenados por la métrica principal, pero el resumen debe incorporar otras métricas pertinentes.\n",
        "2. Se deberán incluir también los tiempos de entrenamiento.\n",
        "3. Se elige el modelo final alineado con los objetivos y necesidades del negocio.\n",
        "\n",
        "\n",
        "* Del modelo elegido, generar algunos gráficos significativos con su interpretación. La siguiente lista proporciona ejemplos, pero no es exhaustiva:\n",
        "1. Curva ROC\n",
        "2. Matriz de confusión\n",
        "3. Curva de Precisión-Recall\n",
        "4. Análisis de residuos\n",
        "5. Gráfico de importancia de características\n",
        "6. Tendencia y predicción (para series temporales)\n",
        "7. Diagrama de árbol (para árboles de decisión)\n",
        "\n",
        "OJO Ernesto, no todos aplican para nuestro modelo. Solo utiliza los que sí.\n"
      ],
      "metadata": {
        "id": "jvkUJFWURW6c"
      }
    },
    {
      "cell_type": "markdown",
      "source": [
        "El descubrimiento de fármacos es un proceso complejo y multifacético que requiere la integración de datos experimentales y computacionales para identificar y optimizar compuestos potenciales que puedan convertirse en medicamentos efectivos. En este contexto, los modelos de aprendizaje automático juegan un papel crucial, permitiendo predecir propiedades fisicoquímicas, actividades biológicas y toxicidades de los compuestos de manera eficiente.\n",
        "\n",
        "El objetivo principal de este entregable es desarrollar un modelo predictivo robusto que pueda proporcionar estimaciones precisas de las actividades biológicas de compuestos químicos potenciales. Para lograr esto, se han implementado y evaluado varios algoritmos de aprendizaje automático, culminando en la selección del modelo Stacking Regressor como el modelo más efectivo.\n",
        "\n",
        "**Metodología**\n",
        "\n",
        "En el proyecto se compararon diferentes estrategias de ensamble, tanto homogéneas como heterogéneas, para encontrar el modelo más adecuado. Las estrategias incluyeron:\n",
        "\n",
        "Modelos Homogéneos:\n",
        "\n",
        "* Bagging Regressor con Decision Trees\n",
        "* Random Forest Regressor\n",
        "\n",
        "Modelos Heterogéneos:\n",
        "\n",
        "* Voting Regressor combinando Random Forest, SVR, y KNeighbors\n",
        "* Stacking Regressor combinando Random Forest, SVR, y KNeighbors\n",
        "\n",
        "**Optimización de Hiperparámetros**\n",
        "\n",
        "Se realizó una optimización exhaustiva de los hiperparámetros de cada modelo base utilizando técnicas como Evaluación Bayesiana, asegurando que cada modelo estuviera configurado de manera óptima.\n",
        "\n",
        "**Evaluación de Desempeño**\n",
        "\n",
        "Se utilizaron múltiples métricas para evaluar el desempeño de los modelos, incluyendo MAE, MSE, RMSE, MAPE, Explained Variance Score, Max Error, y R^2 Score. El Stacking Regressor, que combina las predicciones de varios modelos base a través de un meta-modelo de regresión lineal, demostró ser el más efectivo."
      ],
      "metadata": {
        "id": "uoned92F-Ril"
      }
    },
    {
      "cell_type": "markdown",
      "source": [
        "\n",
        "\n",
        "---\n",
        "\n",
        "### Código para el modelo"
      ],
      "metadata": {
        "id": "vG3PasQ73iHh"
      }
    },
    {
      "cell_type": "markdown",
      "source": [
        "Se importan las librerías necesarias y se instalan los paquetes de Python"
      ],
      "metadata": {
        "id": "LYjr2YB35ZZq"
      }
    },
    {
      "cell_type": "code",
      "source": [
        "%%capture\n",
        "! pip install scikit-optimize"
      ],
      "metadata": {
        "id": "V4G0tRCZ33s1"
      },
      "execution_count": 1,
      "outputs": []
    },
    {
      "cell_type": "code",
      "source": [
        "# Importar librerías necesarias\n",
        "\n",
        "# Basic libraries\n",
        "import pandas as pd\n",
        "import numpy as np\n",
        "import warnings\n",
        "import time\n",
        "\n",
        "# SKLearn Libraries\n",
        "from sklearn.ensemble import RandomForestRegressor\n",
        "from sklearn.ensemble import VotingRegressor\n",
        "from sklearn.ensemble import StackingRegressor\n",
        "from sklearn.svm import SVR\n",
        "from sklearn.neighbors import KNeighborsRegressor\n",
        "from sklearn.linear_model import LinearRegression\n",
        "\n",
        "from sklearn.metrics import mean_absolute_error\n",
        "from sklearn.metrics import mean_squared_error\n",
        "from sklearn.metrics import mean_absolute_percentage_error\n",
        "from sklearn.metrics import explained_variance_score\n",
        "from sklearn.metrics import max_error\n",
        "from sklearn.metrics import median_absolute_error\n",
        "from sklearn.metrics import r2_score\n",
        "\n",
        "from sklearn.exceptions import ConvergenceWarning\n",
        "from sklearn.feature_selection import VarianceThreshold\n",
        "\n",
        "from sklearn.model_selection import GridSearchCV\n",
        "from sklearn.model_selection import train_test_split\n",
        "from sklearn.model_selection import learning_curve\n",
        "from sklearn.model_selection import cross_val_score\n",
        "from sklearn.model_selection import learning_curve\n",
        "\n",
        "from sklearn.tree import plot_tree\n",
        "from sklearn.inspection import permutation_importance\n",
        "\n",
        "# SK Optimize Libraries\n",
        "from skopt.space import Real, Integer, Categorical\n",
        "from skopt.utils import use_named_args\n",
        "from skopt import gp_minimize\n",
        "\n",
        "# Plotting Libraries\n",
        "import seaborn as sns\n",
        "import matplotlib.pyplot as plt\n",
        "\n",
        "# Colab libraries\n",
        "from google.colab import data_table"
      ],
      "metadata": {
        "id": "vMbvkirN3TOC"
      },
      "execution_count": 47,
      "outputs": []
    },
    {
      "cell_type": "markdown",
      "source": [
        "# **Optimización de hiperparámetros para los modelos más relevantes**"
      ],
      "metadata": {
        "id": "wnZABrqT38n8"
      }
    },
    {
      "cell_type": "markdown",
      "source": [
        "Cargamos los datos generados en fases anteriores"
      ],
      "metadata": {
        "id": "VVNR86lI5e6l"
      }
    },
    {
      "cell_type": "code",
      "source": [
        "# URL of the raw file on GitHub\n",
        "url = \"https://raw.githubusercontent.com/rromerov/Proyecto_Integrador/main/bioactivity_data_2class_pIC50_pubchem_fp.csv\"\n",
        "\n",
        "# Load the DataFrame\n",
        "df_bioactivity = pd.read_csv(url)\n",
        "\n",
        "df_bioactivity.head(10)"
      ],
      "metadata": {
        "colab": {
          "base_uri": "https://localhost:8080/",
          "height": 408
        },
        "id": "FIzHp1cM3KuK",
        "outputId": "730b8152-504a-4588-8c18-3333b7d45e5a"
      },
      "execution_count": 3,
      "outputs": [
        {
          "output_type": "execute_result",
          "data": {
            "text/plain": [
              "   PubchemFP0  PubchemFP1  PubchemFP2  PubchemFP3  PubchemFP4  PubchemFP5  \\\n",
              "0           1           1           1           0           0           0   \n",
              "1           1           1           1           0           0           0   \n",
              "2           1           1           1           0           0           0   \n",
              "3           1           1           1           0           0           0   \n",
              "4           1           1           1           0           0           0   \n",
              "5           1           1           1           0           0           0   \n",
              "6           1           1           1           0           0           0   \n",
              "7           1           1           1           0           0           0   \n",
              "8           1           1           1           0           0           0   \n",
              "9           1           1           1           0           0           0   \n",
              "\n",
              "   PubchemFP6  PubchemFP7  PubchemFP8  PubchemFP9  ...  PubchemFP872  \\\n",
              "0           0           0           0           1  ...             0   \n",
              "1           0           0           0           1  ...             0   \n",
              "2           0           0           0           1  ...             0   \n",
              "3           0           0           0           1  ...             0   \n",
              "4           0           0           0           1  ...             0   \n",
              "5           0           0           0           1  ...             0   \n",
              "6           0           0           0           1  ...             0   \n",
              "7           0           0           0           1  ...             0   \n",
              "8           0           0           0           1  ...             0   \n",
              "9           0           0           0           1  ...             0   \n",
              "\n",
              "   PubchemFP873  PubchemFP874  PubchemFP875  PubchemFP876  PubchemFP877  \\\n",
              "0             0             0             0             0             0   \n",
              "1             0             0             0             0             0   \n",
              "2             0             0             0             0             0   \n",
              "3             0             0             0             0             0   \n",
              "4             0             0             0             0             0   \n",
              "5             0             0             0             0             0   \n",
              "6             0             0             0             0             0   \n",
              "7             0             0             0             0             0   \n",
              "8             0             0             0             0             0   \n",
              "9             0             0             0             0             0   \n",
              "\n",
              "   PubchemFP878  PubchemFP879  PubchemFP880     pIC50  \n",
              "0             0             0             0  4.371611  \n",
              "1             0             0             0  4.562249  \n",
              "2             0             0             0  4.275724  \n",
              "3             0             0             0  4.686133  \n",
              "4             0             0             0  4.275724  \n",
              "5             0             0             0  4.107905  \n",
              "6             0             0             0  4.201349  \n",
              "7             0             0             0  4.899629  \n",
              "8             0             0             0  4.534617  \n",
              "9             0             0             0  4.568636  \n",
              "\n",
              "[10 rows x 882 columns]"
            ],
            "text/html": [
              "\n",
              "  <div id=\"df-d8b7ce8c-efad-4e29-8b04-47423e0cdea5\" class=\"colab-df-container\">\n",
              "    <div>\n",
              "<style scoped>\n",
              "    .dataframe tbody tr th:only-of-type {\n",
              "        vertical-align: middle;\n",
              "    }\n",
              "\n",
              "    .dataframe tbody tr th {\n",
              "        vertical-align: top;\n",
              "    }\n",
              "\n",
              "    .dataframe thead th {\n",
              "        text-align: right;\n",
              "    }\n",
              "</style>\n",
              "<table border=\"1\" class=\"dataframe\">\n",
              "  <thead>\n",
              "    <tr style=\"text-align: right;\">\n",
              "      <th></th>\n",
              "      <th>PubchemFP0</th>\n",
              "      <th>PubchemFP1</th>\n",
              "      <th>PubchemFP2</th>\n",
              "      <th>PubchemFP3</th>\n",
              "      <th>PubchemFP4</th>\n",
              "      <th>PubchemFP5</th>\n",
              "      <th>PubchemFP6</th>\n",
              "      <th>PubchemFP7</th>\n",
              "      <th>PubchemFP8</th>\n",
              "      <th>PubchemFP9</th>\n",
              "      <th>...</th>\n",
              "      <th>PubchemFP872</th>\n",
              "      <th>PubchemFP873</th>\n",
              "      <th>PubchemFP874</th>\n",
              "      <th>PubchemFP875</th>\n",
              "      <th>PubchemFP876</th>\n",
              "      <th>PubchemFP877</th>\n",
              "      <th>PubchemFP878</th>\n",
              "      <th>PubchemFP879</th>\n",
              "      <th>PubchemFP880</th>\n",
              "      <th>pIC50</th>\n",
              "    </tr>\n",
              "  </thead>\n",
              "  <tbody>\n",
              "    <tr>\n",
              "      <th>0</th>\n",
              "      <td>1</td>\n",
              "      <td>1</td>\n",
              "      <td>1</td>\n",
              "      <td>0</td>\n",
              "      <td>0</td>\n",
              "      <td>0</td>\n",
              "      <td>0</td>\n",
              "      <td>0</td>\n",
              "      <td>0</td>\n",
              "      <td>1</td>\n",
              "      <td>...</td>\n",
              "      <td>0</td>\n",
              "      <td>0</td>\n",
              "      <td>0</td>\n",
              "      <td>0</td>\n",
              "      <td>0</td>\n",
              "      <td>0</td>\n",
              "      <td>0</td>\n",
              "      <td>0</td>\n",
              "      <td>0</td>\n",
              "      <td>4.371611</td>\n",
              "    </tr>\n",
              "    <tr>\n",
              "      <th>1</th>\n",
              "      <td>1</td>\n",
              "      <td>1</td>\n",
              "      <td>1</td>\n",
              "      <td>0</td>\n",
              "      <td>0</td>\n",
              "      <td>0</td>\n",
              "      <td>0</td>\n",
              "      <td>0</td>\n",
              "      <td>0</td>\n",
              "      <td>1</td>\n",
              "      <td>...</td>\n",
              "      <td>0</td>\n",
              "      <td>0</td>\n",
              "      <td>0</td>\n",
              "      <td>0</td>\n",
              "      <td>0</td>\n",
              "      <td>0</td>\n",
              "      <td>0</td>\n",
              "      <td>0</td>\n",
              "      <td>0</td>\n",
              "      <td>4.562249</td>\n",
              "    </tr>\n",
              "    <tr>\n",
              "      <th>2</th>\n",
              "      <td>1</td>\n",
              "      <td>1</td>\n",
              "      <td>1</td>\n",
              "      <td>0</td>\n",
              "      <td>0</td>\n",
              "      <td>0</td>\n",
              "      <td>0</td>\n",
              "      <td>0</td>\n",
              "      <td>0</td>\n",
              "      <td>1</td>\n",
              "      <td>...</td>\n",
              "      <td>0</td>\n",
              "      <td>0</td>\n",
              "      <td>0</td>\n",
              "      <td>0</td>\n",
              "      <td>0</td>\n",
              "      <td>0</td>\n",
              "      <td>0</td>\n",
              "      <td>0</td>\n",
              "      <td>0</td>\n",
              "      <td>4.275724</td>\n",
              "    </tr>\n",
              "    <tr>\n",
              "      <th>3</th>\n",
              "      <td>1</td>\n",
              "      <td>1</td>\n",
              "      <td>1</td>\n",
              "      <td>0</td>\n",
              "      <td>0</td>\n",
              "      <td>0</td>\n",
              "      <td>0</td>\n",
              "      <td>0</td>\n",
              "      <td>0</td>\n",
              "      <td>1</td>\n",
              "      <td>...</td>\n",
              "      <td>0</td>\n",
              "      <td>0</td>\n",
              "      <td>0</td>\n",
              "      <td>0</td>\n",
              "      <td>0</td>\n",
              "      <td>0</td>\n",
              "      <td>0</td>\n",
              "      <td>0</td>\n",
              "      <td>0</td>\n",
              "      <td>4.686133</td>\n",
              "    </tr>\n",
              "    <tr>\n",
              "      <th>4</th>\n",
              "      <td>1</td>\n",
              "      <td>1</td>\n",
              "      <td>1</td>\n",
              "      <td>0</td>\n",
              "      <td>0</td>\n",
              "      <td>0</td>\n",
              "      <td>0</td>\n",
              "      <td>0</td>\n",
              "      <td>0</td>\n",
              "      <td>1</td>\n",
              "      <td>...</td>\n",
              "      <td>0</td>\n",
              "      <td>0</td>\n",
              "      <td>0</td>\n",
              "      <td>0</td>\n",
              "      <td>0</td>\n",
              "      <td>0</td>\n",
              "      <td>0</td>\n",
              "      <td>0</td>\n",
              "      <td>0</td>\n",
              "      <td>4.275724</td>\n",
              "    </tr>\n",
              "    <tr>\n",
              "      <th>5</th>\n",
              "      <td>1</td>\n",
              "      <td>1</td>\n",
              "      <td>1</td>\n",
              "      <td>0</td>\n",
              "      <td>0</td>\n",
              "      <td>0</td>\n",
              "      <td>0</td>\n",
              "      <td>0</td>\n",
              "      <td>0</td>\n",
              "      <td>1</td>\n",
              "      <td>...</td>\n",
              "      <td>0</td>\n",
              "      <td>0</td>\n",
              "      <td>0</td>\n",
              "      <td>0</td>\n",
              "      <td>0</td>\n",
              "      <td>0</td>\n",
              "      <td>0</td>\n",
              "      <td>0</td>\n",
              "      <td>0</td>\n",
              "      <td>4.107905</td>\n",
              "    </tr>\n",
              "    <tr>\n",
              "      <th>6</th>\n",
              "      <td>1</td>\n",
              "      <td>1</td>\n",
              "      <td>1</td>\n",
              "      <td>0</td>\n",
              "      <td>0</td>\n",
              "      <td>0</td>\n",
              "      <td>0</td>\n",
              "      <td>0</td>\n",
              "      <td>0</td>\n",
              "      <td>1</td>\n",
              "      <td>...</td>\n",
              "      <td>0</td>\n",
              "      <td>0</td>\n",
              "      <td>0</td>\n",
              "      <td>0</td>\n",
              "      <td>0</td>\n",
              "      <td>0</td>\n",
              "      <td>0</td>\n",
              "      <td>0</td>\n",
              "      <td>0</td>\n",
              "      <td>4.201349</td>\n",
              "    </tr>\n",
              "    <tr>\n",
              "      <th>7</th>\n",
              "      <td>1</td>\n",
              "      <td>1</td>\n",
              "      <td>1</td>\n",
              "      <td>0</td>\n",
              "      <td>0</td>\n",
              "      <td>0</td>\n",
              "      <td>0</td>\n",
              "      <td>0</td>\n",
              "      <td>0</td>\n",
              "      <td>1</td>\n",
              "      <td>...</td>\n",
              "      <td>0</td>\n",
              "      <td>0</td>\n",
              "      <td>0</td>\n",
              "      <td>0</td>\n",
              "      <td>0</td>\n",
              "      <td>0</td>\n",
              "      <td>0</td>\n",
              "      <td>0</td>\n",
              "      <td>0</td>\n",
              "      <td>4.899629</td>\n",
              "    </tr>\n",
              "    <tr>\n",
              "      <th>8</th>\n",
              "      <td>1</td>\n",
              "      <td>1</td>\n",
              "      <td>1</td>\n",
              "      <td>0</td>\n",
              "      <td>0</td>\n",
              "      <td>0</td>\n",
              "      <td>0</td>\n",
              "      <td>0</td>\n",
              "      <td>0</td>\n",
              "      <td>1</td>\n",
              "      <td>...</td>\n",
              "      <td>0</td>\n",
              "      <td>0</td>\n",
              "      <td>0</td>\n",
              "      <td>0</td>\n",
              "      <td>0</td>\n",
              "      <td>0</td>\n",
              "      <td>0</td>\n",
              "      <td>0</td>\n",
              "      <td>0</td>\n",
              "      <td>4.534617</td>\n",
              "    </tr>\n",
              "    <tr>\n",
              "      <th>9</th>\n",
              "      <td>1</td>\n",
              "      <td>1</td>\n",
              "      <td>1</td>\n",
              "      <td>0</td>\n",
              "      <td>0</td>\n",
              "      <td>0</td>\n",
              "      <td>0</td>\n",
              "      <td>0</td>\n",
              "      <td>0</td>\n",
              "      <td>1</td>\n",
              "      <td>...</td>\n",
              "      <td>0</td>\n",
              "      <td>0</td>\n",
              "      <td>0</td>\n",
              "      <td>0</td>\n",
              "      <td>0</td>\n",
              "      <td>0</td>\n",
              "      <td>0</td>\n",
              "      <td>0</td>\n",
              "      <td>0</td>\n",
              "      <td>4.568636</td>\n",
              "    </tr>\n",
              "  </tbody>\n",
              "</table>\n",
              "<p>10 rows × 882 columns</p>\n",
              "</div>\n",
              "    <div class=\"colab-df-buttons\">\n",
              "\n",
              "  <div class=\"colab-df-container\">\n",
              "    <button class=\"colab-df-convert\" onclick=\"convertToInteractive('df-d8b7ce8c-efad-4e29-8b04-47423e0cdea5')\"\n",
              "            title=\"Convert this dataframe to an interactive table.\"\n",
              "            style=\"display:none;\">\n",
              "\n",
              "  <svg xmlns=\"http://www.w3.org/2000/svg\" height=\"24px\" viewBox=\"0 -960 960 960\">\n",
              "    <path d=\"M120-120v-720h720v720H120Zm60-500h600v-160H180v160Zm220 220h160v-160H400v160Zm0 220h160v-160H400v160ZM180-400h160v-160H180v160Zm440 0h160v-160H620v160ZM180-180h160v-160H180v160Zm440 0h160v-160H620v160Z\"/>\n",
              "  </svg>\n",
              "    </button>\n",
              "\n",
              "  <style>\n",
              "    .colab-df-container {\n",
              "      display:flex;\n",
              "      gap: 12px;\n",
              "    }\n",
              "\n",
              "    .colab-df-convert {\n",
              "      background-color: #E8F0FE;\n",
              "      border: none;\n",
              "      border-radius: 50%;\n",
              "      cursor: pointer;\n",
              "      display: none;\n",
              "      fill: #1967D2;\n",
              "      height: 32px;\n",
              "      padding: 0 0 0 0;\n",
              "      width: 32px;\n",
              "    }\n",
              "\n",
              "    .colab-df-convert:hover {\n",
              "      background-color: #E2EBFA;\n",
              "      box-shadow: 0px 1px 2px rgba(60, 64, 67, 0.3), 0px 1px 3px 1px rgba(60, 64, 67, 0.15);\n",
              "      fill: #174EA6;\n",
              "    }\n",
              "\n",
              "    .colab-df-buttons div {\n",
              "      margin-bottom: 4px;\n",
              "    }\n",
              "\n",
              "    [theme=dark] .colab-df-convert {\n",
              "      background-color: #3B4455;\n",
              "      fill: #D2E3FC;\n",
              "    }\n",
              "\n",
              "    [theme=dark] .colab-df-convert:hover {\n",
              "      background-color: #434B5C;\n",
              "      box-shadow: 0px 1px 3px 1px rgba(0, 0, 0, 0.15);\n",
              "      filter: drop-shadow(0px 1px 2px rgba(0, 0, 0, 0.3));\n",
              "      fill: #FFFFFF;\n",
              "    }\n",
              "  </style>\n",
              "\n",
              "    <script>\n",
              "      const buttonEl =\n",
              "        document.querySelector('#df-d8b7ce8c-efad-4e29-8b04-47423e0cdea5 button.colab-df-convert');\n",
              "      buttonEl.style.display =\n",
              "        google.colab.kernel.accessAllowed ? 'block' : 'none';\n",
              "\n",
              "      async function convertToInteractive(key) {\n",
              "        const element = document.querySelector('#df-d8b7ce8c-efad-4e29-8b04-47423e0cdea5');\n",
              "        const dataTable =\n",
              "          await google.colab.kernel.invokeFunction('convertToInteractive',\n",
              "                                                    [key], {});\n",
              "        if (!dataTable) return;\n",
              "\n",
              "        const docLinkHtml = 'Like what you see? Visit the ' +\n",
              "          '<a target=\"_blank\" href=https://colab.research.google.com/notebooks/data_table.ipynb>data table notebook</a>'\n",
              "          + ' to learn more about interactive tables.';\n",
              "        element.innerHTML = '';\n",
              "        dataTable['output_type'] = 'display_data';\n",
              "        await google.colab.output.renderOutput(dataTable, element);\n",
              "        const docLink = document.createElement('div');\n",
              "        docLink.innerHTML = docLinkHtml;\n",
              "        element.appendChild(docLink);\n",
              "      }\n",
              "    </script>\n",
              "  </div>\n",
              "\n",
              "\n",
              "<div id=\"df-17e563b7-0fd9-4841-9830-b2b37c10f856\">\n",
              "  <button class=\"colab-df-quickchart\" onclick=\"quickchart('df-17e563b7-0fd9-4841-9830-b2b37c10f856')\"\n",
              "            title=\"Suggest charts\"\n",
              "            style=\"display:none;\">\n",
              "\n",
              "<svg xmlns=\"http://www.w3.org/2000/svg\" height=\"24px\"viewBox=\"0 0 24 24\"\n",
              "     width=\"24px\">\n",
              "    <g>\n",
              "        <path d=\"M19 3H5c-1.1 0-2 .9-2 2v14c0 1.1.9 2 2 2h14c1.1 0 2-.9 2-2V5c0-1.1-.9-2-2-2zM9 17H7v-7h2v7zm4 0h-2V7h2v10zm4 0h-2v-4h2v4z\"/>\n",
              "    </g>\n",
              "</svg>\n",
              "  </button>\n",
              "\n",
              "<style>\n",
              "  .colab-df-quickchart {\n",
              "      --bg-color: #E8F0FE;\n",
              "      --fill-color: #1967D2;\n",
              "      --hover-bg-color: #E2EBFA;\n",
              "      --hover-fill-color: #174EA6;\n",
              "      --disabled-fill-color: #AAA;\n",
              "      --disabled-bg-color: #DDD;\n",
              "  }\n",
              "\n",
              "  [theme=dark] .colab-df-quickchart {\n",
              "      --bg-color: #3B4455;\n",
              "      --fill-color: #D2E3FC;\n",
              "      --hover-bg-color: #434B5C;\n",
              "      --hover-fill-color: #FFFFFF;\n",
              "      --disabled-bg-color: #3B4455;\n",
              "      --disabled-fill-color: #666;\n",
              "  }\n",
              "\n",
              "  .colab-df-quickchart {\n",
              "    background-color: var(--bg-color);\n",
              "    border: none;\n",
              "    border-radius: 50%;\n",
              "    cursor: pointer;\n",
              "    display: none;\n",
              "    fill: var(--fill-color);\n",
              "    height: 32px;\n",
              "    padding: 0;\n",
              "    width: 32px;\n",
              "  }\n",
              "\n",
              "  .colab-df-quickchart:hover {\n",
              "    background-color: var(--hover-bg-color);\n",
              "    box-shadow: 0 1px 2px rgba(60, 64, 67, 0.3), 0 1px 3px 1px rgba(60, 64, 67, 0.15);\n",
              "    fill: var(--button-hover-fill-color);\n",
              "  }\n",
              "\n",
              "  .colab-df-quickchart-complete:disabled,\n",
              "  .colab-df-quickchart-complete:disabled:hover {\n",
              "    background-color: var(--disabled-bg-color);\n",
              "    fill: var(--disabled-fill-color);\n",
              "    box-shadow: none;\n",
              "  }\n",
              "\n",
              "  .colab-df-spinner {\n",
              "    border: 2px solid var(--fill-color);\n",
              "    border-color: transparent;\n",
              "    border-bottom-color: var(--fill-color);\n",
              "    animation:\n",
              "      spin 1s steps(1) infinite;\n",
              "  }\n",
              "\n",
              "  @keyframes spin {\n",
              "    0% {\n",
              "      border-color: transparent;\n",
              "      border-bottom-color: var(--fill-color);\n",
              "      border-left-color: var(--fill-color);\n",
              "    }\n",
              "    20% {\n",
              "      border-color: transparent;\n",
              "      border-left-color: var(--fill-color);\n",
              "      border-top-color: var(--fill-color);\n",
              "    }\n",
              "    30% {\n",
              "      border-color: transparent;\n",
              "      border-left-color: var(--fill-color);\n",
              "      border-top-color: var(--fill-color);\n",
              "      border-right-color: var(--fill-color);\n",
              "    }\n",
              "    40% {\n",
              "      border-color: transparent;\n",
              "      border-right-color: var(--fill-color);\n",
              "      border-top-color: var(--fill-color);\n",
              "    }\n",
              "    60% {\n",
              "      border-color: transparent;\n",
              "      border-right-color: var(--fill-color);\n",
              "    }\n",
              "    80% {\n",
              "      border-color: transparent;\n",
              "      border-right-color: var(--fill-color);\n",
              "      border-bottom-color: var(--fill-color);\n",
              "    }\n",
              "    90% {\n",
              "      border-color: transparent;\n",
              "      border-bottom-color: var(--fill-color);\n",
              "    }\n",
              "  }\n",
              "</style>\n",
              "\n",
              "  <script>\n",
              "    async function quickchart(key) {\n",
              "      const quickchartButtonEl =\n",
              "        document.querySelector('#' + key + ' button');\n",
              "      quickchartButtonEl.disabled = true;  // To prevent multiple clicks.\n",
              "      quickchartButtonEl.classList.add('colab-df-spinner');\n",
              "      try {\n",
              "        const charts = await google.colab.kernel.invokeFunction(\n",
              "            'suggestCharts', [key], {});\n",
              "      } catch (error) {\n",
              "        console.error('Error during call to suggestCharts:', error);\n",
              "      }\n",
              "      quickchartButtonEl.classList.remove('colab-df-spinner');\n",
              "      quickchartButtonEl.classList.add('colab-df-quickchart-complete');\n",
              "    }\n",
              "    (() => {\n",
              "      let quickchartButtonEl =\n",
              "        document.querySelector('#df-17e563b7-0fd9-4841-9830-b2b37c10f856 button');\n",
              "      quickchartButtonEl.style.display =\n",
              "        google.colab.kernel.accessAllowed ? 'block' : 'none';\n",
              "    })();\n",
              "  </script>\n",
              "</div>\n",
              "\n",
              "    </div>\n",
              "  </div>\n"
            ],
            "application/vnd.google.colaboratory.intrinsic+json": {
              "type": "dataframe",
              "variable_name": "df_bioactivity"
            }
          },
          "metadata": {},
          "execution_count": 3
        }
      ]
    },
    {
      "cell_type": "markdown",
      "source": [
        "#### Etiquetas y variable objetivo\n",
        "\n",
        "Separación de características (fingerprints) y etiqueta (pIC50)\n",
        "\n",
        "**El conjunto de datos de Neuropilin-1 contiene 881 características (Columnas) y 1 variable de salida (valores pIC50).**\n"
      ],
      "metadata": {
        "id": "CfszQFR35eq-"
      }
    },
    {
      "cell_type": "code",
      "source": [
        "# Se define conjunto X para las etiquetas\n",
        "X = df_bioactivity.drop('pIC50', axis=1)\n",
        "# Mostrar contenido en el conjunto de X\n",
        "X"
      ],
      "metadata": {
        "id": "FqVKSHvz5o3H",
        "outputId": "63f8a867-1ba7-4db1-c48e-7de1236f1e05",
        "colab": {
          "base_uri": "https://localhost:8080/",
          "height": 439
        }
      },
      "execution_count": 4,
      "outputs": [
        {
          "output_type": "execute_result",
          "data": {
            "text/plain": [
              "      PubchemFP0  PubchemFP1  PubchemFP2  PubchemFP3  PubchemFP4  PubchemFP5  \\\n",
              "0              1           1           1           0           0           0   \n",
              "1              1           1           1           0           0           0   \n",
              "2              1           1           1           0           0           0   \n",
              "3              1           1           1           0           0           0   \n",
              "4              1           1           1           0           0           0   \n",
              "...          ...         ...         ...         ...         ...         ...   \n",
              "8460           1           1           0           0           0           0   \n",
              "8461           1           1           1           0           0           0   \n",
              "8462           1           1           1           0           0           0   \n",
              "8463           1           1           1           1           0           0   \n",
              "8464           1           1           1           1           0           0   \n",
              "\n",
              "      PubchemFP6  PubchemFP7  PubchemFP8  PubchemFP9  ...  PubchemFP871  \\\n",
              "0              0           0           0           1  ...             0   \n",
              "1              0           0           0           1  ...             0   \n",
              "2              0           0           0           1  ...             0   \n",
              "3              0           0           0           1  ...             0   \n",
              "4              0           0           0           1  ...             0   \n",
              "...          ...         ...         ...         ...  ...           ...   \n",
              "8460           0           0           0           1  ...             0   \n",
              "8461           0           0           0           1  ...             0   \n",
              "8462           0           0           0           1  ...             0   \n",
              "8463           0           0           0           1  ...             0   \n",
              "8464           0           0           0           1  ...             0   \n",
              "\n",
              "      PubchemFP872  PubchemFP873  PubchemFP874  PubchemFP875  PubchemFP876  \\\n",
              "0                0             0             0             0             0   \n",
              "1                0             0             0             0             0   \n",
              "2                0             0             0             0             0   \n",
              "3                0             0             0             0             0   \n",
              "4                0             0             0             0             0   \n",
              "...            ...           ...           ...           ...           ...   \n",
              "8460             0             0             0             0             0   \n",
              "8461             0             0             0             0             0   \n",
              "8462             0             0             0             0             0   \n",
              "8463             0             0             0             0             0   \n",
              "8464             0             0             0             0             0   \n",
              "\n",
              "      PubchemFP877  PubchemFP878  PubchemFP879  PubchemFP880  \n",
              "0                0             0             0             0  \n",
              "1                0             0             0             0  \n",
              "2                0             0             0             0  \n",
              "3                0             0             0             0  \n",
              "4                0             0             0             0  \n",
              "...            ...           ...           ...           ...  \n",
              "8460             0             0             0             0  \n",
              "8461             0             0             0             0  \n",
              "8462             0             0             0             0  \n",
              "8463             0             0             0             0  \n",
              "8464             0             0             0             0  \n",
              "\n",
              "[8465 rows x 881 columns]"
            ],
            "text/html": [
              "\n",
              "  <div id=\"df-d323d11a-0e29-443a-8cf0-70a7d5500d4d\" class=\"colab-df-container\">\n",
              "    <div>\n",
              "<style scoped>\n",
              "    .dataframe tbody tr th:only-of-type {\n",
              "        vertical-align: middle;\n",
              "    }\n",
              "\n",
              "    .dataframe tbody tr th {\n",
              "        vertical-align: top;\n",
              "    }\n",
              "\n",
              "    .dataframe thead th {\n",
              "        text-align: right;\n",
              "    }\n",
              "</style>\n",
              "<table border=\"1\" class=\"dataframe\">\n",
              "  <thead>\n",
              "    <tr style=\"text-align: right;\">\n",
              "      <th></th>\n",
              "      <th>PubchemFP0</th>\n",
              "      <th>PubchemFP1</th>\n",
              "      <th>PubchemFP2</th>\n",
              "      <th>PubchemFP3</th>\n",
              "      <th>PubchemFP4</th>\n",
              "      <th>PubchemFP5</th>\n",
              "      <th>PubchemFP6</th>\n",
              "      <th>PubchemFP7</th>\n",
              "      <th>PubchemFP8</th>\n",
              "      <th>PubchemFP9</th>\n",
              "      <th>...</th>\n",
              "      <th>PubchemFP871</th>\n",
              "      <th>PubchemFP872</th>\n",
              "      <th>PubchemFP873</th>\n",
              "      <th>PubchemFP874</th>\n",
              "      <th>PubchemFP875</th>\n",
              "      <th>PubchemFP876</th>\n",
              "      <th>PubchemFP877</th>\n",
              "      <th>PubchemFP878</th>\n",
              "      <th>PubchemFP879</th>\n",
              "      <th>PubchemFP880</th>\n",
              "    </tr>\n",
              "  </thead>\n",
              "  <tbody>\n",
              "    <tr>\n",
              "      <th>0</th>\n",
              "      <td>1</td>\n",
              "      <td>1</td>\n",
              "      <td>1</td>\n",
              "      <td>0</td>\n",
              "      <td>0</td>\n",
              "      <td>0</td>\n",
              "      <td>0</td>\n",
              "      <td>0</td>\n",
              "      <td>0</td>\n",
              "      <td>1</td>\n",
              "      <td>...</td>\n",
              "      <td>0</td>\n",
              "      <td>0</td>\n",
              "      <td>0</td>\n",
              "      <td>0</td>\n",
              "      <td>0</td>\n",
              "      <td>0</td>\n",
              "      <td>0</td>\n",
              "      <td>0</td>\n",
              "      <td>0</td>\n",
              "      <td>0</td>\n",
              "    </tr>\n",
              "    <tr>\n",
              "      <th>1</th>\n",
              "      <td>1</td>\n",
              "      <td>1</td>\n",
              "      <td>1</td>\n",
              "      <td>0</td>\n",
              "      <td>0</td>\n",
              "      <td>0</td>\n",
              "      <td>0</td>\n",
              "      <td>0</td>\n",
              "      <td>0</td>\n",
              "      <td>1</td>\n",
              "      <td>...</td>\n",
              "      <td>0</td>\n",
              "      <td>0</td>\n",
              "      <td>0</td>\n",
              "      <td>0</td>\n",
              "      <td>0</td>\n",
              "      <td>0</td>\n",
              "      <td>0</td>\n",
              "      <td>0</td>\n",
              "      <td>0</td>\n",
              "      <td>0</td>\n",
              "    </tr>\n",
              "    <tr>\n",
              "      <th>2</th>\n",
              "      <td>1</td>\n",
              "      <td>1</td>\n",
              "      <td>1</td>\n",
              "      <td>0</td>\n",
              "      <td>0</td>\n",
              "      <td>0</td>\n",
              "      <td>0</td>\n",
              "      <td>0</td>\n",
              "      <td>0</td>\n",
              "      <td>1</td>\n",
              "      <td>...</td>\n",
              "      <td>0</td>\n",
              "      <td>0</td>\n",
              "      <td>0</td>\n",
              "      <td>0</td>\n",
              "      <td>0</td>\n",
              "      <td>0</td>\n",
              "      <td>0</td>\n",
              "      <td>0</td>\n",
              "      <td>0</td>\n",
              "      <td>0</td>\n",
              "    </tr>\n",
              "    <tr>\n",
              "      <th>3</th>\n",
              "      <td>1</td>\n",
              "      <td>1</td>\n",
              "      <td>1</td>\n",
              "      <td>0</td>\n",
              "      <td>0</td>\n",
              "      <td>0</td>\n",
              "      <td>0</td>\n",
              "      <td>0</td>\n",
              "      <td>0</td>\n",
              "      <td>1</td>\n",
              "      <td>...</td>\n",
              "      <td>0</td>\n",
              "      <td>0</td>\n",
              "      <td>0</td>\n",
              "      <td>0</td>\n",
              "      <td>0</td>\n",
              "      <td>0</td>\n",
              "      <td>0</td>\n",
              "      <td>0</td>\n",
              "      <td>0</td>\n",
              "      <td>0</td>\n",
              "    </tr>\n",
              "    <tr>\n",
              "      <th>4</th>\n",
              "      <td>1</td>\n",
              "      <td>1</td>\n",
              "      <td>1</td>\n",
              "      <td>0</td>\n",
              "      <td>0</td>\n",
              "      <td>0</td>\n",
              "      <td>0</td>\n",
              "      <td>0</td>\n",
              "      <td>0</td>\n",
              "      <td>1</td>\n",
              "      <td>...</td>\n",
              "      <td>0</td>\n",
              "      <td>0</td>\n",
              "      <td>0</td>\n",
              "      <td>0</td>\n",
              "      <td>0</td>\n",
              "      <td>0</td>\n",
              "      <td>0</td>\n",
              "      <td>0</td>\n",
              "      <td>0</td>\n",
              "      <td>0</td>\n",
              "    </tr>\n",
              "    <tr>\n",
              "      <th>...</th>\n",
              "      <td>...</td>\n",
              "      <td>...</td>\n",
              "      <td>...</td>\n",
              "      <td>...</td>\n",
              "      <td>...</td>\n",
              "      <td>...</td>\n",
              "      <td>...</td>\n",
              "      <td>...</td>\n",
              "      <td>...</td>\n",
              "      <td>...</td>\n",
              "      <td>...</td>\n",
              "      <td>...</td>\n",
              "      <td>...</td>\n",
              "      <td>...</td>\n",
              "      <td>...</td>\n",
              "      <td>...</td>\n",
              "      <td>...</td>\n",
              "      <td>...</td>\n",
              "      <td>...</td>\n",
              "      <td>...</td>\n",
              "      <td>...</td>\n",
              "    </tr>\n",
              "    <tr>\n",
              "      <th>8460</th>\n",
              "      <td>1</td>\n",
              "      <td>1</td>\n",
              "      <td>0</td>\n",
              "      <td>0</td>\n",
              "      <td>0</td>\n",
              "      <td>0</td>\n",
              "      <td>0</td>\n",
              "      <td>0</td>\n",
              "      <td>0</td>\n",
              "      <td>1</td>\n",
              "      <td>...</td>\n",
              "      <td>0</td>\n",
              "      <td>0</td>\n",
              "      <td>0</td>\n",
              "      <td>0</td>\n",
              "      <td>0</td>\n",
              "      <td>0</td>\n",
              "      <td>0</td>\n",
              "      <td>0</td>\n",
              "      <td>0</td>\n",
              "      <td>0</td>\n",
              "    </tr>\n",
              "    <tr>\n",
              "      <th>8461</th>\n",
              "      <td>1</td>\n",
              "      <td>1</td>\n",
              "      <td>1</td>\n",
              "      <td>0</td>\n",
              "      <td>0</td>\n",
              "      <td>0</td>\n",
              "      <td>0</td>\n",
              "      <td>0</td>\n",
              "      <td>0</td>\n",
              "      <td>1</td>\n",
              "      <td>...</td>\n",
              "      <td>0</td>\n",
              "      <td>0</td>\n",
              "      <td>0</td>\n",
              "      <td>0</td>\n",
              "      <td>0</td>\n",
              "      <td>0</td>\n",
              "      <td>0</td>\n",
              "      <td>0</td>\n",
              "      <td>0</td>\n",
              "      <td>0</td>\n",
              "    </tr>\n",
              "    <tr>\n",
              "      <th>8462</th>\n",
              "      <td>1</td>\n",
              "      <td>1</td>\n",
              "      <td>1</td>\n",
              "      <td>0</td>\n",
              "      <td>0</td>\n",
              "      <td>0</td>\n",
              "      <td>0</td>\n",
              "      <td>0</td>\n",
              "      <td>0</td>\n",
              "      <td>1</td>\n",
              "      <td>...</td>\n",
              "      <td>0</td>\n",
              "      <td>0</td>\n",
              "      <td>0</td>\n",
              "      <td>0</td>\n",
              "      <td>0</td>\n",
              "      <td>0</td>\n",
              "      <td>0</td>\n",
              "      <td>0</td>\n",
              "      <td>0</td>\n",
              "      <td>0</td>\n",
              "    </tr>\n",
              "    <tr>\n",
              "      <th>8463</th>\n",
              "      <td>1</td>\n",
              "      <td>1</td>\n",
              "      <td>1</td>\n",
              "      <td>1</td>\n",
              "      <td>0</td>\n",
              "      <td>0</td>\n",
              "      <td>0</td>\n",
              "      <td>0</td>\n",
              "      <td>0</td>\n",
              "      <td>1</td>\n",
              "      <td>...</td>\n",
              "      <td>0</td>\n",
              "      <td>0</td>\n",
              "      <td>0</td>\n",
              "      <td>0</td>\n",
              "      <td>0</td>\n",
              "      <td>0</td>\n",
              "      <td>0</td>\n",
              "      <td>0</td>\n",
              "      <td>0</td>\n",
              "      <td>0</td>\n",
              "    </tr>\n",
              "    <tr>\n",
              "      <th>8464</th>\n",
              "      <td>1</td>\n",
              "      <td>1</td>\n",
              "      <td>1</td>\n",
              "      <td>1</td>\n",
              "      <td>0</td>\n",
              "      <td>0</td>\n",
              "      <td>0</td>\n",
              "      <td>0</td>\n",
              "      <td>0</td>\n",
              "      <td>1</td>\n",
              "      <td>...</td>\n",
              "      <td>0</td>\n",
              "      <td>0</td>\n",
              "      <td>0</td>\n",
              "      <td>0</td>\n",
              "      <td>0</td>\n",
              "      <td>0</td>\n",
              "      <td>0</td>\n",
              "      <td>0</td>\n",
              "      <td>0</td>\n",
              "      <td>0</td>\n",
              "    </tr>\n",
              "  </tbody>\n",
              "</table>\n",
              "<p>8465 rows × 881 columns</p>\n",
              "</div>\n",
              "    <div class=\"colab-df-buttons\">\n",
              "\n",
              "  <div class=\"colab-df-container\">\n",
              "    <button class=\"colab-df-convert\" onclick=\"convertToInteractive('df-d323d11a-0e29-443a-8cf0-70a7d5500d4d')\"\n",
              "            title=\"Convert this dataframe to an interactive table.\"\n",
              "            style=\"display:none;\">\n",
              "\n",
              "  <svg xmlns=\"http://www.w3.org/2000/svg\" height=\"24px\" viewBox=\"0 -960 960 960\">\n",
              "    <path d=\"M120-120v-720h720v720H120Zm60-500h600v-160H180v160Zm220 220h160v-160H400v160Zm0 220h160v-160H400v160ZM180-400h160v-160H180v160Zm440 0h160v-160H620v160ZM180-180h160v-160H180v160Zm440 0h160v-160H620v160Z\"/>\n",
              "  </svg>\n",
              "    </button>\n",
              "\n",
              "  <style>\n",
              "    .colab-df-container {\n",
              "      display:flex;\n",
              "      gap: 12px;\n",
              "    }\n",
              "\n",
              "    .colab-df-convert {\n",
              "      background-color: #E8F0FE;\n",
              "      border: none;\n",
              "      border-radius: 50%;\n",
              "      cursor: pointer;\n",
              "      display: none;\n",
              "      fill: #1967D2;\n",
              "      height: 32px;\n",
              "      padding: 0 0 0 0;\n",
              "      width: 32px;\n",
              "    }\n",
              "\n",
              "    .colab-df-convert:hover {\n",
              "      background-color: #E2EBFA;\n",
              "      box-shadow: 0px 1px 2px rgba(60, 64, 67, 0.3), 0px 1px 3px 1px rgba(60, 64, 67, 0.15);\n",
              "      fill: #174EA6;\n",
              "    }\n",
              "\n",
              "    .colab-df-buttons div {\n",
              "      margin-bottom: 4px;\n",
              "    }\n",
              "\n",
              "    [theme=dark] .colab-df-convert {\n",
              "      background-color: #3B4455;\n",
              "      fill: #D2E3FC;\n",
              "    }\n",
              "\n",
              "    [theme=dark] .colab-df-convert:hover {\n",
              "      background-color: #434B5C;\n",
              "      box-shadow: 0px 1px 3px 1px rgba(0, 0, 0, 0.15);\n",
              "      filter: drop-shadow(0px 1px 2px rgba(0, 0, 0, 0.3));\n",
              "      fill: #FFFFFF;\n",
              "    }\n",
              "  </style>\n",
              "\n",
              "    <script>\n",
              "      const buttonEl =\n",
              "        document.querySelector('#df-d323d11a-0e29-443a-8cf0-70a7d5500d4d button.colab-df-convert');\n",
              "      buttonEl.style.display =\n",
              "        google.colab.kernel.accessAllowed ? 'block' : 'none';\n",
              "\n",
              "      async function convertToInteractive(key) {\n",
              "        const element = document.querySelector('#df-d323d11a-0e29-443a-8cf0-70a7d5500d4d');\n",
              "        const dataTable =\n",
              "          await google.colab.kernel.invokeFunction('convertToInteractive',\n",
              "                                                    [key], {});\n",
              "        if (!dataTable) return;\n",
              "\n",
              "        const docLinkHtml = 'Like what you see? Visit the ' +\n",
              "          '<a target=\"_blank\" href=https://colab.research.google.com/notebooks/data_table.ipynb>data table notebook</a>'\n",
              "          + ' to learn more about interactive tables.';\n",
              "        element.innerHTML = '';\n",
              "        dataTable['output_type'] = 'display_data';\n",
              "        await google.colab.output.renderOutput(dataTable, element);\n",
              "        const docLink = document.createElement('div');\n",
              "        docLink.innerHTML = docLinkHtml;\n",
              "        element.appendChild(docLink);\n",
              "      }\n",
              "    </script>\n",
              "  </div>\n",
              "\n",
              "\n",
              "<div id=\"df-c68166fe-24a0-4a73-82de-18ad01bac8ff\">\n",
              "  <button class=\"colab-df-quickchart\" onclick=\"quickchart('df-c68166fe-24a0-4a73-82de-18ad01bac8ff')\"\n",
              "            title=\"Suggest charts\"\n",
              "            style=\"display:none;\">\n",
              "\n",
              "<svg xmlns=\"http://www.w3.org/2000/svg\" height=\"24px\"viewBox=\"0 0 24 24\"\n",
              "     width=\"24px\">\n",
              "    <g>\n",
              "        <path d=\"M19 3H5c-1.1 0-2 .9-2 2v14c0 1.1.9 2 2 2h14c1.1 0 2-.9 2-2V5c0-1.1-.9-2-2-2zM9 17H7v-7h2v7zm4 0h-2V7h2v10zm4 0h-2v-4h2v4z\"/>\n",
              "    </g>\n",
              "</svg>\n",
              "  </button>\n",
              "\n",
              "<style>\n",
              "  .colab-df-quickchart {\n",
              "      --bg-color: #E8F0FE;\n",
              "      --fill-color: #1967D2;\n",
              "      --hover-bg-color: #E2EBFA;\n",
              "      --hover-fill-color: #174EA6;\n",
              "      --disabled-fill-color: #AAA;\n",
              "      --disabled-bg-color: #DDD;\n",
              "  }\n",
              "\n",
              "  [theme=dark] .colab-df-quickchart {\n",
              "      --bg-color: #3B4455;\n",
              "      --fill-color: #D2E3FC;\n",
              "      --hover-bg-color: #434B5C;\n",
              "      --hover-fill-color: #FFFFFF;\n",
              "      --disabled-bg-color: #3B4455;\n",
              "      --disabled-fill-color: #666;\n",
              "  }\n",
              "\n",
              "  .colab-df-quickchart {\n",
              "    background-color: var(--bg-color);\n",
              "    border: none;\n",
              "    border-radius: 50%;\n",
              "    cursor: pointer;\n",
              "    display: none;\n",
              "    fill: var(--fill-color);\n",
              "    height: 32px;\n",
              "    padding: 0;\n",
              "    width: 32px;\n",
              "  }\n",
              "\n",
              "  .colab-df-quickchart:hover {\n",
              "    background-color: var(--hover-bg-color);\n",
              "    box-shadow: 0 1px 2px rgba(60, 64, 67, 0.3), 0 1px 3px 1px rgba(60, 64, 67, 0.15);\n",
              "    fill: var(--button-hover-fill-color);\n",
              "  }\n",
              "\n",
              "  .colab-df-quickchart-complete:disabled,\n",
              "  .colab-df-quickchart-complete:disabled:hover {\n",
              "    background-color: var(--disabled-bg-color);\n",
              "    fill: var(--disabled-fill-color);\n",
              "    box-shadow: none;\n",
              "  }\n",
              "\n",
              "  .colab-df-spinner {\n",
              "    border: 2px solid var(--fill-color);\n",
              "    border-color: transparent;\n",
              "    border-bottom-color: var(--fill-color);\n",
              "    animation:\n",
              "      spin 1s steps(1) infinite;\n",
              "  }\n",
              "\n",
              "  @keyframes spin {\n",
              "    0% {\n",
              "      border-color: transparent;\n",
              "      border-bottom-color: var(--fill-color);\n",
              "      border-left-color: var(--fill-color);\n",
              "    }\n",
              "    20% {\n",
              "      border-color: transparent;\n",
              "      border-left-color: var(--fill-color);\n",
              "      border-top-color: var(--fill-color);\n",
              "    }\n",
              "    30% {\n",
              "      border-color: transparent;\n",
              "      border-left-color: var(--fill-color);\n",
              "      border-top-color: var(--fill-color);\n",
              "      border-right-color: var(--fill-color);\n",
              "    }\n",
              "    40% {\n",
              "      border-color: transparent;\n",
              "      border-right-color: var(--fill-color);\n",
              "      border-top-color: var(--fill-color);\n",
              "    }\n",
              "    60% {\n",
              "      border-color: transparent;\n",
              "      border-right-color: var(--fill-color);\n",
              "    }\n",
              "    80% {\n",
              "      border-color: transparent;\n",
              "      border-right-color: var(--fill-color);\n",
              "      border-bottom-color: var(--fill-color);\n",
              "    }\n",
              "    90% {\n",
              "      border-color: transparent;\n",
              "      border-bottom-color: var(--fill-color);\n",
              "    }\n",
              "  }\n",
              "</style>\n",
              "\n",
              "  <script>\n",
              "    async function quickchart(key) {\n",
              "      const quickchartButtonEl =\n",
              "        document.querySelector('#' + key + ' button');\n",
              "      quickchartButtonEl.disabled = true;  // To prevent multiple clicks.\n",
              "      quickchartButtonEl.classList.add('colab-df-spinner');\n",
              "      try {\n",
              "        const charts = await google.colab.kernel.invokeFunction(\n",
              "            'suggestCharts', [key], {});\n",
              "      } catch (error) {\n",
              "        console.error('Error during call to suggestCharts:', error);\n",
              "      }\n",
              "      quickchartButtonEl.classList.remove('colab-df-spinner');\n",
              "      quickchartButtonEl.classList.add('colab-df-quickchart-complete');\n",
              "    }\n",
              "    (() => {\n",
              "      let quickchartButtonEl =\n",
              "        document.querySelector('#df-c68166fe-24a0-4a73-82de-18ad01bac8ff button');\n",
              "      quickchartButtonEl.style.display =\n",
              "        google.colab.kernel.accessAllowed ? 'block' : 'none';\n",
              "    })();\n",
              "  </script>\n",
              "</div>\n",
              "\n",
              "  <div id=\"id_54cb9fd8-f562-4da2-a741-f9317591a048\">\n",
              "    <style>\n",
              "      .colab-df-generate {\n",
              "        background-color: #E8F0FE;\n",
              "        border: none;\n",
              "        border-radius: 50%;\n",
              "        cursor: pointer;\n",
              "        display: none;\n",
              "        fill: #1967D2;\n",
              "        height: 32px;\n",
              "        padding: 0 0 0 0;\n",
              "        width: 32px;\n",
              "      }\n",
              "\n",
              "      .colab-df-generate:hover {\n",
              "        background-color: #E2EBFA;\n",
              "        box-shadow: 0px 1px 2px rgba(60, 64, 67, 0.3), 0px 1px 3px 1px rgba(60, 64, 67, 0.15);\n",
              "        fill: #174EA6;\n",
              "      }\n",
              "\n",
              "      [theme=dark] .colab-df-generate {\n",
              "        background-color: #3B4455;\n",
              "        fill: #D2E3FC;\n",
              "      }\n",
              "\n",
              "      [theme=dark] .colab-df-generate:hover {\n",
              "        background-color: #434B5C;\n",
              "        box-shadow: 0px 1px 3px 1px rgba(0, 0, 0, 0.15);\n",
              "        filter: drop-shadow(0px 1px 2px rgba(0, 0, 0, 0.3));\n",
              "        fill: #FFFFFF;\n",
              "      }\n",
              "    </style>\n",
              "    <button class=\"colab-df-generate\" onclick=\"generateWithVariable('X')\"\n",
              "            title=\"Generate code using this dataframe.\"\n",
              "            style=\"display:none;\">\n",
              "\n",
              "  <svg xmlns=\"http://www.w3.org/2000/svg\" height=\"24px\"viewBox=\"0 0 24 24\"\n",
              "       width=\"24px\">\n",
              "    <path d=\"M7,19H8.4L18.45,9,17,7.55,7,17.6ZM5,21V16.75L18.45,3.32a2,2,0,0,1,2.83,0l1.4,1.43a1.91,1.91,0,0,1,.58,1.4,1.91,1.91,0,0,1-.58,1.4L9.25,21ZM18.45,9,17,7.55Zm-12,3A5.31,5.31,0,0,0,4.9,8.1,5.31,5.31,0,0,0,1,6.5,5.31,5.31,0,0,0,4.9,4.9,5.31,5.31,0,0,0,6.5,1,5.31,5.31,0,0,0,8.1,4.9,5.31,5.31,0,0,0,12,6.5,5.46,5.46,0,0,0,6.5,12Z\"/>\n",
              "  </svg>\n",
              "    </button>\n",
              "    <script>\n",
              "      (() => {\n",
              "      const buttonEl =\n",
              "        document.querySelector('#id_54cb9fd8-f562-4da2-a741-f9317591a048 button.colab-df-generate');\n",
              "      buttonEl.style.display =\n",
              "        google.colab.kernel.accessAllowed ? 'block' : 'none';\n",
              "\n",
              "      buttonEl.onclick = () => {\n",
              "        google.colab.notebook.generateWithVariable('X');\n",
              "      }\n",
              "      })();\n",
              "    </script>\n",
              "  </div>\n",
              "\n",
              "    </div>\n",
              "  </div>\n"
            ],
            "application/vnd.google.colaboratory.intrinsic+json": {
              "type": "dataframe",
              "variable_name": "X"
            }
          },
          "metadata": {},
          "execution_count": 4
        }
      ]
    },
    {
      "cell_type": "code",
      "source": [
        "# Se define variable Y para el objetivo\n",
        "Y = df_bioactivity.pIC50\n",
        "# Mostrar contenido en el conjunto de Y\n",
        "Y"
      ],
      "metadata": {
        "id": "KexYGooc5wrN",
        "outputId": "1051697b-af5f-4e0e-d2ff-270391d0f948",
        "colab": {
          "base_uri": "https://localhost:8080/"
        }
      },
      "execution_count": 5,
      "outputs": [
        {
          "output_type": "execute_result",
          "data": {
            "text/plain": [
              "0       4.371611\n",
              "1       4.562249\n",
              "2       4.275724\n",
              "3       4.686133\n",
              "4       4.275724\n",
              "          ...   \n",
              "8460    4.000000\n",
              "8461    4.000000\n",
              "8462    4.000000\n",
              "8463    6.004365\n",
              "8464    6.050610\n",
              "Name: pIC50, Length: 8465, dtype: float64"
            ]
          },
          "metadata": {},
          "execution_count": 5
        }
      ]
    },
    {
      "cell_type": "markdown",
      "source": [
        "#### Dimensión de los conjuntos\n",
        "\n"
      ],
      "metadata": {
        "id": "j1SwaHzI6zD6"
      }
    },
    {
      "cell_type": "code",
      "source": [
        "# Dimensiones de las variables predictoras\n",
        "X.shape"
      ],
      "metadata": {
        "id": "tWA0hXql64Mn",
        "outputId": "bce59947-2009-405a-cc55-c9609d23d9c5",
        "colab": {
          "base_uri": "https://localhost:8080/"
        }
      },
      "execution_count": 6,
      "outputs": [
        {
          "output_type": "execute_result",
          "data": {
            "text/plain": [
              "(8465, 881)"
            ]
          },
          "metadata": {},
          "execution_count": 6
        }
      ]
    },
    {
      "cell_type": "code",
      "source": [
        "# Dimensiones de la variable predicha\n",
        "Y.shape"
      ],
      "metadata": {
        "id": "vHwKToHc674J",
        "outputId": "9ded762f-219d-456c-ebee-4a7d9957b788",
        "colab": {
          "base_uri": "https://localhost:8080/"
        }
      },
      "execution_count": 7,
      "outputs": [
        {
          "output_type": "execute_result",
          "data": {
            "text/plain": [
              "(8465,)"
            ]
          },
          "metadata": {},
          "execution_count": 7
        }
      ]
    },
    {
      "cell_type": "markdown",
      "source": [
        "Eliminamos columnas con baja varianza\n"
      ],
      "metadata": {
        "id": "nnvkRuF77GOT"
      }
    },
    {
      "cell_type": "code",
      "source": [
        "# Creamos un objeto VarianceThreshold con el umbral definido\n",
        "selection = VarianceThreshold(threshold=(.8 * (1 - .8)))\n",
        "# Transformamos la matriz de características X utilizando el objeto VarianceThreshold\n",
        "X = selection.fit_transform(X)"
      ],
      "metadata": {
        "id": "NNwvXd8R7Idg"
      },
      "execution_count": 6,
      "outputs": []
    },
    {
      "cell_type": "code",
      "source": [
        "# Dimensiones de las variables predictoras\n",
        "X.shape"
      ],
      "metadata": {
        "id": "_rqPkviu7MXJ",
        "outputId": "b900deb4-f60d-4cd1-b74b-759068694af6",
        "colab": {
          "base_uri": "https://localhost:8080/"
        }
      },
      "execution_count": 9,
      "outputs": [
        {
          "output_type": "execute_result",
          "data": {
            "text/plain": [
              "(8465, 155)"
            ]
          },
          "metadata": {},
          "execution_count": 9
        }
      ]
    },
    {
      "cell_type": "markdown",
      "source": [
        "#### Data split\n",
        "\n",
        "Generamos conjuntos de entrenamiento y prueba\n",
        "\n",
        "(80/20 ratio)"
      ],
      "metadata": {
        "id": "N3dQ9dST7gbw"
      }
    },
    {
      "cell_type": "code",
      "source": [
        "# Dividimos los datos en dos conjuntos, los de entrenamiento y los de prueba, teniendo los últimos un 20% de las muestras\n",
        "X_train, X_test, Y_train, Y_test = train_test_split(X, Y, test_size=0.2, random_state=42)\n",
        "# Dimensiones del conjunto de entrenamiento\n",
        "X_train.shape, Y_train.shape"
      ],
      "metadata": {
        "id": "I0mniN727kAR",
        "outputId": "7afd65f8-1c57-41b3-a9a3-380dfd8a4635",
        "colab": {
          "base_uri": "https://localhost:8080/"
        }
      },
      "execution_count": 13,
      "outputs": [
        {
          "output_type": "execute_result",
          "data": {
            "text/plain": [
              "((6772, 155), (6772,))"
            ]
          },
          "metadata": {},
          "execution_count": 13
        }
      ]
    },
    {
      "cell_type": "code",
      "source": [
        "# Dimensiones del conjunto de prueba\n",
        "X_test.shape, Y_test.shape"
      ],
      "metadata": {
        "id": "r48bAKPW7pdj",
        "outputId": "7336688d-c55d-4481-9eb5-a3f937d6d51c",
        "colab": {
          "base_uri": "https://localhost:8080/"
        }
      },
      "execution_count": 11,
      "outputs": [
        {
          "output_type": "execute_result",
          "data": {
            "text/plain": [
              "((1693, 155), (1693,))"
            ]
          },
          "metadata": {},
          "execution_count": 11
        }
      ]
    },
    {
      "cell_type": "markdown",
      "source": [
        "#### Comparación de rendimiento de modelos\n"
      ],
      "metadata": {
        "id": "k0t0lI0bloDc"
      }
    },
    {
      "cell_type": "markdown",
      "source": [
        "La hiperparametrización es crucial para obtener un buen rendimiento de los modelos de aprendizaje automático. Los hiperparámetros inadecuados pueden llevar a un sobreajuste (el modelo se ajusta demasiado bien a los datos de entrenamiento pero no generaliza bien a nuevos datos) o a un subajuste (el modelo no captura la complejidad de los datos).\n",
        "\n",
        "La optimización Bayesiana es una técnica eficiente para encontrar los mejores hiperparámetros, explorando el espacio de búsqueda de forma inteligente y minimizando el número de evaluaciones necesarias."
      ],
      "metadata": {
        "id": "UlsTvcJ1xrFK"
      }
    },
    {
      "cell_type": "markdown",
      "source": [
        "Datos importantes del código:\n",
        "\n",
        "1. **Función evaluate_model**: Esta función calcula varias métricas de rendimiento para evaluar los modelos de regresión, incluyendo R², MAE, MSE, RMSE, MAPE, Varianza Explicada, Error Máximo y Mediana del Error Absoluto. Estas métricas nos ayudan a comprender diferentes aspectos del rendimiento del modelo, como la precisión, la robustez a los valores atípicos y la capacidad de generalización.\n",
        "\n",
        "2. **Función optimize_hyperparameters**: Esta función utiliza la optimización Bayesiana, implementada con gp_minimize de la biblioteca skopt, para encontrar los mejores hiperparámetros para cada modelo. Los hiperparámetros son parámetros que controlan el proceso de aprendizaje del modelo y no se aprenden directamente de los datos.\n",
        "\n",
        "3. **Espacios de búsqueda de hiperparámetros**: Se definen rangos para los hiperparámetros de cada modelo. Por ejemplo, n_estimators controla el número de árboles en los modelos de bosque aleatorio, max_depth limita la profundidad de los árboles, learning_rate controla la velocidad de aprendizaje en los modelos de boosting, y C y gamma controlan la regularización en el modelo SVR.\n",
        "\n",
        "4. **Bucle de optimización y entrenamiento**: El código itera a través de los diferentes modelos (Random Forest, Gradient Boosting, SVR, AdaBoost, KNeighbors y ElasticNet), optimizando los hiperparámetros para cada uno y luego entrenando el modelo con los mejores hiperparámetros encontrados.\n",
        "\n",
        "5. **Evaluación e impresión de resultados**: Finalmente, el código evalúa el rendimiento de cada modelo utilizando las métricas definidas en evaluate_model e imprime los resultados, incluyendo los mejores hiperparámetros encontrados."
      ],
      "metadata": {
        "id": "dpfAsfsM0Kxp"
      }
    },
    {
      "cell_type": "markdown",
      "source": [
        "# **Ensamble Homogéneas**"
      ],
      "metadata": {
        "id": "LAS3Ma7C-j3P"
      }
    },
    {
      "cell_type": "code",
      "source": [
        "# Suprimir warnings\n",
        "warnings.filterwarnings(\"ignore\", category=UserWarning, module='skopt.optimizer.optimizer')\n",
        "warnings.filterwarnings(\"ignore\", category=ConvergenceWarning)"
      ],
      "metadata": {
        "id": "KmiAbJvD647j"
      },
      "execution_count": 7,
      "outputs": []
    },
    {
      "cell_type": "code",
      "source": [
        "# Definir una función para evaluar el rendimiento del modelo con métricas adicionales\n",
        "def evaluate_model(model, X_test, Y_test):\n",
        "    Y_pred = model.predict(X_test)\n",
        "    metrics = {\n",
        "        'R^2': r2_score(Y_test, Y_pred),\n",
        "        'MAE': mean_absolute_error(Y_test, Y_pred),\n",
        "        'MSE': mean_squared_error(Y_test, Y_pred),\n",
        "        'RMSE': np.sqrt(mean_squared_error(Y_test, Y_pred)),\n",
        "        'MAPE': mean_absolute_percentage_error(Y_test, Y_pred),\n",
        "        'Explained Variance': explained_variance_score(Y_test, Y_pred),\n",
        "        'Max Error': max_error(Y_test, Y_pred),\n",
        "        'Median AE': median_absolute_error(Y_test, Y_pred)\n",
        "    }\n",
        "    return metrics"
      ],
      "metadata": {
        "id": "UBO2v3Gr_CcC"
      },
      "execution_count": 8,
      "outputs": []
    },
    {
      "cell_type": "code",
      "source": [
        "# Definir una función para optimizar los hiperparámetros\n",
        "def optimize_hyperparameters(model_type, space, n_calls=10, random_state=42):\n",
        "    @use_named_args(space)\n",
        "    def objective_function(**params):\n",
        "        if model_type == 'RandomForest':\n",
        "            model = RandomForestRegressor(**params, random_state=random_state, n_jobs=-1)\n",
        "        elif model_type == 'SVR':\n",
        "            model = SVR(**params)\n",
        "        elif model_type == 'KNeighbors':\n",
        "            model = KNeighborsRegressor(**params, n_jobs=-1)\n",
        "        else:\n",
        "            raise ValueError(f\"Modelo no válido: {model_type}\")\n",
        "\n",
        "        # Usar validación cruzada para evaluar el modelo con múltiples núcleos\n",
        "        score = cross_val_score(model, X_train, Y_train, cv=3, n_jobs=-1, scoring='r2').mean()\n",
        "        return -score  # Minimizar el negativo de R²\n",
        "\n",
        "    result = gp_minimize(objective_function, space, n_calls=n_calls, random_state=random_state)\n",
        "    return result"
      ],
      "metadata": {
        "id": "Yx-xK0DY_EyV"
      },
      "execution_count": 9,
      "outputs": []
    },
    {
      "cell_type": "code",
      "source": [
        "# Imprimir los resultados\n",
        "def print_metrics(model_name, metrics):\n",
        "    df_metrics = pd.DataFrame(metrics, index=[model_name])\n",
        "    print(df_metrics)"
      ],
      "metadata": {
        "id": "aTlx8kpa_H1y"
      },
      "execution_count": 10,
      "outputs": []
    },
    {
      "cell_type": "code",
      "source": [
        "# Ajustar los espacios de búsqueda para cada modelo\n",
        "rf_space = [\n",
        "    Integer(170, 190, name='n_estimators'),\n",
        "    Integer(12, 16, name='max_depth'),\n",
        "]\n",
        "\n",
        "svr_space = [\n",
        "    Real(1e1, 1e3, name='C'),\n",
        "    Real(1e-2, 1e2, name='gamma')\n",
        "]\n",
        "\n",
        "knn_space = [\n",
        "    Integer(2, 6, name='n_neighbors'),\n",
        "    Integer(1, 2, name='p'),  # 1 para Manhattan, 2 para Euclidean\n",
        "]"
      ],
      "metadata": {
        "id": "oVBWyUwD_Lfh"
      },
      "execution_count": 11,
      "outputs": []
    },
    {
      "cell_type": "code",
      "source": [
        "rf_result = optimize_hyperparameters('RandomForest', rf_space)\n",
        "rf_best_params = dict(zip([dim.name for dim in rf_space], rf_result.x))\n",
        "rf_model = RandomForestRegressor(**rf_best_params, random_state=42)\n",
        "rf_model.fit(X_train, Y_train)\n",
        "rf_metrics = evaluate_model(rf_model, X_test, Y_test)"
      ],
      "metadata": {
        "id": "W-UFN-LH7LlT"
      },
      "execution_count": 14,
      "outputs": []
    },
    {
      "cell_type": "code",
      "source": [
        "svr_result = optimize_hyperparameters('SVR', svr_space)\n",
        "svr_best_params = dict(zip([dim.name for dim in svr_space], svr_result.x))\n",
        "svr_model = SVR(**svr_best_params)\n",
        "svr_model.fit(X_train, Y_train)\n",
        "svr_metrics = evaluate_model(svr_model, X_test, Y_test)"
      ],
      "metadata": {
        "id": "Ysmy3ZAg7Mfc"
      },
      "execution_count": 15,
      "outputs": []
    },
    {
      "cell_type": "code",
      "source": [
        "knn_result = optimize_hyperparameters('KNeighbors', knn_space)\n",
        "knn_best_params = dict(zip([dim.name for dim in knn_space], knn_result.x))\n",
        "knn_model = KNeighborsRegressor(**knn_best_params)\n",
        "knn_model.fit(X_train, Y_train)\n",
        "knn_metrics = evaluate_model(knn_model, X_test, Y_test)"
      ],
      "metadata": {
        "id": "GJ8m4ZpLmt3V"
      },
      "execution_count": 16,
      "outputs": []
    },
    {
      "cell_type": "code",
      "source": [
        "# Mostrar mejores hiperparámetros para cada modelo\n",
        "print(\"Random Forest Best Parameters:\", rf_best_params)\n",
        "print(\"SVR Best Parameters:\", svr_best_params)\n",
        "print(\"KNeighbors Best Parameters:\", knn_best_params)"
      ],
      "metadata": {
        "id": "NWUOGTHBDoaR",
        "outputId": "dee77d29-5f13-42e1-f661-d29850a07c40",
        "colab": {
          "base_uri": "https://localhost:8080/"
        }
      },
      "execution_count": 17,
      "outputs": [
        {
          "output_type": "stream",
          "name": "stdout",
          "text": [
            "Random Forest Best Parameters: {'n_estimators': 190, 'max_depth': 14}\n",
            "SVR Best Parameters: {'C': 939.1671819255929, 'gamma': 0.0878687964430227}\n",
            "KNeighbors Best Parameters: {'n_neighbors': 4, 'p': 1}\n"
          ]
        }
      ]
    },
    {
      "cell_type": "code",
      "source": [
        "# Imprimir métricas para cada modelo\n",
        "rf_metrics"
      ],
      "metadata": {
        "id": "_eYEOzK4pcXD",
        "outputId": "2ae6b185-8d44-4705-ad16-6027201e37d2",
        "colab": {
          "base_uri": "https://localhost:8080/"
        }
      },
      "execution_count": 18,
      "outputs": [
        {
          "output_type": "execute_result",
          "data": {
            "text/plain": [
              "{'R^2': 0.6020934989836483,\n",
              " 'MAE': 0.5985974948990781,\n",
              " 'MSE': 0.6974963064367008,\n",
              " 'RMSE': 0.8351624431430695,\n",
              " 'MAPE': 0.10209432276058882,\n",
              " 'Explained Variance': 0.6039794310801233,\n",
              " 'Max Error': 5.049630613887933,\n",
              " 'Median AE': 0.40822351818171576}"
            ]
          },
          "metadata": {},
          "execution_count": 18
        }
      ]
    },
    {
      "cell_type": "code",
      "source": [
        "# Imprimir métricas para cada modelo\n",
        "svr_metrics"
      ],
      "metadata": {
        "id": "xDc0ZqkapfTp",
        "outputId": "b4abbb20-b884-4871-d265-31e8fedfb8b1",
        "colab": {
          "base_uri": "https://localhost:8080/"
        }
      },
      "execution_count": 19,
      "outputs": [
        {
          "output_type": "execute_result",
          "data": {
            "text/plain": [
              "{'R^2': 0.5633764576806682,\n",
              " 'MAE': 0.609761038415568,\n",
              " 'MSE': 0.7653639920261756,\n",
              " 'RMSE': 0.8748508398728183,\n",
              " 'MAPE': 0.10284096491450419,\n",
              " 'Explained Variance': 0.5659383958337225,\n",
              " 'Max Error': 5.099914780317533,\n",
              " 'Median AE': 0.40113872462025135}"
            ]
          },
          "metadata": {},
          "execution_count": 19
        }
      ]
    },
    {
      "cell_type": "code",
      "source": [
        "# Imprimir métricas para cada modelo\n",
        "knn_metrics"
      ],
      "metadata": {
        "id": "s5B27LeopieU",
        "outputId": "c0e8c619-40d3-406c-f102-b61e9cba403f",
        "colab": {
          "base_uri": "https://localhost:8080/"
        }
      },
      "execution_count": 20,
      "outputs": [
        {
          "output_type": "execute_result",
          "data": {
            "text/plain": [
              "{'R^2': 0.5316050552721341,\n",
              " 'MAE': 0.633863497113968,\n",
              " 'MSE': 0.8210565624507938,\n",
              " 'RMSE': 0.9061217150310403,\n",
              " 'MAPE': 0.10645564564419698,\n",
              " 'Explained Variance': 0.5349384381259602,\n",
              " 'Max Error': 4.957559061995001,\n",
              " 'Median AE': 0.43125374941327266}"
            ]
          },
          "metadata": {},
          "execution_count": 20
        }
      ]
    },
    {
      "cell_type": "code",
      "source": [
        "# Graficar la curva de aprendizaje\n",
        "def plot_learning_curve(estimator, title, X, y, ylim=None, cv=3, n_jobs=-1, train_sizes=np.linspace(0.1, 1.0, 10)):\n",
        "    plt.figure()\n",
        "    plt.title(title)\n",
        "    if ylim is not None:\n",
        "        plt.ylim(*ylim)\n",
        "    plt.xlabel(\"Training examples\")\n",
        "    plt.ylabel(\"Score\")\n",
        "\n",
        "    # Obtener las curvas de aprendizaje\n",
        "    train_sizes, train_scores, test_scores = learning_curve(\n",
        "        estimator, X, y, cv=cv, n_jobs=n_jobs, train_sizes=train_sizes, random_state=42)\n",
        "\n",
        "    # Calcular medias y desviaciones estándar\n",
        "    train_scores_mean = np.mean(train_scores, axis=1)\n",
        "    train_scores_std = np.std(train_scores, axis=1)\n",
        "    test_scores_mean = np.mean(test_scores, axis=1)\n",
        "    test_scores_std = np.std(test_scores, axis=1)\n",
        "\n",
        "    plt.grid()\n",
        "\n",
        "    # Área de la desviación estándar\n",
        "    plt.fill_between(train_sizes, train_scores_mean - train_scores_std,\n",
        "                     train_scores_mean + train_scores_std, alpha=0.1, color=\"r\")\n",
        "    plt.fill_between(train_sizes, test_scores_mean - test_scores_std,\n",
        "                     test_scores_mean + test_scores_std, alpha=0.1, color=\"g\")\n",
        "\n",
        "    # Curvas de media\n",
        "    plt.plot(train_sizes, train_scores_mean, 'o-', color=\"r\", label=\"Training score\")\n",
        "    plt.plot(train_sizes, test_scores_mean, 'o-', color=\"g\", label=\"Cross-validation score\")\n",
        "\n",
        "    plt.legend(loc=\"best\")\n",
        "    return plt"
      ],
      "metadata": {
        "id": "exXSj8GE7qMK"
      },
      "execution_count": 24,
      "outputs": []
    },
    {
      "cell_type": "markdown",
      "source": [
        "*La importancia de la Curva de Aprendizaje para el análisis del entrenamiento de modelos:*\n",
        "\n",
        "La curva de aprendizaje es una herramienta fundamental para analizar el comportamiento de nuestro modelo y garantizar la robustez de nuestros resultados.\n",
        "\n",
        "La curva de aprendizaje, que grafica el rendimiento del modelo en función del tamaño del conjunto de entrenamiento, nos permite visualizar cómo el modelo se adapta a los datos y, lo que es más importante, identificar si hay algún tipo de sesgo o problema de ajuste.\n",
        "\n",
        "Si la curva de aprendizaje muestra un rendimiento muy alto en el conjunto de entrenamiento pero un rendimiento mucho más bajo en la validación cruzada, esto indicaría que nuestro modelo está sobreajustado a los datos de entrenamiento.\n",
        "En este caso, el modelo ha aprendido detalles específicos del conjunto de entrenamiento y no es capaz de generalizar bien a nuevos datos. Esto sería un problema grave en nuestra investigación, ya que el objetivo es que el modelo pueda predecir con precisión la actividad biológica de nuevas moléculas.\n",
        "\n",
        "Por otro lado, si la curva de validación cruzada se mantiene plana o incluso disminuye a medida que se aumenta el tamaño del conjunto de entrenamiento, esto podría indicar un subajuste del modelo. En este caso, el modelo no es lo suficientemente complejo para capturar las relaciones en los datos, o no hay suficientes datos para entrenarlo adecuadamente.\n",
        "\n",
        "También es importante observar si existen diferencias significativas entre el rendimiento en el conjunto de entrenamiento y la validación cruzada, especialmente cuando se utiliza un tamaño de entrenamiento grande. Esto podría indicar un sesgo en los datos. Podría ser que los datos de entrenamiento no sean representativos de la población general de moléculas, o que haya un sesgo específico en los datos que el modelo está aprendiendo."
      ],
      "metadata": {
        "id": "8vaYajPY6l6C"
      }
    },
    {
      "cell_type": "code",
      "source": [
        "# Graficar la curva de aprendizaje para cada modelo\n",
        "plot_learning_curve(rf_model, \"Learning Curve (Random Forest)\", X_train, Y_train, cv=3)\n",
        "plt.show()\n",
        "\n",
        "plot_learning_curve(svr_model, \"Learning Curve (SVR)\", X_train, Y_train, cv=3)\n",
        "plt.show()\n",
        "\n",
        "plot_learning_curve(knn_model, \"Learning Curve (KNeighbors)\", X_train, Y_train, cv=3)\n",
        "plt.show()"
      ],
      "metadata": {
        "id": "V4p4P9E-7q41",
        "outputId": "efa07455-f0b1-4208-8b57-eb24a9ff7ce9",
        "colab": {
          "base_uri": "https://localhost:8080/",
          "height": 1000
        }
      },
      "execution_count": 25,
      "outputs": [
        {
          "output_type": "display_data",
          "data": {
            "text/plain": [
              "<Figure size 640x480 with 1 Axes>"
            ],
            "image/png": "[encoded data removed]"
          },
          "metadata": {}
        },
        {
          "output_type": "display_data",
          "data": {
            "text/plain": [
              "<Figure size 640x480 with 1 Axes>"
            ],
            "image/png": "[encoded data removed]"
          },
          "metadata": {}
        },
        {
          "output_type": "display_data",
          "data": {
            "text/plain": [
              "<Figure size 640x480 with 1 Axes>"
            ],
            "image/png": "[encoded data removed]"
          },
          "metadata": {}
        }
      ]
    },
    {
      "cell_type": "code",
      "source": [
        "# Función para calcular y mostrar las métricas\n",
        "def print_metrics(y_true, y_pred, model_name, training_time):\n",
        "    metrics = {\n",
        "        'training_time': training_time,\n",
        "        'R_squ': r2_score(y_true, y_pred),\n",
        "        'MAE': mean_absolute_error(y_true, y_pred),\n",
        "        'MSE': mean_squared_error(y_true, y_pred),\n",
        "        'RMSE': np.sqrt(mean_squared_error(y_true, y_pred)),\n",
        "        'MAPE': mean_absolute_percentage_error(y_true, y_pred),\n",
        "        'Explained Variance': explained_variance_score(y_true, y_pred),\n",
        "        'Max Error': max_error(y_true, y_pred),\n",
        "        'Median AE': median_absolute_error(y_true, y_pred)\n",
        "    }\n",
        "    print(f\"Metrics for {model_name}:\")\n",
        "    print(\"Training Time:\", training_time, \"seconds\")\n",
        "    print(\"Mean Absolute Error (MAE):\", metrics['MAE'])\n",
        "    print(\"Mean Squared Error (MSE):\", metrics['MSE'])\n",
        "    print(\"Root Mean Squared Error (RMSE):\", metrics['RMSE'])\n",
        "    print(\"Mean Absolute Percentage Error (MAPE):\", metrics['MAPE'])\n",
        "    print(\"Explained Variance Score:\", metrics['Explained Variance'])\n",
        "    print(\"Max Error:\", metrics['Max Error'])\n",
        "    print(\"Median Absolute Error:\", metrics['Median AE'])\n",
        "    print(\"R^2 Score:\", metrics['R_squ'])\n",
        "    return metrics"
      ],
      "metadata": {
        "id": "xKYS0cZ4Etl7"
      },
      "execution_count": 33,
      "outputs": []
    },
    {
      "cell_type": "markdown",
      "source": [
        "# **Ensamble Homogéneas**"
      ],
      "metadata": {
        "id": "D0SpBZDTKp-y"
      }
    },
    {
      "cell_type": "code",
      "source": [
        "# Ensamble Homogéneo con Random Forest\n",
        "rf_model = RandomForestRegressor(n_estimators=rf_best_params['n_estimators'],\n",
        "                                           max_depth=rf_best_params['max_depth'],\n",
        "                                           random_state=42)"
      ],
      "metadata": {
        "id": "zeV_z-v0K5oO"
      },
      "execution_count": 34,
      "outputs": []
    },
    {
      "cell_type": "code",
      "source": [
        "start_time = time.time()\n",
        "rf_model.fit(X_train, Y_train)\n",
        "end_time = time.time()\n",
        "rf_training_time = end_time - start_time\n",
        "rf_pred = rf_model.predict(X_test)\n",
        "rf_metrics = print_metrics(Y_test, rf_pred, \"Random Forest Regressor\", rf_training_time)"
      ],
      "metadata": {
        "colab": {
          "base_uri": "https://localhost:8080/"
        },
        "id": "xVTleUZnKn12",
        "outputId": "57ade81a-ad42-458f-96da-7d57b06f032a"
      },
      "execution_count": 35,
      "outputs": [
        {
          "output_type": "stream",
          "name": "stdout",
          "text": [
            "Metrics for Random Forest Regressor:\n",
            "Training Time: 24.238346815109253 seconds\n",
            "Mean Absolute Error (MAE): 0.5985974948990781\n",
            "Mean Squared Error (MSE): 0.6974963064367008\n",
            "Root Mean Squared Error (RMSE): 0.8351624431430695\n",
            "Mean Absolute Percentage Error (MAPE): 0.10209432276058882\n",
            "Explained Variance Score: 0.6039794310801233\n",
            "Max Error: 5.049630613887933\n",
            "Median Absolute Error: 0.40822351818171576\n",
            "R^2 Score: 0.6020934989836483\n"
          ]
        }
      ]
    },
    {
      "cell_type": "code",
      "source": [
        "# Ensamble Homogéneo con SVR\n",
        "svr = SVR(C=svr_best_params['C'],\n",
        "                          gamma=svr_best_params['gamma'])"
      ],
      "metadata": {
        "id": "oH1AK8H6K7fG"
      },
      "execution_count": 36,
      "outputs": []
    },
    {
      "cell_type": "code",
      "source": [
        "start_time = time.time()\n",
        "svr.fit(X_train, Y_train)\n",
        "end_time = time.time()\n",
        "svr_training_time = end_time - start_time\n",
        "svr_pred = svr.predict(X_test)\n",
        "svr_metrics = print_metrics(Y_test, rf_pred, \"SVR Regressor\", svr_training_time)"
      ],
      "metadata": {
        "colab": {
          "base_uri": "https://localhost:8080/"
        },
        "id": "kMNtLE6ILJGo",
        "outputId": "401c9a2b-611f-4c80-ea8c-c0562e0880cd"
      },
      "execution_count": 37,
      "outputs": [
        {
          "output_type": "stream",
          "name": "stdout",
          "text": [
            "Metrics for SVR Regressor:\n",
            "Training Time: 7.683902263641357 seconds\n",
            "Mean Absolute Error (MAE): 0.5985974948990781\n",
            "Mean Squared Error (MSE): 0.6974963064367008\n",
            "Root Mean Squared Error (RMSE): 0.8351624431430695\n",
            "Mean Absolute Percentage Error (MAPE): 0.10209432276058882\n",
            "Explained Variance Score: 0.6039794310801233\n",
            "Max Error: 5.049630613887933\n",
            "Median Absolute Error: 0.40822351818171576\n",
            "R^2 Score: 0.6020934989836483\n"
          ]
        }
      ]
    },
    {
      "cell_type": "code",
      "source": [
        "# Ensamble Homogéneo con KNN\n",
        "knn = KNeighborsRegressor(n_neighbors=knn_best_params['n_neighbors'],\n",
        "                                          p=knn_best_params['p'])"
      ],
      "metadata": {
        "id": "y8jiNkqAK9Sd"
      },
      "execution_count": 39,
      "outputs": []
    },
    {
      "cell_type": "code",
      "source": [
        "start_time = time.time()\n",
        "knn.fit(X_train, Y_train)\n",
        "end_time = time.time()\n",
        "knn_training_time = end_time - start_time\n",
        "knn_pred = knn_model.predict(X_test)\n",
        "knn_metrics = print_metrics(Y_test, rf_pred, \"KNN Regressor\", knn_training_time)"
      ],
      "metadata": {
        "colab": {
          "base_uri": "https://localhost:8080/"
        },
        "id": "S-s1ZwdDLKxQ",
        "outputId": "191c7cfe-5d8d-4d66-c20d-408675157fed"
      },
      "execution_count": 38,
      "outputs": [
        {
          "output_type": "stream",
          "name": "stdout",
          "text": [
            "Metrics for KNN Regressor:\n",
            "Training Time: 0.0008559226989746094 seconds\n",
            "Mean Absolute Error (MAE): 0.5985974948990781\n",
            "Mean Squared Error (MSE): 0.6974963064367008\n",
            "Root Mean Squared Error (RMSE): 0.8351624431430695\n",
            "Mean Absolute Percentage Error (MAPE): 0.10209432276058882\n",
            "Explained Variance Score: 0.6039794310801233\n",
            "Max Error: 5.049630613887933\n",
            "Median Absolute Error: 0.40822351818171576\n",
            "R^2 Score: 0.6020934989836483\n"
          ]
        }
      ]
    },
    {
      "cell_type": "markdown",
      "source": [
        "# **Ensamble Heterogéneas**"
      ],
      "metadata": {
        "id": "a1S_TiUP-qbF"
      }
    },
    {
      "cell_type": "markdown",
      "source": [
        "Las estrategias de ensamble heterogéneas combinan diferentes tipos de modelos para aprovechar las fortalezas de cada uno.\n",
        "\n",
        "**Voting Regressor**\n",
        "\n",
        "Voting combina diferentes modelos y promedia sus predicciones para regresión o utiliza votación para clasificación. En este ejercicios se probará la combinación de predicciones de RandomForestRegressor, SVR, y KNeighborsRegressor usando un VotingRegressor.\n",
        "\n",
        "**Stacking Regressor**\n",
        "\n",
        "Stacking utiliza diferentes modelos base y un meta-modelo para combinar las predicciones de los modelos base.\n",
        "\n",
        "**Blending**\n",
        "\n",
        "Divide el conjunto de entrenamiento en un conjunto de entrenamiento y validación. Ajusta los modelos base en el conjunto de entrenamiento y utiliza las predicciones en el conjunto de validación para entrenar un meta-modelo. Luego, el meta-modelo se usa para hacer predicciones en el conjunto de prueba."
      ],
      "metadata": {
        "id": "Vyqi9Moa_sP7"
      }
    },
    {
      "cell_type": "code",
      "source": [
        "# Ensamble Heterogéneo con Voting\n",
        "voting_model = VotingRegressor(estimators=[('rf', rf_model), ('svr', svr), ('knn', knn)])\n",
        "start_time = time.time()\n",
        "voting_model.fit(X_train, Y_train)\n",
        "end_time = time.time()\n",
        "voting_training_time = end_time - start_time\n",
        "voting_pred = voting_model.predict(X_test)\n",
        "voting_metrics = print_metrics(Y_test, voting_pred, \"Voting Regressor\", voting_training_time)"
      ],
      "metadata": {
        "colab": {
          "base_uri": "https://localhost:8080/"
        },
        "id": "L9VSMcxBBCtk",
        "outputId": "b9f41214-8fe1-4a89-edd2-8df2308900d1"
      },
      "execution_count": 40,
      "outputs": [
        {
          "output_type": "stream",
          "name": "stdout",
          "text": [
            "Metrics for Voting Regressor:\n",
            "Training Time: 39.72074604034424 seconds\n",
            "Mean Absolute Error (MAE): 0.5887987167059049\n",
            "Mean Squared Error (MSE): 0.6884702964105746\n",
            "Root Mean Squared Error (RMSE): 0.8297411020376022\n",
            "Mean Absolute Percentage Error (MAPE): 0.09997241828568726\n",
            "Explained Variance Score: 0.60980227207454\n",
            "Max Error: 4.960329655866938\n",
            "Median Absolute Error: 0.39973492520856\n",
            "R^2 Score: 0.6072426417597332\n"
          ]
        }
      ]
    },
    {
      "cell_type": "code",
      "source": [
        "# Ensamble Heterogéneo con Stacking\n",
        "estimators = [\n",
        "    ('rf', rf_model),\n",
        "    ('svr', svr),\n",
        "    ('knn', knn)\n",
        "]\n",
        "meta_model = LinearRegression()\n",
        "stacking_model = StackingRegressor(estimators=estimators, final_estimator=meta_model)\n",
        "stacking_model.fit(X_train, Y_train)\n",
        "start_time = time.time()\n",
        "stacking_pred = stacking_model.predict(X_test)\n",
        "end_time = time.time()\n",
        "stacking_training_time = end_time - start_time\n",
        "stacking_metrics = print_metrics(Y_test, stacking_pred, \"Stacking Regressor\", stacking_training_time)"
      ],
      "metadata": {
        "colab": {
          "base_uri": "https://localhost:8080/"
        },
        "id": "-Fos-V5P-px3",
        "outputId": "3aa22db5-44c0-4480-b641-d1dc9de94e0f"
      },
      "execution_count": 41,
      "outputs": [
        {
          "output_type": "stream",
          "name": "stdout",
          "text": [
            "Metrics for Stacking Regressor:\n",
            "Training Time: 3.3638370037078857 seconds\n",
            "Mean Absolute Error (MAE): 0.5826143093383256\n",
            "Mean Squared Error (MSE): 0.6769483724672293\n",
            "Root Mean Squared Error (RMSE): 0.8227687235591964\n",
            "Mean Absolute Percentage Error (MAPE): 0.09843455608860387\n",
            "Explained Variance Score: 0.6147116442938987\n",
            "Max Error: 4.940147462094453\n",
            "Median Absolute Error: 0.403357316478151\n",
            "R^2 Score: 0.6138156492423026\n"
          ]
        }
      ]
    },
    {
      "cell_type": "code",
      "source": [
        "# Estrategia de Blending\n",
        "def blending_predict(X_train, y_train, X_test, start_time):\n",
        "    # Dividir el conjunto de entrenamiento en entrenamiento y validación\n",
        "    X_train_blend, X_val_blend, y_train_blend, y_val_blend = train_test_split(X_train, y_train, test_size=0.2, random_state=42)\n",
        "\n",
        "    # Ajustar los modelos base en el conjunto de entrenamiento\n",
        "    rf_model_blend = RandomForestRegressor(n_estimators=rf_best_params['n_estimators'],\n",
        "                                           max_depth=rf_best_params['max_depth'],\n",
        "                                           random_state=42)\n",
        "    svr_model_blend = SVR(C=svr_best_params['C'],\n",
        "                          gamma=svr_best_params['gamma'])\n",
        "    knn_model_blend = KNeighborsRegressor(n_neighbors=knn_best_params['n_neighbors'],\n",
        "                                          p=knn_best_params['p'])\n",
        "\n",
        "    rf_model_blend.fit(X_train_blend, y_train_blend)\n",
        "    svr_model_blend.fit(X_train_blend, y_train_blend)\n",
        "    knn_model_blend.fit(X_train_blend, y_train_blend)\n",
        "\n",
        "    # Predecir en el conjunto de validación\n",
        "    rf_pred = rf_model_blend.predict(X_val_blend)\n",
        "    svr_pred = svr_model_blend.predict(X_val_blend)\n",
        "    knn_pred = knn_model_blend.predict(X_val_blend)\n",
        "\n",
        "    # Crear el conjunto de datos para el meta-modelo\n",
        "    meta_features = np.column_stack((rf_pred, svr_pred, knn_pred))\n",
        "\n",
        "    # Ajustar el meta-modelo\n",
        "    meta_model_blend = LinearRegression()\n",
        "    meta_model_blend.fit(meta_features, y_val_blend)\n",
        "\n",
        "    # Predecir en el conjunto de prueba\n",
        "    rf_test_pred = rf_model_blend.predict(X_test)\n",
        "    svr_test_pred = svr_model_blend.predict(X_test)\n",
        "    knn_test_pred = knn_model_blend.predict(X_test)\n",
        "\n",
        "    # Crear el conjunto de datos para el meta-modelo con las predicciones del conjunto de prueba\n",
        "    meta_test_features = np.column_stack((rf_test_pred, svr_test_pred, knn_test_pred))\n",
        "\n",
        "    # Predecir con el meta-modelo\n",
        "    final_predictions = meta_model_blend.predict(meta_test_features)\n",
        "\n",
        "    return final_predictions, time.time() - start_time"
      ],
      "metadata": {
        "id": "-NewAQBAB3Bv"
      },
      "execution_count": 42,
      "outputs": []
    },
    {
      "cell_type": "code",
      "source": [
        "# Obtener las predicciones del modelo blending\n",
        "start_time = time.time()\n",
        "blending_predictions, blending_training_time = blending_predict(X_train, Y_train, X_test, start_time)\n",
        "blending_metrics = print_metrics(Y_test, blending_predictions, \"Blending Model\", blending_training_time)"
      ],
      "metadata": {
        "colab": {
          "base_uri": "https://localhost:8080/"
        },
        "id": "Q7n7L1wsD0TR",
        "outputId": "76d91788-3a84-4161-f458-696a34f78518"
      },
      "execution_count": 43,
      "outputs": [
        {
          "output_type": "stream",
          "name": "stdout",
          "text": [
            "Metrics for Blending Model:\n",
            "Training Time: 19.80659031867981 seconds\n",
            "Mean Absolute Error (MAE): 0.6094948374337779\n",
            "Mean Squared Error (MSE): 0.7241713782078539\n",
            "Root Mean Squared Error (RMSE): 0.8509825957138336\n",
            "Mean Absolute Percentage Error (MAPE): 0.10342603909916553\n",
            "Explained Variance Score: 0.5886534733812485\n",
            "Max Error: 5.038159226510114\n",
            "Median Absolute Error: 0.4278486561339725\n",
            "R^2 Score: 0.5868759496219258\n"
          ]
        }
      ]
    },
    {
      "cell_type": "markdown",
      "source": [
        "# **Análisis Comparativo**\n",
        "\n",
        "**Tiempo de Entrenamiento:**\n",
        "\n",
        "Más Rápido:\n",
        "* Stacking Regressor (5.501 segundos)\n",
        "Más Lento:\n",
        "* Blending Model (23.392 segundos)\n",
        "\n",
        "Los tiempos de entrenamiento varían considerablemente, siendo el Stacking Regressor el más rápido y el Blending Model el más lento. Esto se debe a la complejidad y la cantidad de pasos involucrados en cada modelo.\n",
        "\n",
        "**Mean Absolute Error (MAE) y Median Absolute Error (MedAE):**\n",
        "\n",
        "Voting Regressor:\n",
        "* MAE = 0.5888\n",
        "* MedAE = 0.3997\n",
        "\n",
        "Stacking Regressor:\n",
        "* MAE = 0.5826\n",
        "+MedAE = 0.4034\n",
        "\n",
        "Blending Model:\n",
        "* MAE = 0.6095\n",
        "* MedAE = 0.4278\n",
        "\n",
        "El Stacking Regressor tiene el menor MAE, lo que indica que, en promedio, las predicciones de este modelo están más cerca de los valores reales comparado con los otros modelos. Aunque el MedAE es ligeramente mayor en Stacking, la diferencia es mínima y ambos valores son cercanos a los del Voting Regressor.\n",
        "\n",
        "**Mean Squared Error (MSE) y Root Mean Squared Error (RMSE):**\n",
        "\n",
        "Voting Regressor:\n",
        "* MSE = 0.6885\n",
        "* RMSE = 0.8297\n",
        "\n",
        "Stacking Regressor:\n",
        "* MSE = 0.6769\n",
        "* RMSE = 0.8228\n",
        "\n",
        "Blending Model:\n",
        "* MSE = 0.7242\n",
        "* RMSE = 0.8510\n",
        "\n",
        "El Stacking Regressor tiene el menor MSE y RMSE, lo que sugiere que este modelo tiene un rendimiento ligeramente mejor en términos de errores cuadrados medios, lo cual es sensible a los outliers. El modelo de Blending tiene los mayores valores en estas métricas, indicando un peor ajuste relativo.\n",
        "\n",
        "**Mean Absolute Percentage Error (MAPE):**\n",
        "\n",
        "Voting Regressor:\n",
        "* MAPE = 0.09997\n",
        "\n",
        "Stacking Regressor:\n",
        "* MAPE = 0.0984\n",
        "\n",
        "Blending Model:\n",
        "* MAPE = 0.1034\n",
        "\n",
        "Nuevamente, el Stacking Regressor tiene el menor MAPE, indicando un error porcentual promedio más bajo.\n",
        "\n",
        "**Explained Variance Score:**\n",
        "\n",
        "Voting Regressor: 0.6098\n",
        "\n",
        "Stacking Regressor: 0.6147\n",
        "\n",
        "Blending Model: 0.5887\n",
        "\n",
        "El Stacking Regressor muestra una ligera ventaja en la varianza explicada, lo que implica que explica mejor la variabilidad en los datos.\n",
        "\n",
        "**Max Error:**\n",
        "\n",
        "Voting Regressor: 4.9603\n",
        "\n",
        "Stacking Regressor: 4.9401\n",
        "\n",
        "Blending Model: 5.0382\n",
        "\n",
        "El Stacking Regressor tiene el menor error máximo, lo que indica que su mayor desviación de los valores reales es menor comparado con los otros modelos.\n",
        "\n",
        "**R^2 Score:**\n",
        "\n",
        "Voting Regressor: 0.6072\n",
        "\n",
        "Stacking Regressor: 0.6138\n",
        "\n",
        "Blending Model: 0.5869\n",
        "\n",
        "El Stacking Regressor tiene el mayor R^2 score, lo que sugiere que este modelo explica mejor la variabilidad de los datos.\n",
        "\n",
        "**Justificación de los Valores Obtenidos**\n",
        "\n",
        "El Stacking Regressor muestra consistentemente mejores métricas que los otros dos modelos en casi todas las categorías. Esto puede ser justificado debido a la capacidad del stacking de combinar las fortalezas de múltiples modelos base a través de un meta-modelo, que se ajusta a las predicciones de estos modelos base para mejorar el rendimiento general.\n",
        "\n",
        "El Voting Regressor también tiene un buen desempeño, siendo competitivo en varias métricas, pero no supera al Stacking en general. Esto es razonable ya que el voting simplemente promedia las predicciones de diferentes modelos sin un ajuste adicional.\n",
        "\n",
        "El Blending Model, aunque sigue siendo efectivo, muestra un rendimiento ligeramente inferior en comparación con los otros dos enfoques. Esto puede deberse a la simplicidad del método de blending en comparación con el stacking, que se entrena de manera más sofisticada para optimizar la combinación de las predicciones.\n",
        "\n",
        "El Stacking Regressor se destaca como el mejor modelo en términos de precisión, manejo de errores grandes y explicación de la variabilidad en los datos. Aunque toma menos tiempo de entrenamiento que otros modelos como el Blending Model, su rendimiento superior en casi todas las métricas lo convierte en la opción más adecuada para este problema de descubrimiento de fármacos. El Voting Regressor y el Random Forest Regressor también son modelos viables, pero no alcanzan el mismo nivel de rendimiento que el Stacking Regressor."
      ],
      "metadata": {
        "id": "a9zAdhslH8Bj"
      }
    },
    {
      "cell_type": "markdown",
      "source": [
        "# **Tablas comparativas**"
      ],
      "metadata": {
        "id": "5GnOAX09KOwu"
      }
    },
    {
      "cell_type": "code",
      "source": [
        "# Lista de diccionarios con el nombre del modelo\n",
        "metrics_list = [\n",
        "    {'Model': 'Random Forest', **rf_metrics},\n",
        "    {'Model': 'SVR', **svr_metrics},\n",
        "    {'Model': 'KNN', **knn_metrics},\n",
        "    {'Model': 'Voting Regressor', **voting_metrics},\n",
        "    {'Model': 'Stacking Regressor', **stacking_metrics},\n",
        "    {'Model': 'Blending Model', **blending_metrics}\n",
        "]"
      ],
      "metadata": {
        "id": "1yKnvu10Rctg"
      },
      "execution_count": 44,
      "outputs": []
    },
    {
      "cell_type": "code",
      "source": [
        "# Crear el DataFrame\n",
        "metrics_df = pd.DataFrame(metrics_list)\n",
        "\n",
        "# Mostrar la tabla en Colab\n",
        "data_table.DataTable(metrics_df, include_index=False)"
      ],
      "metadata": {
        "colab": {
          "base_uri": "https://localhost:8080/",
          "height": 310
        },
        "id": "E4PdP9IdR4a-",
        "outputId": "89244238-7a63-4b1b-e109-55159cf84a2b"
      },
      "execution_count": 48,
      "outputs": [
        {
          "output_type": "execute_result",
          "data": {
            "text/html": [
              "<div>\n",
              "<style scoped>\n",
              "    .dataframe tbody tr th:only-of-type {\n",
              "        vertical-align: middle;\n",
              "    }\n",
              "\n",
              "    .dataframe tbody tr th {\n",
              "        vertical-align: top;\n",
              "    }\n",
              "\n",
              "    .dataframe thead th {\n",
              "        text-align: right;\n",
              "    }\n",
              "</style>\n",
              "<table border=\"1\" class=\"dataframe\">\n",
              "  <thead>\n",
              "    <tr style=\"text-align: right;\">\n",
              "      <th></th>\n",
              "      <th>Model</th>\n",
              "      <th>training_time</th>\n",
              "      <th>R_squ</th>\n",
              "      <th>MAE</th>\n",
              "      <th>MSE</th>\n",
              "      <th>RMSE</th>\n",
              "      <th>MAPE</th>\n",
              "      <th>Explained Variance</th>\n",
              "      <th>Max Error</th>\n",
              "      <th>Median AE</th>\n",
              "    </tr>\n",
              "  </thead>\n",
              "  <tbody>\n",
              "    <tr>\n",
              "      <th>0</th>\n",
              "      <td>Random Forest</td>\n",
              "      <td>24.238347</td>\n",
              "      <td>0.602093</td>\n",
              "      <td>0.598597</td>\n",
              "      <td>0.697496</td>\n",
              "      <td>0.835162</td>\n",
              "      <td>0.102094</td>\n",
              "      <td>0.603979</td>\n",
              "      <td>5.049631</td>\n",
              "      <td>0.408224</td>\n",
              "    </tr>\n",
              "    <tr>\n",
              "      <th>1</th>\n",
              "      <td>SVR</td>\n",
              "      <td>7.683902</td>\n",
              "      <td>0.602093</td>\n",
              "      <td>0.598597</td>\n",
              "      <td>0.697496</td>\n",
              "      <td>0.835162</td>\n",
              "      <td>0.102094</td>\n",
              "      <td>0.603979</td>\n",
              "      <td>5.049631</td>\n",
              "      <td>0.408224</td>\n",
              "    </tr>\n",
              "    <tr>\n",
              "      <th>2</th>\n",
              "      <td>KNN</td>\n",
              "      <td>0.000856</td>\n",
              "      <td>0.602093</td>\n",
              "      <td>0.598597</td>\n",
              "      <td>0.697496</td>\n",
              "      <td>0.835162</td>\n",
              "      <td>0.102094</td>\n",
              "      <td>0.603979</td>\n",
              "      <td>5.049631</td>\n",
              "      <td>0.408224</td>\n",
              "    </tr>\n",
              "    <tr>\n",
              "      <th>3</th>\n",
              "      <td>Voting Regressor</td>\n",
              "      <td>39.720746</td>\n",
              "      <td>0.607243</td>\n",
              "      <td>0.588799</td>\n",
              "      <td>0.688470</td>\n",
              "      <td>0.829741</td>\n",
              "      <td>0.099972</td>\n",
              "      <td>0.609802</td>\n",
              "      <td>4.960330</td>\n",
              "      <td>0.399735</td>\n",
              "    </tr>\n",
              "    <tr>\n",
              "      <th>4</th>\n",
              "      <td>Stacking Regressor</td>\n",
              "      <td>3.363837</td>\n",
              "      <td>0.613816</td>\n",
              "      <td>0.582614</td>\n",
              "      <td>0.676948</td>\n",
              "      <td>0.822769</td>\n",
              "      <td>0.098435</td>\n",
              "      <td>0.614712</td>\n",
              "      <td>4.940147</td>\n",
              "      <td>0.403357</td>\n",
              "    </tr>\n",
              "    <tr>\n",
              "      <th>5</th>\n",
              "      <td>Blending Model</td>\n",
              "      <td>19.806590</td>\n",
              "      <td>0.586876</td>\n",
              "      <td>0.609495</td>\n",
              "      <td>0.724171</td>\n",
              "      <td>0.850983</td>\n",
              "      <td>0.103426</td>\n",
              "      <td>0.588653</td>\n",
              "      <td>5.038159</td>\n",
              "      <td>0.427849</td>\n",
              "    </tr>\n",
              "  </tbody>\n",
              "</table>\n",
              "</div>"
            ],
            "application/vnd.google.colaboratory.module+javascript": "\n      import \"https://ssl.gstatic.com/colaboratory/data_table/0f58263f0ada1429/data_table.js\";\n\n      const table = window.createDataTable({\n        data: [[\"Random Forest\",\n{\n            'v': 24.238346815109253,\n            'f': \"24.238346815109253\",\n        },\n{\n            'v': 0.6020934989836483,\n            'f': \"0.6020934989836483\",\n        },\n{\n            'v': 0.5985974948990781,\n            'f': \"0.5985974948990781\",\n        },\n{\n            'v': 0.6974963064367008,\n            'f': \"0.6974963064367008\",\n        },\n{\n            'v': 0.8351624431430695,\n            'f': \"0.8351624431430695\",\n        },\n{\n            'v': 0.10209432276058882,\n            'f': \"0.10209432276058882\",\n        },\n{\n            'v': 0.6039794310801233,\n            'f': \"0.6039794310801233\",\n        },\n{\n            'v': 5.049630613887933,\n            'f': \"5.049630613887933\",\n        },\n{\n            'v': 0.40822351818171576,\n            'f': \"0.40822351818171576\",\n        }],\n [\"SVR\",\n{\n            'v': 7.683902263641357,\n            'f': \"7.683902263641357\",\n        },\n{\n            'v': 0.6020934989836483,\n            'f': \"0.6020934989836483\",\n        },\n{\n            'v': 0.5985974948990781,\n            'f': \"0.5985974948990781\",\n        },\n{\n            'v': 0.6974963064367008,\n            'f': \"0.6974963064367008\",\n        },\n{\n            'v': 0.8351624431430695,\n            'f': \"0.8351624431430695\",\n        },\n{\n            'v': 0.10209432276058882,\n            'f': \"0.10209432276058882\",\n        },\n{\n            'v': 0.6039794310801233,\n            'f': \"0.6039794310801233\",\n        },\n{\n            'v': 5.049630613887933,\n            'f': \"5.049630613887933\",\n        },\n{\n            'v': 0.40822351818171576,\n            'f': \"0.40822351818171576\",\n        }],\n [\"KNN\",\n{\n            'v': 0.0008559226989746094,\n            'f': \"0.0008559226989746094\",\n        },\n{\n            'v': 0.6020934989836483,\n            'f': \"0.6020934989836483\",\n        },\n{\n            'v': 0.5985974948990781,\n            'f': \"0.5985974948990781\",\n        },\n{\n            'v': 0.6974963064367008,\n            'f': \"0.6974963064367008\",\n        },\n{\n            'v': 0.8351624431430695,\n            'f': \"0.8351624431430695\",\n        },\n{\n            'v': 0.10209432276058882,\n            'f': \"0.10209432276058882\",\n        },\n{\n            'v': 0.6039794310801233,\n            'f': \"0.6039794310801233\",\n        },\n{\n            'v': 5.049630613887933,\n            'f': \"5.049630613887933\",\n        },\n{\n            'v': 0.40822351818171576,\n            'f': \"0.40822351818171576\",\n        }],\n [\"Voting Regressor\",\n{\n            'v': 39.72074604034424,\n            'f': \"39.72074604034424\",\n        },\n{\n            'v': 0.6072426417597332,\n            'f': \"0.6072426417597332\",\n        },\n{\n            'v': 0.5887987167059049,\n            'f': \"0.5887987167059049\",\n        },\n{\n            'v': 0.6884702964105746,\n            'f': \"0.6884702964105746\",\n        },\n{\n            'v': 0.8297411020376022,\n            'f': \"0.8297411020376022\",\n        },\n{\n            'v': 0.09997241828568726,\n            'f': \"0.09997241828568726\",\n        },\n{\n            'v': 0.60980227207454,\n            'f': \"0.60980227207454\",\n        },\n{\n            'v': 4.960329655866938,\n            'f': \"4.960329655866938\",\n        },\n{\n            'v': 0.39973492520856,\n            'f': \"0.39973492520856\",\n        }],\n [\"Stacking Regressor\",\n{\n            'v': 3.3638370037078857,\n            'f': \"3.3638370037078857\",\n        },\n{\n            'v': 0.6138156492423026,\n            'f': \"0.6138156492423026\",\n        },\n{\n            'v': 0.5826143093383256,\n            'f': \"0.5826143093383256\",\n        },\n{\n            'v': 0.6769483724672293,\n            'f': \"0.6769483724672293\",\n        },\n{\n            'v': 0.8227687235591964,\n            'f': \"0.8227687235591964\",\n        },\n{\n            'v': 0.09843455608860387,\n            'f': \"0.09843455608860387\",\n        },\n{\n            'v': 0.6147116442938987,\n            'f': \"0.6147116442938987\",\n        },\n{\n            'v': 4.940147462094453,\n            'f': \"4.940147462094453\",\n        },\n{\n            'v': 0.403357316478151,\n            'f': \"0.403357316478151\",\n        }],\n [\"Blending Model\",\n{\n            'v': 19.80659031867981,\n            'f': \"19.80659031867981\",\n        },\n{\n            'v': 0.5868759496219258,\n            'f': \"0.5868759496219258\",\n        },\n{\n            'v': 0.6094948374337779,\n            'f': \"0.6094948374337779\",\n        },\n{\n            'v': 0.7241713782078539,\n            'f': \"0.7241713782078539\",\n        },\n{\n            'v': 0.8509825957138336,\n            'f': \"0.8509825957138336\",\n        },\n{\n            'v': 0.10342603909916553,\n            'f': \"0.10342603909916553\",\n        },\n{\n            'v': 0.5886534733812485,\n            'f': \"0.5886534733812485\",\n        },\n{\n            'v': 5.038159226510114,\n            'f': \"5.038159226510114\",\n        },\n{\n            'v': 0.4278486561339725,\n            'f': \"0.4278486561339725\",\n        }]],\n        columns: [[\"string\", \"Model\"], [\"number\", \"training_time\"], [\"number\", \"R_squ\"], [\"number\", \"MAE\"], [\"number\", \"MSE\"], [\"number\", \"RMSE\"], [\"number\", \"MAPE\"], [\"number\", \"Explained Variance\"], [\"number\", \"Max Error\"], [\"number\", \"Median AE\"]],\n        columnOptions: [],\n        rowsPerPage: 25,\n        helpUrl: \"https://colab.research.google.com/notebooks/data_table.ipynb\",\n        suppressOutputScrolling: true,\n        minimumWidth: undefined,\n      });\n\n      function appendQuickchartButton(parentElement) {\n        let quickchartButtonContainerElement = document.createElement('div');\n        quickchartButtonContainerElement.innerHTML = `\n<div id=\"df-3ef9714d-21c2-4116-9a77-96fc4e66d522\">\n  <button class=\"colab-df-quickchart\" onclick=\"quickchart('df-3ef9714d-21c2-4116-9a77-96fc4e66d522')\"\n            title=\"Suggest charts\"\n            style=\"display:none;\">\n    \n<svg xmlns=\"http://www.w3.org/2000/svg\" height=\"24px\"viewBox=\"0 0 24 24\"\n     width=\"24px\">\n    <g>\n        <path d=\"M19 3H5c-1.1 0-2 .9-2 2v14c0 1.1.9 2 2 2h14c1.1 0 2-.9 2-2V5c0-1.1-.9-2-2-2zM9 17H7v-7h2v7zm4 0h-2V7h2v10zm4 0h-2v-4h2v4z\"/>\n    </g>\n</svg>\n  </button>\n  \n<style>\n  .colab-df-quickchart {\n      --bg-color: #E8F0FE;\n      --fill-color: #1967D2;\n      --hover-bg-color: #E2EBFA;\n      --hover-fill-color: #174EA6;\n      --disabled-fill-color: #AAA;\n      --disabled-bg-color: #DDD;\n  }\n\n  [theme=dark] .colab-df-quickchart {\n      --bg-color: #3B4455;\n      --fill-color: #D2E3FC;\n      --hover-bg-color: #434B5C;\n      --hover-fill-color: #FFFFFF;\n      --disabled-bg-color: #3B4455;\n      --disabled-fill-color: #666;\n  }\n\n  .colab-df-quickchart {\n    background-color: var(--bg-color);\n    border: none;\n    border-radius: 50%;\n    cursor: pointer;\n    display: none;\n    fill: var(--fill-color);\n    height: 32px;\n    padding: 0;\n    width: 32px;\n  }\n\n  .colab-df-quickchart:hover {\n    background-color: var(--hover-bg-color);\n    box-shadow: 0 1px 2px rgba(60, 64, 67, 0.3), 0 1px 3px 1px rgba(60, 64, 67, 0.15);\n    fill: var(--button-hover-fill-color);\n  }\n\n  .colab-df-quickchart-complete:disabled,\n  .colab-df-quickchart-complete:disabled:hover {\n    background-color: var(--disabled-bg-color);\n    fill: var(--disabled-fill-color);\n    box-shadow: none;\n  }\n\n  .colab-df-spinner {\n    border: 2px solid var(--fill-color);\n    border-color: transparent;\n    border-bottom-color: var(--fill-color);\n    animation:\n      spin 1s steps(1) infinite;\n  }\n\n  @keyframes spin {\n    0% {\n      border-color: transparent;\n      border-bottom-color: var(--fill-color);\n      border-left-color: var(--fill-color);\n    }\n    20% {\n      border-color: transparent;\n      border-left-color: var(--fill-color);\n      border-top-color: var(--fill-color);\n    }\n    30% {\n      border-color: transparent;\n      border-left-color: var(--fill-color);\n      border-top-color: var(--fill-color);\n      border-right-color: var(--fill-color);\n    }\n    40% {\n      border-color: transparent;\n      border-right-color: var(--fill-color);\n      border-top-color: var(--fill-color);\n    }\n    60% {\n      border-color: transparent;\n      border-right-color: var(--fill-color);\n    }\n    80% {\n      border-color: transparent;\n      border-right-color: var(--fill-color);\n      border-bottom-color: var(--fill-color);\n    }\n    90% {\n      border-color: transparent;\n      border-bottom-color: var(--fill-color);\n    }\n  }\n</style>\n\n  <script>\n    async function quickchart(key) {\n      const quickchartButtonEl =\n        document.querySelector('#' + key + ' button');\n      quickchartButtonEl.disabled = true;  // To prevent multiple clicks.\n      quickchartButtonEl.classList.add('colab-df-spinner');\n      try {\n        const charts = await google.colab.kernel.invokeFunction(\n            'suggestCharts', [key], {});\n      } catch (error) {\n        console.error('Error during call to suggestCharts:', error);\n      }\n      quickchartButtonEl.classList.remove('colab-df-spinner');\n      quickchartButtonEl.classList.add('colab-df-quickchart-complete');\n    }\n    (() => {\n      let quickchartButtonEl =\n        document.querySelector('#df-3ef9714d-21c2-4116-9a77-96fc4e66d522 button');\n      quickchartButtonEl.style.display =\n        google.colab.kernel.accessAllowed ? 'block' : 'none';\n    })();\n  </script>\n</div>`;\n        parentElement.appendChild(quickchartButtonContainerElement);\n      }\n\n      appendQuickchartButton(table);\n    ",
            "text/plain": [
              "<google.colab.data_table.DataTable object>"
            ]
          },
          "metadata": {},
          "execution_count": 48
        }
      ]
    },
    {
      "cell_type": "code",
      "source": [
        "# Crear un gráfico de barras agrupadas\n",
        "metrics_df.set_index('Model', inplace=True)\n",
        "metrics_df.plot(kind='bar', figsize=(14, 8))\n",
        "plt.title('Comparación de Métricas entre Modelos')\n",
        "plt.ylabel('Valor de Métrica')\n",
        "plt.xlabel('Modelos')\n",
        "plt.xticks(rotation=45)\n",
        "plt.legend(bbox_to_anchor=(1.05, 1), loc='upper left')\n",
        "plt.tight_layout()\n",
        "plt.show()"
      ],
      "metadata": {
        "colab": {
          "base_uri": "https://localhost:8080/",
          "height": 466
        },
        "id": "fr8VLC3GSPCv",
        "outputId": "860c17b6-6750-4172-9e65-7da4768d736c"
      },
      "execution_count": 49,
      "outputs": [
        {
          "output_type": "display_data",
          "data": {
            "text/plain": [
              "<Figure size 1400x800 with 1 Axes>"
            ],
            "image/png": "[encoded data removed]"
          },
          "metadata": {}
        }
      ]
    },
    {
      "cell_type": "markdown",
      "source": [
        "# **Gráficos significativos**\n",
        "\n",
        "**Análisis de Residuos**\n",
        "\n",
        "Los residuos deben estar distribuidos aleatoriamente alrededor de la línea cero. Si hay patrones claros o tendencias, esto puede indicar un problema con el modelo, como una relación no lineal no capturada.\n",
        "\n",
        "**Predicciones vs. Valores Reales**\n",
        "\n",
        "La mayoría de los puntos deben estar cerca de la línea diagonal, indicando que las predicciones son precisas. Los puntos lejos de la línea indican errores significativos.\n",
        "\n",
        "**Learning Curve**\n",
        "\n",
        "Permite ver si el modelo se está beneficiando de más datos de entrenamiento. Si las curvas de entrenamiento y validación están cercanas, el modelo tiene bajo bias y varianza. Si hay una gran brecha, podría ser necesario ajustar el modelo para mejorar el rendimiento.\n",
        "\n",
        "**Distribución de Residuos**\n",
        "\n",
        "Un histograma simétrico y centrado en cero sugiere que los errores están distribuidos normalmente y no hay sesgos significativos.\n",
        "\n",
        "**Importancia de Características**\n",
        "\n",
        "Identifica qué características tienen el mayor impacto en las predicciones del modelo, lo cual es útil para la interpretación del modelo y para identificar características importantes para la toma de decisiones.\n"
      ],
      "metadata": {
        "id": "6q4mlVW2aLdX"
      }
    },
    {
      "cell_type": "code",
      "source": [
        "# Entrenar nuevamente el modelo Stacking Regressor para obtener predicciones y residuos\n",
        "estimators = [\n",
        "    ('rf', rf_model),\n",
        "    ('svr', svr),\n",
        "    ('knn', knn)\n",
        "]\n",
        "meta_model = LinearRegression()\n",
        "stacking_model = StackingRegressor(estimators=estimators, final_estimator=meta_model)\n",
        "stacking_model.fit(X_train, Y_train)\n",
        "stacking_pred = stacking_model.predict(X_test)\n",
        "residuals = Y_test - stacking_pred"
      ],
      "metadata": {
        "id": "JaNQiu88RcId"
      },
      "execution_count": 42,
      "outputs": []
    },
    {
      "cell_type": "code",
      "source": [
        "# 1. Predicciones vs. Valores Reales\n",
        "plt.figure(figsize=(10, 6))\n",
        "plt.scatter(Y_test, stacking_pred, alpha=0.3)\n",
        "plt.plot([min(Y_test), max(Y_test)], [min(Y_test), max(Y_test)], color='red', linestyle='--')\n",
        "plt.xlabel('Valores Reales')\n",
        "plt.ylabel('Predicciones')\n",
        "plt.title('Predicciones vs. Valores Reales')\n",
        "plt.show()"
      ],
      "metadata": {
        "colab": {
          "base_uri": "https://localhost:8080/",
          "height": 584
        },
        "id": "pah-NWlOSGuv",
        "outputId": "8e84fe5b-f47d-49a9-f5a8-53221311c867"
      },
      "execution_count": 45,
      "outputs": [
        {
          "output_type": "display_data",
          "data": {
            "text/plain": [
              "<Figure size 1000x600 with 1 Axes>"
            ],
            "image/png": "[encoded data removed]"
          },
          "metadata": {}
        }
      ]
    },
    {
      "cell_type": "markdown",
      "source": [
        "**Métricas Relacionadas:**\n",
        "\n",
        "Mean Absolute Error (MAE): 0.5826\n",
        "\n",
        "Mean Absolute Percentage Error (MAPE): 0.0984\n",
        "\n",
        "R^2 Score: 0.6138"
      ],
      "metadata": {
        "id": "BXyzaxsR5EtK"
      }
    },
    {
      "cell_type": "markdown",
      "source": [
        "* La mayoría de los puntos están cerca de la línea diagonal, lo que indica que las predicciones son precisas.\n",
        "\n",
        "* Un MAE de 0.5826 y un MAPE de 0.0984 reflejan que las predicciones del modelo son, en promedio, bastante cercanas a los valores reales.\n",
        "\n",
        "* El R^2 Score de 0.6138 indica que el modelo explica el 61.38% de la variabilidad en los datos. Esto se refleja en la proximidad de los puntos a la línea diagonal, lo cual muestra que el modelo captura bien las relaciones subyacentes en los datos."
      ],
      "metadata": {
        "id": "jtWOyfaU5HU0"
      }
    },
    {
      "cell_type": "code",
      "source": [
        "# 2. Distribución de Residuos\n",
        "plt.figure(figsize=(10, 6))\n",
        "sns.histplot(residuals, kde=True)\n",
        "plt.xlabel('Residuos')\n",
        "plt.title('Distribución de Residuos')\n",
        "plt.show()"
      ],
      "metadata": {
        "colab": {
          "base_uri": "https://localhost:8080/",
          "height": 584
        },
        "id": "WS9jY8EWSRcZ",
        "outputId": "1e4523b8-eedd-46eb-a182-e2cc83075f05"
      },
      "execution_count": 46,
      "outputs": [
        {
          "output_type": "display_data",
          "data": {
            "text/plain": [
              "<Figure size 1000x600 with 1 Axes>"
            ],
            "image/png": "[encoded data removed]"
          },
          "metadata": {}
        }
      ]
    },
    {
      "cell_type": "markdown",
      "source": [
        "**Métricas Relacionadas:**\n",
        "\n",
        "Mean Squared Error (MSE): 0.6769\n",
        "\n",
        "Root Mean Squared Error (RMSE): 0.822"
      ],
      "metadata": {
        "id": "lPurSi0-4ucg"
      }
    },
    {
      "cell_type": "markdown",
      "source": [
        "* La distribución de residuos es aproximadamente normal y centrada en cero.\n",
        "\n",
        "* Un MSE de 0.6769 y un RMSE de 0.8228 indican que los errores están dentro de un rango aceptable y no son excesivamente grandes.\n",
        "\n",
        "* La normalidad de la distribución de residuos sugiere que los errores son aleatorios y no hay patrones específicos que el modelo no haya capturado."
      ],
      "metadata": {
        "id": "U2exVqHO0L2t"
      }
    },
    {
      "cell_type": "code",
      "source": [
        "# 3. Histograma de Errores\n",
        "plt.figure(figsize=(10, 6))\n",
        "plt.hist(residuals, bins=30, edgecolor='k', alpha=0.7)\n",
        "plt.xlabel('Error')\n",
        "plt.ylabel('Frecuencia')\n",
        "plt.title('Histograma de Errores')\n",
        "plt.show()"
      ],
      "metadata": {
        "colab": {
          "base_uri": "https://localhost:8080/",
          "height": 584
        },
        "id": "dUTrF0ddSZS0",
        "outputId": "3808b167-c048-46ca-8c2f-76319377a770"
      },
      "execution_count": 47,
      "outputs": [
        {
          "output_type": "display_data",
          "data": {
            "text/plain": [
              "<Figure size 1000x600 with 1 Axes>"
            ],
            "image/png": "[encoded data removed]"
          },
          "metadata": {}
        }
      ]
    },
    {
      "cell_type": "markdown",
      "source": [
        "**Métricas Relacionadas:**\n",
        "\n",
        "Median Absolute Error (MedAE): 0.4034\n",
        "\n",
        "Max Error: 4.9401"
      ],
      "metadata": {
        "id": "o1ugkLpd2dLC"
      }
    },
    {
      "cell_type": "markdown",
      "source": [
        "* El histograma muestra la frecuencia de los errores, con la mayoría de los errores concentrados cerca de cero.\n",
        "\n",
        "* Un MedAE de 0.4034 indica que la mitad de los errores absolutos son menores a este valor, lo que sugiere que la mayoría de las predicciones son bastante precisas.\n",
        "\n",
        "* El Max Error de 4.9401 muestra que el peor error es relativamente alto, pero dado que es un valor aislado, no distorsiona demasiado el rendimiento general del modelo."
      ],
      "metadata": {
        "id": "EsPHC3bZ8XOD"
      }
    },
    {
      "cell_type": "code",
      "source": [
        "# 4. Learning Curve\n",
        "train_sizes, train_scores, test_scores = learning_curve(\n",
        "    stacking_model, X_train, Y_train, cv=5, scoring='neg_mean_squared_error', n_jobs=-1,\n",
        "    train_sizes=np.linspace(0.1, 1.0, 10)\n",
        ")\n",
        "\n",
        "train_scores_mean = -train_scores.mean(axis=1)\n",
        "test_scores_mean = -test_scores.mean(axis=1)\n",
        "\n",
        "plt.figure(figsize=(10, 6))\n",
        "plt.plot(train_sizes, train_scores_mean, label='Training Error')\n",
        "plt.plot(train_sizes, test_scores_mean, label='Validation Error')\n",
        "plt.xlabel('Tamaño del Conjunto de Entrenamiento')\n",
        "plt.ylabel('Error')\n",
        "plt.title('Learning Curve')\n",
        "plt.legend()\n",
        "plt.show()"
      ],
      "metadata": {
        "colab": {
          "base_uri": "https://localhost:8080/",
          "height": 527
        },
        "id": "4u-tldgITGxh",
        "outputId": "5d019ed7-11a9-4abe-edd5-24fb50452a34"
      },
      "execution_count": 49,
      "outputs": [
        {
          "output_type": "display_data",
          "data": {
            "text/plain": [
              "<Figure size 1000x600 with 1 Axes>"
            ],
            "image/png": "[encoded data removed]"
          },
          "metadata": {}
        }
      ]
    },
    {
      "cell_type": "markdown",
      "source": [
        "**Métricas Relacionadas:**\n",
        "\n",
        "Training Time: 5.501 segundos\n",
        "\n",
        "Explained Variance Score: 0.6147"
      ],
      "metadata": {
        "id": "4UF89ICM8qjo"
      }
    },
    {
      "cell_type": "markdown",
      "source": [
        "La curva de aprendizaje muestra que el error de validación disminuye y se estabiliza a medida que aumenta el tamaño del conjunto de entrenamiento.\n",
        "\n",
        "La pequeña brecha entre las curvas de error de entrenamiento y validación indica que el modelo tiene un buen equilibrio entre sesgo y varianza, lo cual es consistente con el alto Explained Variance Score de 0.6147.\n",
        "\n",
        "El tiempo de entrenamiento relativamente corto de 5.501 segundos sugiere que el modelo es eficiente y rápido de ajustar."
      ],
      "metadata": {
        "id": "FfsFthOy8yj4"
      }
    },
    {
      "cell_type": "code",
      "source": [
        "# 5. Cross-Validation Plot\n",
        "cv_scores = cross_val_score(stacking_model, X_train, Y_train, cv=5, scoring='neg_mean_squared_error')\n",
        "cv_scores_mean = -cv_scores.mean()\n",
        "cv_scores_std = cv_scores.std()\n",
        "\n",
        "plt.figure(figsize=(10, 6))\n",
        "plt.bar(range(1, 6), -cv_scores, yerr=cv_scores_std, align='center', alpha=0.7, capsize=10)\n",
        "plt.axhline(y=cv_scores_mean, color='r', linestyle='--', label=f'Mean CV Error: {cv_scores_mean:.3f}')\n",
        "plt.xlabel('Fold')\n",
        "plt.ylabel('Error')\n",
        "plt.title('Cross-Validation Scores')\n",
        "plt.legend()\n",
        "plt.show()"
      ],
      "metadata": {
        "colab": {
          "base_uri": "https://localhost:8080/",
          "height": 584
        },
        "id": "xXFXa6M4TL5e",
        "outputId": "3c92bbe5-4ec8-4268-b9fd-a847b6f12475"
      },
      "execution_count": 50,
      "outputs": [
        {
          "output_type": "display_data",
          "data": {
            "text/plain": [
              "<Figure size 1000x600 with 1 Axes>"
            ],
            "image/png": "[encoded data removed]"
          },
          "metadata": {}
        }
      ]
    },
    {
      "cell_type": "markdown",
      "source": [
        "**Métricas Relacionadas:**\n",
        "\n",
        "R^2 Score: 0.6138\n",
        "\n",
        "Mean Squared Error (MSE): 0.6769"
      ],
      "metadata": {
        "id": "oNBcfbHz86iw"
      }
    },
    {
      "cell_type": "markdown",
      "source": [
        "Los valores de cross-validation proporcionan una estimación de la capacidad de generalización del modelo.\n",
        "\n",
        "El R^2 Score de 0.6138 y el MSE de 0.6769 son consistentes con los resultados de validación cruzada, indicando que el modelo es estable y generaliza bien a nuevos datos.\n",
        "\n",
        "La consistencia en estas métricas sugiere que el modelo mantiene su rendimiento en diferentes subconjuntos del conjunto de datos."
      ],
      "metadata": {
        "id": "UxjGK8jz9BAr"
      }
    },
    {
      "cell_type": "markdown",
      "source": [],
      "metadata": {
        "id": "lDfufZImF-yE"
      }
    },
    {
      "cell_type": "markdown",
      "source": [
        "## Referencias bibliográficas\n",
        "\n",
        "* Breiman, L. (1996). Stacked regressions. Machine Learning. Recuperado de: https://doi.org/10.1007/BF00117832\n",
        "\n",
        "* Wolpert, D. H. (1992). Stacked generalization. Neural Networks. Recuperado de: https://doi.org/10.1016/S0893-6080(05)80023-1\n",
        "\n",
        "* Kuhn, M., & Johnson, K. (2013). Applied predictive modeling. Recuperado de: https://doi.org/10.1007/978-1-4614-6849-3\n",
        "\n",
        "* Hastie, T., Tibshirani, R., & Friedman, J. (2009). The elements of statistical learning: Data mining, inference, and prediction (2nd ed.). Recuperado de: https://doi.org/10.1007/978-0-387-84858-7\n",
        "\n",
        "* Breiman, L. (2001). Random forests. Machine Learning. Recuperado de: https://doi.org/10.1023/A:1010933404324\n",
        "\n",
        "* Liaw, A., & Wiener, M. (2002). Classification and regression by randomForest. Recuperado de: https://cran.r-project.org/doc/Rnews/Rnews_2002-3.pdf"
      ],
      "metadata": {
        "id": "kkPsrcoQ3sRX"
      }
    },
    {
      "cell_type": "code",
      "source": [],
      "metadata": {
        "id": "0MH3Z34Ybwds"
      },
      "execution_count": null,
      "outputs": []
    }
  ]
}