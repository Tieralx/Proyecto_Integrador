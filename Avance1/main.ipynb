{
  "cells": [
    {
      "cell_type": "markdown",
      "metadata": {
        "id": "view-in-github",
        "colab_type": "text"
      },
      "source": [
        "<a href=\"https://colab.research.google.com/github/rromerov/Proyecto_Integrador/blob/main/Avance1/main.ipynb\" target=\"_parent\"><img src=\"https://colab.research.google.com/assets/colab-badge.svg\" alt=\"Open In Colab\"/></a>"
      ]
    },
    {
      "cell_type": "markdown",
      "metadata": {
        "id": "yekoJdrPpYnf"
      },
      "source": [
        "# Instituto Tecnológico y de Estudios Superiores de Monterrey\n",
        "## Maestría en Inteligencia Artificial Aplicada\n",
        "### Proyecto Integrador (Gpo 10) - TC5035.10\n",
        "\n",
        "### **Proyecto: Diseño Acelerado de Fármacos**\n",
        "\n",
        "### Avance 1: Análisis exploratorio de datos\n",
        "\n",
        "#### **Docentes:**\n",
        "- Dra. Grettel Barceló Alonso - Profesor Titular\n",
        "- Dr. Luis Eduardo Falcón Morales - Profesor Titular\n",
        "- Dr. Ricardo Ambrocio Ramírez Mendoza  – Profesor Tutor\n",
        "\n",
        "#### **Miembros del equipo:**\n",
        "- Ernesto Enríquez Rubio - A01228409\n",
        "- Roberto Romero Vielma - A00822314\n",
        "- Herbert Joadan Romero Villarreal –  A01794199"
      ]
    },
    {
      "cell_type": "markdown",
      "metadata": {
        "id": "Ey73cMMBmM9w"
      },
      "source": [
        "# Análisis exploratorio de los datos"
      ]
    },
    {
      "cell_type": "markdown",
      "metadata": {
        "id": "emikm1M0mXf1"
      },
      "source": [
        "## Instalar librerias faltantes"
      ]
    },
    {
      "cell_type": "code",
      "execution_count": null,
      "metadata": {
        "id": "Hm1yqs9amCtb"
      },
      "outputs": [],
      "source": [
        "! pip install chembl_webresource_client\n",
        "! pip install --extra-index-url=https://pypi.nvidia.com cudf-cu12\n",
        "! pip install rdkit"
      ]
    },
    {
      "cell_type": "markdown",
      "metadata": {
        "id": "mU4ER9xcoD8a"
      },
      "source": [
        "## Importar librerias"
      ]
    },
    {
      "cell_type": "code",
      "execution_count": null,
      "metadata": {
        "id": "Lm-SLu1cmtNm"
      },
      "outputs": [],
      "source": [
        "import pandas as pd\n",
        "from chembl_webresource_client.new_client import new_client\n",
        "from google.colab import drive\n",
        "import locale\n",
        "import condacolab\n",
        "import sys\n",
        "import numpy as np\n",
        "from rdkit import Chem\n",
        "from rdkit.Chem import Descriptors, Lipinski\n",
        "import seaborn as sns\n",
        "import matplotlib.pyplot as plt\n",
        "from numpy.random import seed\n",
        "from numpy.random import randn\n",
        "from scipy.stats import mannwhitneyu"
      ]
    },
    {
      "cell_type": "markdown",
      "metadata": {
        "id": "CuT5CW45ED7I"
      },
      "source": [
        "**Compuestos inhibidores de la proteina VEFG**\n",
        "\n",
        "* Pazopanib: Es un inhibidor multiquinasa con biodisponibilidad oral. Actúa sobre los tres tipos de receptores del factor de crecimiento vascular endotelial (VEGFR-1, VEGFR-2 y VEGFR-3),\n",
        "* Sunitinib: Actúa bloqueando los receptores del factor de crecimiento derivado de plaquetas (PDGFRα y PDGFRβ), los receptores VEGF (VEGFR1, VEGFR2 y VEGFR3), el receptor de factor de células madre (KIT), la tirosin-quinasa 3 tipo Fms (FLT3), el factor estimulador de colonias (CSF-1R) y el receptor del factor de crecimiento epidérmico (EGFR).\n",
        "* Bevacizumab: Al unirse al VEGF, bevacizumab inhibe su unión a los receptores Flt-1 (VEGFR-1) y KDR (VEGFR-2) presentes en la superficie de las células endoteliales.\n",
        "* Sorafenib:  Inhibe varios receptores de factores de crecimiento, como las kinasas de tirosina. Algunos de estos receptores incluyen:\n",
        "PDGFR-beta,VEGFR-2 (receptor 2 del factor de crecimiento endotelial vascular), VEGFR-3\n",
        "* Regorafenib:  Afecta a múltiples quinasas, incluyendo aquellas involucradas en la angiogénesis, mientras que el VEGF 165 desempeña un papel crítico en la promoción de la formación de vasos sanguíneos.\n",
        "* Cabozantinib: cabozantinib actúa como un inhibidor de VEGF y MET, lo que lo convierte en una opción terapéutica para ciertos tipos de cáncer.\n",
        "* Lenvatinib: Se dirige selectivamente a la actividad quinasa de varios receptores, incluyendo los del factor de crecimiento del endotelio vascular (VEGF): VEGFR1 (FLT1), VEGFR2 (KDR) y VEGFR3 (FLT4)."
      ]
    },
    {
      "cell_type": "markdown",
      "metadata": {
        "id": "dpyDcafrJ5k2"
      },
      "source": [
        "# ChEMBL IDs\n",
        "\n"
      ]
    },
    {
      "cell_type": "code",
      "execution_count": null,
      "metadata": {
        "id": "kUxAI_kbKAWP"
      },
      "outputs": [],
      "source": [
        "# ChEMBL IDs\n",
        "drugs_for_vegf_protein_ids = {\n",
        "    'pazopanib': 'CHEMBL477772',\n",
        "    'sunitinib': 'CHEMBL535',\n",
        "    # 'bevacizumab': 'CHEMBL1201583',\n",
        "    'sorafenib': 'CHEMBL1336',\n",
        "    'regorafenib': 'CHEMBL1946170',\n",
        "    'cabozantinib': 'CHEMBL2105717',\n",
        "    'lenvatinib': 'CHEMBL1289601',\n",
        "    'vandetanib': 'CHEMBL24828',\n",
        "    'axitinib' :'CHEMBL1289926',\n",
        "    'foretinib': 'CHEMBL1230609',\n",
        "    'tivozanib': 'CHEMBL1289494',\n",
        "    'dovitinib': 'CHEMBL522892',\n",
        "    'orantinib': 'CHEMBL274654',\n",
        "    'nintedanib': 'CHEMBL502835',\n",
        "    'vatalanib': 'CHEMBL101253',\n",
        "    'telatinib': 'CHEMBL2079588',\n",
        "    'motesanib': 'CHEMBL572881',\n",
        "    'brivanib': 'CHEMBL377300',\n",
        "    'linifanib': 'CHEMBL223360',\n",
        "    'regorafenib': 'CHEMBL1946170'}"
      ]
    },
    {
      "cell_type": "code",
      "execution_count": null,
      "metadata": {
        "id": "AhPjq2dZ5eFc"
      },
      "outputs": [],
      "source": [
        "\n",
        "# Obtener información molecular\n",
        "molecule = new_client.molecule\n",
        "drugs_can_smiles = {}\n",
        "for drug_name, drug_chembl in drugs_for_vegf_protein_ids.items():\n",
        "    drugs_can_smiles.update({drug_name: molecule.get(drug_chembl).get('molecule_structures').get('canonical_smiles')})\n",
        "    # Print out the results\n",
        "    print(drug_name, ' > ', drugs_can_smiles[drug_name])"
      ]
    },
    {
      "cell_type": "markdown",
      "metadata": {
        "id": "TekhBEunVXqj"
      },
      "source": [
        "# Inhibidores del receptor del factor de crecimiento endotelial vascular"
      ]
    },
    {
      "cell_type": "code",
      "execution_count": null,
      "metadata": {
        "id": "LS0vbMCQWh0i"
      },
      "outputs": [],
      "source": [
        "# Accede al atributo 'mechanism'\n",
        "mechanism_client = new_client.mechanism\n",
        "\n",
        "# Busca el ID del mecanismo \"Vascular endothelial growth factor receptor inhibitor\"\n",
        "# Si no conoces el ID de antemano, puedes buscarlo filtrando por mecanismo de acción\n",
        "mechanism_name = 'Vascular endothelial growth factor receptor inhibitor'\n",
        "mechanism_info = mechanism_client.filter(mechanism_of_action=mechanism_name)\n"
      ]
    },
    {
      "cell_type": "code",
      "execution_count": null,
      "metadata": {
        "id": "G4eishsTYkjc"
      },
      "outputs": [],
      "source": [
        "# Obtener los compuestos ChMBL que son inhibidores\n",
        "inhi_chmbl_ids = [mechanism_info[i]['molecule_chembl_id'] for i in range(len(mechanism_info))]"
      ]
    },
    {
      "cell_type": "code",
      "execution_count": null,
      "metadata": {
        "id": "7zGJWtOiWkU0"
      },
      "outputs": [],
      "source": [
        "# Obtener información molecular\n",
        "molecule = new_client.molecule\n",
        "drugs_can_smiles = {}\n",
        "for drug_chembl in inhi_chmbl_ids:\n",
        "    try:\n",
        "      molecule_chembl = molecule.get(drug_chembl)\n",
        "      molecule_structure = molecule_chembl.get('molecule_structures')\n",
        "      molecule_canon_smiles = molecule_structure.get('canonical_smiles')\n",
        "      molecule_name = molecule_structure.get('molfile').split('\\n')[-1].lower()\n",
        "      drugs_can_smiles.update({molecule_name: molecule_canon_smiles})\n",
        "      # Print out the results\n",
        "      print(molecule_name, ' > ', drugs_can_smiles[molecule_name])\n",
        "    except:\n",
        "      print(f'Compuesto {drug_chembl} no fue encontrado.')"
      ]
    },
    {
      "cell_type": "markdown",
      "metadata": {
        "id": "JjOTu7mwoNEm"
      },
      "source": [
        "## Buscar proteina target, en este caso VEGF165"
      ]
    },
    {
      "cell_type": "code",
      "execution_count": null,
      "metadata": {
        "id": "CmE7P48WoYAm"
      },
      "outputs": [],
      "source": [
        "# Búsqueda de VEGF165 target\n",
        "%load_ext cudf.pandas\n",
        "target = new_client.target\n",
        "target_query = target.search('Neuropilin-1')\n",
        "targets = pd.DataFrame.from_dict(target_query)\n",
        "targets"
      ]
    },
    {
      "cell_type": "markdown",
      "metadata": {
        "id": "E6mNZazjvbez"
      },
      "source": [
        "## Selecionar y recuperar los datos de bioactividad para la proteina VEGF165"
      ]
    },
    {
      "cell_type": "code",
      "execution_count": null,
      "metadata": {
        "id": "ukkHJ-WC1CWl"
      },
      "outputs": [],
      "source": [
        "selected_target = 'CHEMBL5174'"
      ]
    },
    {
      "cell_type": "code",
      "execution_count": null,
      "metadata": {
        "id": "6Yvyf4IjuA3i"
      },
      "outputs": [],
      "source": [
        "# Filtrar el dataset para solo tener la fila donde el target_chembl_id sea igual a CHEMBL5174\n",
        "selected_target_row = targets[targets['target_chembl_id'] == selected_target]\n",
        "selected_target_row"
      ]
    },
    {
      "cell_type": "markdown",
      "metadata": {
        "id": "WW1es86PwEVE"
      },
      "source": [
        "Aqui vamos a recuperar los datos de bioactividad para la proteina VEGF165"
      ]
    },
    {
      "cell_type": "code",
      "execution_count": null,
      "metadata": {
        "id": "AjcTe0f7vEap"
      },
      "outputs": [],
      "source": [
        "activity = new_client.activity\n",
        "res = activity.filter(target_chembl_id=selected_target).filter(standard_type='IC50')"
      ]
    },
    {
      "cell_type": "code",
      "execution_count": null,
      "metadata": {
        "id": "UAi7t7lX3X48"
      },
      "outputs": [],
      "source": [
        "pd.set_option('display.max_columns', None)\n",
        "# Guardar response como dataframe\n",
        "df = pd.DataFrame.from_dict(res)\n",
        "df.head()"
      ]
    },
    {
      "cell_type": "code",
      "execution_count": null,
      "metadata": {
        "id": "3_yQA0ARCBYy"
      },
      "outputs": [],
      "source": [
        "records_df = len(df)\n",
        "print(f'Number of records in the dataset: {records_df}')"
      ]
    },
    {
      "cell_type": "markdown",
      "metadata": {
        "id": "aUGeF3sy38ML"
      },
      "source": [
        "## Descripción de columnas relevantes dentro del dataframe:\n",
        "\n",
        "* Standard Value: Es la potencia de la droga, mientras menor sea el valor más eficaz es, debido a que un mayor significa que se requiere de una mayor cantidad de droga para tener el mismo efecto"
      ]
    },
    {
      "cell_type": "code",
      "execution_count": null,
      "metadata": {
        "id": "6lUiqnt92SVd"
      },
      "outputs": [],
      "source": [
        "# Verificar que solo se cuente con registros de IC50\n",
        "df.standard_type.unique()"
      ]
    },
    {
      "cell_type": "code",
      "execution_count": null,
      "metadata": {
        "id": "PwCbcHeZ5qwq"
      },
      "outputs": [],
      "source": [
        "# Visualizar rango de valores de standard value\n",
        "df.standard_value.unique()"
      ]
    },
    {
      "cell_type": "markdown",
      "metadata": {
        "id": "BcwHR0uU7SOs"
      },
      "source": [
        "# Guardar resultados en Google Drive"
      ]
    },
    {
      "cell_type": "code",
      "execution_count": null,
      "metadata": {
        "id": "SKmPKt7o7GoQ"
      },
      "outputs": [],
      "source": [
        "# Cargar Google Drive al notebook\n",
        "drive.mount('/content/drive')"
      ]
    },
    {
      "cell_type": "code",
      "execution_count": null,
      "metadata": {
        "id": "k0RGZdQl8GKJ"
      },
      "outputs": [],
      "source": [
        "locale.getpreferredencoding = lambda: \"UTF-8\"\n",
        "# Crear carpeta dentro de google drive llamada data\n",
        "! mkdir '/content/drive/My Drive/Colab Notebooks/data'"
      ]
    },
    {
      "cell_type": "code",
      "execution_count": null,
      "metadata": {
        "id": "bhhMn1Pw9DiM"
      },
      "outputs": [],
      "source": [
        "# Subir el csv a la carpeta destino\n",
        "df.to_csv('/content/drive/My Drive/Colab Notebooks/data/bioactivity_data.csv', index=False)"
      ]
    },
    {
      "cell_type": "code",
      "execution_count": null,
      "metadata": {
        "id": "OK4o-r7RAE1T"
      },
      "outputs": [],
      "source": [
        "# Verificar que el archivo se encuentra en la carpeta destino\n",
        "! ls -l '/content/drive/My Drive/Colab Notebooks/data'"
      ]
    },
    {
      "cell_type": "markdown",
      "metadata": {
        "id": "1wRtmpyNBQi1"
      },
      "source": [
        "Ver contenido de **bioactivity_data.csv**"
      ]
    },
    {
      "cell_type": "code",
      "execution_count": null,
      "metadata": {
        "id": "lTV934qoBGhA"
      },
      "outputs": [],
      "source": [
        "! head '/content/drive/My Drive/Colab Notebooks/data/bioactivity_data.csv'"
      ]
    },
    {
      "cell_type": "markdown",
      "metadata": {
        "id": "sgrFaHG4Clt_"
      },
      "source": [
        "## Manejo de valores faltantes\n",
        "Dado que nos interesa conocer el standard value, los registros que no cuenten con esta información serán eliminados"
      ]
    },
    {
      "cell_type": "code",
      "execution_count": null,
      "metadata": {
        "id": "Dx4ZVAShBc_x"
      },
      "outputs": [],
      "source": [
        "df2 = df[df.standard_value.notna()]\n",
        "df2"
      ]
    },
    {
      "cell_type": "code",
      "execution_count": null,
      "metadata": {
        "id": "10OXBEnZB6lN"
      },
      "outputs": [],
      "source": [
        "records_df2 = len(df2)\n",
        "preserved_info = round((records_df2/records_df)*100,2)\n",
        "print(f'Number of records in df2 {records_df2}, percentage of information preserved: {preserved_info}')"
      ]
    },
    {
      "cell_type": "code",
      "execution_count": null,
      "metadata": {
        "id": "gHW3nChMP3O_"
      },
      "outputs": [],
      "source": [
        "# Verificar la cantidad de registros de canonical smiles\n",
        "canon_smiles_count = sum(df2.canonical_smiles.notnull())\n",
        "canon_smiles_count"
      ]
    },
    {
      "cell_type": "code",
      "execution_count": null,
      "metadata": {
        "id": "6jFv-E5XOS7S"
      },
      "outputs": [],
      "source": [
        "# Verificar que la columna canonical_smiles cuente con valores unicos\n",
        "unique_canon_smiles_count = len(df2.canonical_smiles.unique())\n",
        "percentage_unique_canon_smiles = round(unique_canon_smiles_count/canon_smiles_count*100,2)\n",
        "print(f'Number of unique canonical_smiles records in df2: {unique_canon_smiles_count}, percentage of unique records: {percentage_unique_canon_smiles}')"
      ]
    },
    {
      "cell_type": "markdown",
      "metadata": {
        "id": "iaxNNAlfOLld"
      },
      "source": [
        "### Eliminar canonical_smiles duplicadas"
      ]
    },
    {
      "cell_type": "code",
      "execution_count": null,
      "metadata": {
        "id": "aeU-blGDODDC"
      },
      "outputs": [],
      "source": [
        "df2_unique_can_smiles = df2.drop_duplicates(['canonical_smiles'])\n",
        "df2_unique_can_smiles"
      ]
    },
    {
      "cell_type": "markdown",
      "metadata": {
        "id": "RC7K-atVJcL8"
      },
      "source": [
        "## Preprocesamiento de datos de bioactividad"
      ]
    },
    {
      "cell_type": "markdown",
      "metadata": {
        "id": "b5yDTMLrSLwF"
      },
      "source": [
        "### Combinar 3 columnas (molecule_chembl_id,canonical_smiles,standard_value) y bioactivity_class en un DataFrame"
      ]
    },
    {
      "cell_type": "code",
      "execution_count": null,
      "metadata": {
        "id": "2AK-UoU1M7SN"
      },
      "outputs": [],
      "source": [
        "selection = ['molecule_chembl_id','canonical_smiles','standard_value']\n",
        "df3 = df2_unique_can_smiles[selection]\n",
        "df3"
      ]
    },
    {
      "cell_type": "markdown",
      "metadata": {
        "id": "BGUfzoZDTLlK"
      },
      "source": [
        "Guardar resultados en un archivo CSV"
      ]
    },
    {
      "cell_type": "code",
      "execution_count": null,
      "metadata": {
        "id": "W6U_cWfaTHt0"
      },
      "outputs": [],
      "source": [
        "# Subir el csv a la carpeta destino\n",
        "df3.to_csv('/content/drive/My Drive/Colab Notebooks/data/bioactivity_data_preprocessed.csv', index=False)"
      ]
    },
    {
      "cell_type": "code",
      "execution_count": null,
      "metadata": {
        "id": "lWg8BQjSTczr"
      },
      "outputs": [],
      "source": [
        "# Verificar cambios\n",
        "! ls '/content/drive/My Drive/Colab Notebooks/data/'"
      ]
    },
    {
      "cell_type": "markdown",
      "metadata": {
        "id": "LV01QINbHE57"
      },
      "source": [
        "### Etiquetado de componentes\n",
        "Los datos de bioactividad estan en la unidad IC50. Compuestos con menos de 1000 nM será considerados como **activos** mientras aquellos que sean mayores a 10,000 nM serán considerados como **inactivos**. Todos los valores que caen dentro de 1,000 y 10,000 nM serán clasificados como **intermedios**."
      ]
    },
    {
      "cell_type": "code",
      "execution_count": null,
      "metadata": {
        "id": "ZQ6gCCzQUTQD"
      },
      "outputs": [],
      "source": [
        "# Leer csv con datos preprocesados\n",
        "df4 = pd.read_csv('/content/drive/My Drive/Colab Notebooks/data/bioactivity_data_preprocessed.csv')"
      ]
    },
    {
      "cell_type": "code",
      "execution_count": null,
      "metadata": {
        "id": "k_xtqR8xCd_O"
      },
      "outputs": [],
      "source": [
        "bioactivity_threshold = []\n",
        "for i in df4.standard_value:\n",
        "  if float(i) >= 10000:\n",
        "    bioactivity_threshold.append(\"inactive\")\n",
        "  elif float(i) <= 1000:\n",
        "    bioactivity_threshold.append(\"active\")\n",
        "  else:\n",
        "    bioactivity_threshold.append(\"intermediate\")"
      ]
    },
    {
      "cell_type": "code",
      "execution_count": null,
      "metadata": {
        "id": "ynzG5t1JUysK"
      },
      "outputs": [],
      "source": [
        "# Concatenar lista generada como una serie de pandas y agregarla al df\n",
        "bioactivity_class = pd.Series(bioactivity_threshold, name='class')\n",
        "df5 = pd.concat([df4, bioactivity_class], axis=1)\n",
        "df5"
      ]
    },
    {
      "cell_type": "markdown",
      "metadata": {
        "id": "LBpU_kbDNr34"
      },
      "source": [
        "Guardad dataframe como archivo csv"
      ]
    },
    {
      "cell_type": "code",
      "execution_count": null,
      "metadata": {
        "id": "m_atc_gKNw2H"
      },
      "outputs": [],
      "source": [
        "# Subir el csv a la carpeta destino\n",
        "df5.to_csv('/content/drive/My Drive/Colab Notebooks/data/bioactivity_data_curated.csv', index=False)"
      ]
    },
    {
      "cell_type": "markdown",
      "metadata": {
        "id": "KWQhNZbShiTa"
      },
      "source": [
        "## Cargar datos de bioactividad"
      ]
    },
    {
      "cell_type": "code",
      "execution_count": null,
      "metadata": {
        "id": "7pDaBKHihhih"
      },
      "outputs": [],
      "source": [
        "# Leer el archivo con los datos curados\n",
        "df6 = pd.read_csv('/content/drive/My Drive/Colab Notebooks/data/bioactivity_data_curated.csv')\n",
        "df6"
      ]
    },
    {
      "cell_type": "markdown",
      "metadata": {
        "id": "1PX7-y6E-tyw"
      },
      "source": [
        "## Calcular descriptores Lipinski\n",
        "\n",
        "### Regla de Lipinski\n",
        "\n",
        "\n",
        "La regla de Lipinski establece los siguientes criterios para evaluar la idoneidad de una molécula como candidato a fármaco:\n",
        "\n",
        "1. **Peso molecular (MW):** MW < 500\n",
        "2. **LogP (coeficiente de partición octanol-agua):** LogP < 5\n",
        "3. **Número de donantes de hidrógeno (HBD):** HBD < 5\n",
        "4. **Número de aceptores de hidrógeno (HBA):** HBA < 10\n",
        "\n"
      ]
    },
    {
      "cell_type": "code",
      "execution_count": null,
      "metadata": {
        "id": "pFMKeMHv_2vu"
      },
      "outputs": [],
      "source": [
        "def lipinski(smiles, verbose=False):\n",
        "\n",
        "  moldata = []\n",
        "  for element in smiles:\n",
        "    mol = Chem.MolFromSmiles(element)\n",
        "    moldata.append(mol)\n",
        "\n",
        "  baseData = np.arange(1,1)\n",
        "  i = 0\n",
        "  for mol in moldata:\n",
        "\n",
        "    desc_MolWt = Descriptors.MolWt(mol)\n",
        "    desc_MolLogP = Descriptors.MolLogP(mol)\n",
        "    desc_NumHDonors = Lipinski.NumHDonors(mol)\n",
        "    desc_NumAcceptors = Lipinski.NumHAcceptors(mol)\n",
        "\n",
        "    row = np.array([desc_MolWt,\n",
        "                    desc_MolLogP,\n",
        "                    desc_NumHDonors,\n",
        "                    desc_NumAcceptors])\n",
        "\n",
        "    if i==0:\n",
        "      baseData = row\n",
        "    else:\n",
        "      baseData = np.vstack([baseData, row])\n",
        "    i = i+1\n",
        "\n",
        "  columNames = ['MW','LogP','NumHDonors','NumHAcceptors']\n",
        "  descriptors = pd.DataFrame(data=baseData, columns = columNames)\n",
        "\n",
        "  return descriptors"
      ]
    },
    {
      "cell_type": "code",
      "execution_count": null,
      "metadata": {
        "id": "-zdf9LARCtCN"
      },
      "outputs": [],
      "source": [
        "df_lipinski = lipinski(df6.canonical_smiles)"
      ]
    },
    {
      "cell_type": "markdown",
      "metadata": {
        "id": "uc2MlKqRC6Ur"
      },
      "source": [
        "## Combinar DataFrames"
      ]
    },
    {
      "cell_type": "code",
      "execution_count": null,
      "metadata": {
        "id": "mxMg1x7iCxii"
      },
      "outputs": [],
      "source": [
        "# Visualizar el dataframe con los descriptores calculados\n",
        "df_lipinski"
      ]
    },
    {
      "cell_type": "code",
      "execution_count": null,
      "metadata": {
        "id": "9snQz4OYLEhG"
      },
      "outputs": [],
      "source": [
        "combined_df = pd.concat([df6, df_lipinski], axis=1)\n",
        "combined_df"
      ]
    },
    {
      "cell_type": "markdown",
      "metadata": {
        "id": "MWHIVGAILpeS"
      },
      "source": [
        "## Convertir IC50 a pIC50\n",
        "\n",
        "Para contar con datos más uniformes, se convirtió **IC50** a su escala logaritmica negativa, lo cual esencialemnte es ${-\\log_{10}(IC_{50})}$\n",
        "\n",
        "Se definió una función **pIC50** la cual aceptará un dataframe como entrada y hará lo siguiente:\n",
        "\n",
        "* Tomar los valores de IC50 de la columna **standard_value** y los convertirá de nM a M mediante la multiplicación del valor por ${10^{-9}}$.\n",
        "* Tomar el valor molar y aplicar ${-\\log_{10}}$\n",
        "* Borrar la columna de **standard_value** y crear una nueva columna llamada **pIC50**."
      ]
    },
    {
      "cell_type": "code",
      "execution_count": null,
      "metadata": {
        "id": "KYi9l_F6Lf5s"
      },
      "outputs": [],
      "source": [
        "def pIC50(input):\n",
        "  pIC50 = []\n",
        "  for i in input['standard_value_norm']:\n",
        "    molar = i*(10**-9) # Convierte nM a M\n",
        "    pIC50.append(-np.log10(molar))\n",
        "\n",
        "  input['pIC50'] = pIC50\n",
        "  x = input.drop(columns='standard_value_norm')\n",
        "\n",
        "  return x"
      ]
    },
    {
      "cell_type": "markdown",
      "metadata": {
        "id": "k_m7Er2gPfu4"
      },
      "source": [
        "Los valores mayores a 100,000,000 se quedarán en 100,000,000, de no hacerlo así los valores logaritmicos negativos se convertirán en negativos."
      ]
    },
    {
      "cell_type": "code",
      "execution_count": null,
      "metadata": {
        "id": "ne44isY2QCAA"
      },
      "outputs": [],
      "source": [
        "combined_df.standard_value.describe()"
      ]
    },
    {
      "cell_type": "markdown",
      "metadata": {
        "id": "5GinbfglQYyX"
      },
      "source": [
        "En este caso no es necesario pero se debe implementar esa lógica para evitar cualquier tipo de problema en el futuro."
      ]
    },
    {
      "cell_type": "code",
      "execution_count": null,
      "metadata": {
        "id": "fLzAALmuUznq"
      },
      "outputs": [],
      "source": [
        "def norm_value(input):\n",
        "    norm = []\n",
        "\n",
        "    for i in input['standard_value']:\n",
        "        if i > 100000000:\n",
        "          i = 100000000\n",
        "        norm.append(i)\n",
        "\n",
        "    input['standard_value_norm'] = norm\n",
        "    x = input.drop(columns='standard_value')\n",
        "\n",
        "    return x"
      ]
    },
    {
      "cell_type": "markdown",
      "metadata": {
        "id": "CdOf6n4QRMck"
      },
      "source": [
        "Primero aplicaremos la función **norm_value** para que los valores dentro de la columna **standard_value** sean normalizados."
      ]
    },
    {
      "cell_type": "code",
      "execution_count": null,
      "metadata": {
        "id": "HkEuTqW0U3SK"
      },
      "outputs": [],
      "source": [
        "df_norm = norm_value(combined_df)"
      ]
    },
    {
      "cell_type": "markdown",
      "metadata": {
        "id": "yhZOKTHiVLmB"
      },
      "source": [
        "El siguiente paso es convertir la columna IC50 a pIC50"
      ]
    },
    {
      "cell_type": "code",
      "execution_count": null,
      "metadata": {
        "id": "SOmll7D6VUPh"
      },
      "outputs": [],
      "source": [
        "df_final = pIC50(df_norm)\n",
        "df_final"
      ]
    },
    {
      "cell_type": "code",
      "execution_count": null,
      "metadata": {
        "id": "ljewrZxRVZht"
      },
      "outputs": [],
      "source": [
        "df_final.pIC50.describe()"
      ]
    },
    {
      "cell_type": "markdown",
      "metadata": {
        "id": "kRtjj03CWt5m"
      },
      "source": [
        "## Eliminar la clase bioactiva intermedia"
      ]
    },
    {
      "cell_type": "code",
      "execution_count": null,
      "metadata": {
        "id": "OzVdxhLAWsuL"
      },
      "outputs": [],
      "source": [
        "df_2classes = df_final[df_final['class'] != 'intermediate']\n",
        "df_2classes"
      ]
    },
    {
      "cell_type": "code",
      "execution_count": null,
      "metadata": {
        "id": "xdWfgZS6WGjR"
      },
      "outputs": [],
      "source": [
        "# Guardar dataframe en archivo csv\n",
        "df_final.to_csv('/content/drive/My Drive/Colab Notebooks/data/bioactivity_data_2class_pIC50.csv', index=False)"
      ]
    },
    {
      "cell_type": "markdown",
      "metadata": {
        "id": "D9Os01LIXpdP"
      },
      "source": [
        "## Análisis exploratorio de los datos (Análisis del Espacio Químico) mediante descriptores Lipinski"
      ]
    },
    {
      "cell_type": "markdown",
      "metadata": {
        "id": "P6DmLN_fYHjy"
      },
      "source": [
        "### Distribución de las dos clases de bioactividad"
      ]
    },
    {
      "cell_type": "code",
      "execution_count": null,
      "metadata": {
        "id": "3zDRIoaiX2P-"
      },
      "outputs": [],
      "source": [
        "sns.set(style='ticks')\n",
        "plt.figure(figsize=(5.5, 5.5))\n",
        "\n",
        "sns.countplot(x='class', data=df_2classes, edgecolor='black', hue='class')\n",
        "\n",
        "plt.xlabel('Bioactivity class', fontsize=14, fontweight='bold')\n",
        "plt.ylabel('Frequency', fontsize=14, fontweight='bold')\n",
        "\n",
        "plt.savefig('/content/drive/My Drive/Colab Notebooks/data/plot_bioactivity_class.pdf')"
      ]
    },
    {
      "cell_type": "markdown",
      "metadata": {
        "id": "iCG2Zu57YzSw"
      },
      "source": [
        "### Gráfica de dispersión"
      ]
    },
    {
      "cell_type": "code",
      "execution_count": null,
      "metadata": {
        "id": "8_JVMC92X_t5"
      },
      "outputs": [],
      "source": [
        "plt.figure(figsize=(5.5, 5.5))\n",
        "\n",
        "sns.scatterplot(x='MW', y='LogP', data=df_2classes, hue='class', size='pIC50', edgecolor='black', alpha=0.7)\n",
        "\n",
        "plt.xlabel('MW', fontsize=14, fontweight='bold')\n",
        "plt.ylabel('LogP', fontsize=14, fontweight='bold')\n",
        "plt.legend(bbox_to_anchor=(1.05, 1), loc=2, borderaxespad=0)\n",
        "plt.savefig('/content/drive/My Drive/Colab Notebooks/data/plot_MW_vs_LogP.pdf')"
      ]
    },
    {
      "cell_type": "markdown",
      "metadata": {
        "id": "wsrreLalZex8"
      },
      "source": [
        "### Diagrama de caja\n",
        "#### Valor de pIC50"
      ]
    },
    {
      "cell_type": "code",
      "execution_count": null,
      "metadata": {
        "id": "D-x1qlDXZl99"
      },
      "outputs": [],
      "source": [
        "plt.figure(figsize=(5.5, 5.5))\n",
        "\n",
        "sns.boxplot(x = 'class', y = 'pIC50', data = df_2classes, hue = 'class')\n",
        "\n",
        "plt.xlabel('Bioactivity class', fontsize=14, fontweight='bold')\n",
        "plt.ylabel('pIC50 value', fontsize=14, fontweight='bold')\n",
        "\n",
        "plt.savefig('/content/drive/My Drive/Colab Notebooks/data/plot_ic50.pdf')"
      ]
    },
    {
      "cell_type": "markdown",
      "metadata": {
        "id": "Qhb9VsXzaD8B"
      },
      "source": [
        "##### Análisis estadístico\n",
        "**Prueba U Mann-Whitney**\n"
      ]
    },
    {
      "cell_type": "code",
      "execution_count": null,
      "metadata": {
        "id": "gop0W9lxZ183"
      },
      "outputs": [],
      "source": [
        "def mannwhitney(descriptor, verbose=False):\n",
        "\n",
        "  # Generador de semilla aleatoria\n",
        "    seed(1)\n",
        "\n",
        "  # Activos e inactivos\n",
        "    selection = [descriptor, 'class']\n",
        "    df = df_2classes[selection]\n",
        "    active = df[df['class'] == 'active']\n",
        "    active = active[descriptor]\n",
        "\n",
        "    selection = [descriptor, 'class']\n",
        "    df = df_2classes[selection]\n",
        "    inactive = df[df['class'] == 'inactive']\n",
        "    inactive = inactive[descriptor]\n",
        "\n",
        "  # Comparar muestras\n",
        "    stat, p = mannwhitneyu(active, inactive)\n",
        "\n",
        "  # Interpretar\n",
        "    alpha = 0.05\n",
        "    if p > alpha:\n",
        "      interpretation = 'Same distribution (fail to reject H0)'\n",
        "    else:\n",
        "      interpretation = 'Different distribution (reject H0)'\n",
        "\n",
        "    results = pd.DataFrame({'Descriptor':descriptor,\n",
        "                            'Statistics':stat,\n",
        "                            'p':p,\n",
        "                            'alpha':alpha,\n",
        "                            'Interpretation':interpretation}, index=[0])\n",
        "    filename = 'mannwhitneyu_' + descriptor + '.csv'\n",
        "    results.to_csv(f'/content/drive/My Drive/Colab Notebooks/data/{filename}')\n",
        "\n",
        "    return results"
      ]
    },
    {
      "cell_type": "code",
      "execution_count": null,
      "metadata": {
        "id": "mYUqnSpIbCN4"
      },
      "outputs": [],
      "source": [
        "mannwhitney('pIC50')"
      ]
    },
    {
      "cell_type": "markdown",
      "metadata": {
        "id": "j8n4-8lDbOos"
      },
      "source": [
        "#### MW"
      ]
    },
    {
      "cell_type": "code",
      "execution_count": null,
      "metadata": {
        "id": "8vEsET3sbJuJ"
      },
      "outputs": [],
      "source": [
        "plt.figure(figsize=(5.5, 5.5))\n",
        "\n",
        "sns.boxplot(x = 'class', y = 'MW', data = df_2classes, hue = 'class')\n",
        "\n",
        "plt.xlabel('Bioactivity class', fontsize=14, fontweight='bold')\n",
        "plt.ylabel('MW', fontsize=14, fontweight='bold')\n",
        "\n",
        "plt.savefig('/content/drive/My Drive/Colab Notebooks/data/plot_MW.pdf')"
      ]
    },
    {
      "cell_type": "code",
      "execution_count": null,
      "metadata": {
        "id": "zkkZhi7ucRlQ"
      },
      "outputs": [],
      "source": [
        "mannwhitney('MW')"
      ]
    },
    {
      "cell_type": "markdown",
      "metadata": {
        "id": "O5DairfObmSR"
      },
      "source": [
        "#### LogP"
      ]
    },
    {
      "cell_type": "code",
      "execution_count": null,
      "metadata": {
        "id": "jzFZ6yBJbaXQ"
      },
      "outputs": [],
      "source": [
        "plt.figure(figsize=(5.5, 5.5))\n",
        "\n",
        "sns.boxplot(x = 'class', y = 'LogP', data = df_2classes, hue = 'class')\n",
        "\n",
        "plt.xlabel('Bioactivity class', fontsize=14, fontweight='bold')\n",
        "plt.ylabel('LogP', fontsize=14, fontweight='bold')\n",
        "\n",
        "plt.savefig('/content/drive/My Drive/Colab Notebooks/data/plot_LogP.pdf')"
      ]
    },
    {
      "cell_type": "code",
      "execution_count": null,
      "metadata": {
        "id": "cmpvKw7XcYCr"
      },
      "outputs": [],
      "source": [
        "mannwhitney('LogP')"
      ]
    },
    {
      "cell_type": "markdown",
      "metadata": {
        "id": "VhWkItr9cfty"
      },
      "source": [
        "#### NumHDonors"
      ]
    },
    {
      "cell_type": "code",
      "execution_count": null,
      "metadata": {
        "id": "OGpVSdQEcb2r"
      },
      "outputs": [],
      "source": [
        "plt.figure(figsize=(5.5, 5.5))\n",
        "\n",
        "sns.boxplot(x = 'class', y = 'NumHDonors', data = df_2classes, hue = 'class')\n",
        "\n",
        "plt.xlabel('Bioactivity class', fontsize=14, fontweight='bold')\n",
        "plt.ylabel('NumHDonors', fontsize=14, fontweight='bold')\n",
        "\n",
        "plt.savefig('/content/drive/My Drive/Colab Notebooks/data/plot_NumHDonors.pdf')"
      ]
    },
    {
      "cell_type": "code",
      "execution_count": null,
      "metadata": {
        "id": "FOZ76XRzcp_X"
      },
      "outputs": [],
      "source": [
        "mannwhitney('NumHDonors')"
      ]
    },
    {
      "cell_type": "markdown",
      "metadata": {
        "id": "fPgPY8pzc1fc"
      },
      "source": [
        "#### NumHAcceptors"
      ]
    },
    {
      "cell_type": "code",
      "execution_count": null,
      "metadata": {
        "id": "acAm6KmzcuMU"
      },
      "outputs": [],
      "source": [
        "plt.figure(figsize=(5.5, 5.5))\n",
        "\n",
        "sns.boxplot(x = 'class', y = 'NumHAcceptors', data = df_2classes)\n",
        "\n",
        "plt.xlabel('Bioactivity class', fontsize=14, fontweight='bold')\n",
        "plt.ylabel('NumHAcceptors', fontsize=14, fontweight='bold')\n",
        "\n",
        "plt.savefig('/content/drive/My Drive/Colab Notebooks/data/plot_NumHAcceptors.pdf')"
      ]
    },
    {
      "cell_type": "code",
      "execution_count": null,
      "metadata": {
        "id": "9mHWW6krdGu9"
      },
      "outputs": [],
      "source": [
        "mannwhitney('NumHAcceptors')"
      ]
    },
    {
      "cell_type": "markdown",
      "metadata": {
        "id": "w9Xiw-74ddhg"
      },
      "source": [
        "#### Guardar en un archivo comprimido los archivos generados"
      ]
    },
    {
      "cell_type": "code",
      "execution_count": null,
      "metadata": {
        "id": "iP2t19fKdvMk"
      },
      "outputs": [],
      "source": [
        "# Guardar archivos en un archivo zip\n",
        "!zip -r /content/drive/My\\ Drive/Colab\\ Notebooks/data/results.zip /content/drive/My\\ Drive/Colab\\ Notebooks/data/*.pdf /content/drive/My\\ Drive/Colab\\ Notebooks/data/*.csv"
      ]
    },
    {
      "cell_type": "code",
      "execution_count": null,
      "metadata": {
        "id": "KoiviyWwerTB"
      },
      "outputs": [],
      "source": [
        "# Verificar cambios\n",
        "! ls '/content/drive/My Drive/Colab Notebooks/data/'"
      ]
    }
  ],
  "metadata": {
    "colab": {
      "provenance": [],
      "include_colab_link": true
    },
    "kernelspec": {
      "display_name": "Python 3",
      "name": "python3"
    },
    "language_info": {
      "name": "python"
    }
  },
  "nbformat": 4,
  "nbformat_minor": 0
}