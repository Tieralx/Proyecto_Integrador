{
  "cells": [
    {
      "cell_type": "markdown",
      "metadata": {
        "id": "view-in-github",
        "colab_type": "text"
      },
      "source": [
        "<a href=\"https://colab.research.google.com/github/rromerov/Proyecto_Integrador/blob/main/Avance6/Avance6.12.ipynb\" target=\"_parent\"><img src=\"https://colab.research.google.com/assets/colab-badge.svg\" alt=\"Open In Colab\"/></a>"
      ]
    },
    {
      "cell_type": "markdown",
      "metadata": {
        "id": "DAYmOHhX06Y3"
      },
      "source": [
        "# Instituto Tecnológico y de Estudios Superiores de Monterrey\n",
        "## Maestría en Inteligencia Artificial Aplicada\n",
        "### Proyecto Integrador (Gpo 10) - TC5035.10\n",
        "\n",
        "### **Proyecto: Diseño Acelerado de Fármacos**\n",
        "\n",
        "### Avance 6: Conclusiones clave\n",
        "\n",
        "#### **Docentes:**\n",
        "- Dra. Grettel Barceló Alonso - Profesor Titular\n",
        "- Dr. Luis Eduardo Falcón Morales - Profesor Titular\n",
        "- Dr. Ricardo Ambrocio Ramírez Mendoza  – Profesor Tutor\n",
        "\n",
        "#### **Miembros del equipo:**\n",
        "- Ernesto Enríquez Rubio - A01228409\n",
        "- Roberto Romero Vielma - A00822314\n",
        "- Herbert Joadan Romero Villarreal –  A01794199"
      ]
    },
    {
      "cell_type": "code",
      "execution_count": null,
      "metadata": {
        "id": "piMZlJMzHMkm"
      },
      "outputs": [],
      "source": [
        "%%capture\n",
        "! pip install tabulate"
      ]
    },
    {
      "cell_type": "markdown",
      "metadata": {
        "id": "g9E817jcLQOt"
      },
      "source": [
        "\n",
        "\n",
        "---\n",
        "\n",
        "\n",
        "### Conclusiones clave\n",
        "#### Background:\n",
        "\n",
        "TODO: Tipo abstract de todo lo que hicimos. Hablar de rendiomiento del modelo, margen de mejora, recomendaciones clave para implementar la solución, stakeholders, etc."
      ]
    },
    {
      "cell_type": "markdown",
      "metadata": {
        "id": "jvkUJFWURW6c"
      },
      "source": [
        "\n",
        "\n",
        "---\n",
        "\n",
        "### Instrucciones\n",
        "\n",
        "En este avance, se busca fundamentar si es viable implementar el modelo, evaluando su adecuación a los criterios de éxito previamente establecidos y considerando los resultados obtenidos durante la etapa de modelado.\n",
        "\n",
        "En cualquier caso, será importante también incluir los siguientes cuestionamientos:\n",
        "\n",
        "* ¿El rendimiento del modelo es lo suficientemente bueno para su implementación en producción?\n",
        "* ¿Existe margen para mejorar aún más el rendimiento?\n",
        "* ¿Cuáles serían las recomendaciones clave para poder implementar la solución?\n",
        "* ¿Qué tareas / procedimientos son accionables para las partes interesadas (stakeholders)?\n",
        "\n",
        "\n",
        "Realizar un análisis detallado para determinar la plataforma de servicios en la nube más adecuada para implementar la solución de ML. Para ello deberán:\n",
        "\n",
        "* Evaluar las características y ventajas de los principales proveedores como: AWS, Azure, GCP e IBM Watson.\n",
        "* Considerar factores como la facilidad de uso, la escalabilidad, los servicios específicos ofrecidos, los costos asociados y cualquier otro aspecto relevante.\n",
        "* Proporcionar una justificación fundamentada para la elección del proveedor que consideren más apropiado.\n",
        "\n",
        "\n",
        "\n",
        "\n",
        "---\n",
        "\n"
      ]
    },
    {
      "cell_type": "markdown",
      "metadata": {
        "id": "uoned92F-Ril"
      },
      "source": [
        "### **Conclusiones clave a detalle**"
      ]
    },
    {
      "cell_type": "markdown",
      "metadata": {
        "id": "g455562ZLHTC"
      },
      "source": [
        "TODO: Explicar\n",
        "\n",
        "* ¿El rendimiento del modelo es lo suficientemente bueno para su implementación en producción?\n",
        "* ¿Existe margen para mejorar aún más el rendimiento?\n",
        "* ¿Cuáles serían las recomendaciones clave para poder implementar la solución?\n",
        "* ¿Qué tareas / procedimientos son accionables para las partes interesadas (stakeholders)?"
      ]
    },
    {
      "cell_type": "markdown",
      "metadata": {
        "id": "Nl31CQ7L-V7M"
      },
      "source": [
        "**pIC50** es una medida del efecto inhibitorio de una sustancia en una diana biológica específica, y su predicción precisa es crucial para el desarrollo de fármacos eficaces. Los modelos utilizados deben tener alta precisión y baja variabilidad en sus predicciones debido a la importancia de estos valores en la toma de decisiones para la optimización de compuestos."
      ]
    },
    {
      "cell_type": "markdown",
      "metadata": {
        "id": "SIa0UxLu8YQw"
      },
      "source": [
        "# **Métricas del modelo elegido**"
      ]
    },
    {
      "cell_type": "markdown",
      "metadata": {
        "id": "Szc6kBHy7pvw"
      },
      "source": [
        "|Model|training\\_time|R\\_squ|MAE|MSE|RMSE|MAPE|Explained Variance|Max Error|Median AE|\n",
        "|---|---|---|---|---|---|---|---|---|---|\n",
        "|Stacking Regressor|20\\.493980407714844|0\\.657080810748961|0\\.0658999651965703|0\\.00809453049440956|0\\.08996960872655588|0\\.15736389042591833|0\\.6572117907298017|0\\.374440575528705|0\\.04619879524040091|"
      ]
    },
    {
      "cell_type": "markdown",
      "metadata": {
        "id": "AZB2uA79-gbS"
      },
      "source": [
        "**Evaluación de las métricas**\n",
        "\n",
        "\n",
        "\n"
      ]
    },
    {
      "cell_type": "markdown",
      "metadata": {
        "id": "hyBo1Uk9BsYM"
      },
      "source": [
        "## **R Squared (R^2):**\n",
        "\n",
        "**Valor:** 0.6571\n",
        "\n",
        "Un valor de 0.6571 sugiere que el 65.71% de la variabilidad en los datos de pIC50 es capturada por las predicciones del modelo. Es decir que, aproximadamente el 34.29% de la variabilidad en los datos no es explicada por el modelo. Se esperaría un R^2 más alto para aplicaciones críticas como el descubrimiento de fármacos.\n",
        "\n",
        "**Valor ideal:** Superior a 0.8 sería aceptable para asegurar una alta precisión.\n",
        "\n",
        "**Acciones que pudieran mejorar esta métrica:**\n",
        "* Añadir características relevantes o transformar las existentes puede aumentar la capacidad predictiva del modelo.\n",
        "* Realizar una búsqueda exhaustiva de hiperparámetros para optimizar el rendimiento del modelo."
      ]
    },
    {
      "cell_type": "markdown",
      "metadata": {
        "id": "SBlwNiKcBuE4"
      },
      "source": [
        "## **Mean Absolute Error (MAE):**\n",
        "\n",
        "**Valor:** 0.0659\n",
        "\n",
        "Mide el error promedio absoluto entre las predicciones y los valores reales de pIC50. Un MAE de 0.0659 indica que, en promedio, las predicciones están desviadas por aproximadamente 0.066 unidades de los valores reales.\n",
        "\n",
        "**Valor ideal:** Un MAE inferior a 0.05 sería más deseable para aplicaciones de descubrimiento de fármacos.\n",
        "\n",
        "**Acciones que pudieran mejorar esta métrica:**\n",
        "* Mejorar técnicas de regularización.\n",
        "* Obtener más datos de entrenamiento."
      ]
    },
    {
      "cell_type": "markdown",
      "metadata": {
        "id": "mjV2iNpMC21k"
      },
      "source": [
        "## **Mean Squared Error (MSE):**\n",
        "\n",
        "**Valor:** 0.0081\n",
        "\n",
        "Mide el promedio de los errores al cuadrado entre las predicciones y los valores reales de pIC50. Penaliza más los errores grandes, lo que es útil para detectar grandes desviaciones.\n",
        "\n",
        "**Valor ideal:** Un MSE inferior a 0.005 sería más adecuado para aplicaciones de alta precisión.\n",
        "\n",
        "**Acciones que pudieran mejorar esta métrica:**\n",
        "* Identificar y manejar outliers.\n",
        "* Combinar diferentes tipos de modelos."
      ]
    },
    {
      "cell_type": "markdown",
      "metadata": {
        "id": "Yu81ZMIGDhmb"
      },
      "source": [
        "## **Root Mean Squared Error (RMSE):**\n",
        "\n",
        "**Valor:** 0.0900\n",
        "\n",
        "Es la raíz cuadrada del MSE, proporcionando una medida del error en las mismas unidades que la variable de salida (pIC50). Un RMSE de 0.0900 indica el error promedio en las mismas unidades que los datos.\n",
        "\n",
        "**Valor ideal:** Un RMSE inferior a 0.07 sería más deseable.\n",
        "\n",
        "**Acciones que pudieran mejorar esta métrica:**\n",
        "* Utilizar validación cruzada.\n",
        "* Mejora de modelos en el stacking"
      ]
    },
    {
      "cell_type": "markdown",
      "metadata": {
        "id": "1Xt8YgETEE7c"
      },
      "source": [
        "## **Mean Absolute Percentage Error (MAPE):**\n",
        "\n",
        "**Valor:** 15.74%\n",
        "\n",
        "Mide el error promedio absoluto en términos porcentuales, lo que puede ser más intuitivo para evaluar el rendimiento del modelo. Un MAPE de 15.74% indica que el error promedio es del 15.74% del valor real.\n",
        "\n",
        "**Valor ideal:** Un MAPE inferior al 10% sería aceptable, y menos del 5% sería ideal.\n",
        "\n",
        "**Acciones que pudieran mejorar esta métrica:**\n",
        "* Normalización/Estandarización\n",
        "* Generar datos sintéticos."
      ]
    },
    {
      "cell_type": "markdown",
      "metadata": {
        "id": "04a_dM04Etiz"
      },
      "source": [
        "## **Max Error:**\n",
        "\n",
        "**Valor:** 0.3744\n",
        "\n",
        "Mide el error absoluto máximo en las predicciones. Un Max Error de 0.3744 indica que, en el peor caso, la predicción está desviada por 0.3744 unidades de pIC50.\n",
        "\n",
        "**Valor ideal:** Un Max Error inferior a 0.3 sería más adecuado para minimizar riesgos.\n",
        "\n",
        "**Acciones que pudieran mejorar esta métrica:**\n",
        "* Identificar y manejar outliers."
      ]
    },
    {
      "cell_type": "markdown",
      "metadata": {
        "id": "C35AfPZrFNv6"
      },
      "source": [
        "## **Median Absolute Error (Median AE):**\n",
        "\n",
        "**Valor:** 0.0462\n",
        "\n",
        "Mide la mediana de los errores absolutos, lo que es robusto frente a outliers. Un Median AE de 0.0462 indica que la mitad de los errores absolutos están por debajo de este valor.\n",
        "\n",
        "**Valor ideal:** Este es un valor aceptable, se encuentra por dejabajo de 0.05"
      ]
    },
    {
      "cell_type": "markdown",
      "metadata": {
        "id": "a1S_TiUP-qbF"
      },
      "source": [
        "# **Análisis de despliegue en la nube**"
      ]
    },
    {
      "cell_type": "markdown",
      "metadata": {
        "id": "Vyqi9Moa_sP7"
      },
      "source": [
        "TODO: Explicar\n",
        "\n",
        "* Evaluar las características y ventajas de los principales proveedores como: AWS, Azure, GCP e IBM Watson.\n",
        "* Considerar factores como la facilidad de uso, la escalabilidad, los servicios específicos ofrecidos, los costos asociados y cualquier otro aspecto relevante.\n",
        "* Proporcionar una justificación fundamentada para la elección del proveedor que consideren más apropiado."
      ]
    },
    {
      "cell_type": "markdown",
      "metadata": {
        "id": "4wlBXs6JHMkq"
      },
      "source": [
        "#### **AWS (Amazon Web Services)**\n",
        "##### **Características:**\n",
        "\n",
        "* Variedad de Herramientas y Productos: AWS ofrece una amplia gama de servicios, incluyendo herramientas de cómputo, almacenamiento de bases de datos y entrega de contenido.\n",
        "* Escalabilidad y Pago por Uso: Modelo de pago por uso que permite a los usuarios escalar recursos según lo necesiten.\n",
        "* Cobertura Global: AWS está disponible en 245 países y territorios.\n",
        "\n",
        "**Servicios de Machine Learning ofrecidos:** Amazon SageMaker, AWS Deep Learning AMIs, AWS DeepLens, AWS Lambda, AWS Glue, Amazon Comprehend, Amazon Rekognition, Amazon Lex, Amazon Polly, Amazon Transcribe, Amazon Translate.\n",
        "\n",
        "##### **Ventajas:**\n",
        "* **Integración Sencilla:** La capacidad de integrar fácilmente servicios de machine learning con otros servicios de AWS como S3 (almacenamiento), Redshift (almacenamiento de datos), y Lambda (funciones sin servidor), proporciona una solución integral y sin fisuras.\n",
        "* **Escalabilidad Automática:** Los servicios de machine learning pueden escalar automáticamente en función de la demanda, permitiendo a las empresas manejar picos de carga sin problemas.\n",
        "* **Amplia Comunidad y Recursos:** AWS cuenta con una gran comunidad de usuarios y desarrolladores, lo que facilita encontrar soporte y recursos, incluyendo una extensa documentación, tutoriales, y ejemplos de uso.\n",
        "* **Seguridad Robusta:** AWS proporciona medidas de seguridad avanzadas, incluyendo cifrado de datos en tránsito y en reposo, y gestión de identidad y acceso (IAM), lo que garantiza la protección de los datos y modelos de machine learning.\n",
        "* **Innovación Continua:** AWS invierte significativamente en investigación y desarrollo, lo que asegura que sus servicios de machine learning estén a la vanguardia de la tecnología.\n",
        "\n",
        "#### **Microsoft Azure**\n",
        "##### **Características:**\n",
        "\n",
        "* **Portal en Línea y Servicios de Administración:** Permite acceso y gestión de servicios y recursos en la nube a través de un portal en línea.\n",
        "* **Compatibilidad con Múltiples Lenguajes de Programación:** Soporte para Java, JavaScript, Python 3 y C#.\n",
        "* **Amplia Red de Centros de Datos:** 42 centros de datos en todo el mundo, con planes de expansión.\n",
        "\n",
        "**Servicios de Machine Learning ofrecidos:** Azure Machine Learning, Azure Databricks, Azure Synapse Analytics, Azure Cognitive Services (incluyendo Vision, Speech, Language, Decision), Azure Bot Services.\n",
        "\n",
        "##### **Ventajas:**\n",
        "\n",
        "* **Integración con el Ecosistema de Microsoft:** La capacidad de integrar servicios de machine learning con otros productos de Microsoft, como Power BI para visualización de datos, y Dynamics 365 para aplicaciones empresariales, proporciona una solución unificada.\n",
        "* **Desarrollo Ágil y DevOps:** Azure facilita la implementación continua y el desarrollo ágil a través de servicios como Azure DevOps y GitHub, que soportan el ciclo de vida completo del desarrollo de machine learning.\n",
        "* **Servicios Cognitivos:** Azure ofrece una serie de servicios cognitivos preentrenados que facilitan la implementación rápida de capacidades de IA como visión por computadora, reconocimiento de voz y análisis de lenguaje natural.\n",
        "* **Seguridad y Cumplimiento:** Azure cumple con una amplia gama de estándares de cumplimiento y ofrece robustas características de seguridad, incluyendo administración de identidades, encriptación avanzada y monitoreo continuo.\n",
        "* **Soporte Empresarial:** Azure proporciona un fuerte soporte para empresas, con opciones de soporte técnico 24/7 y programas de consultoría para ayudar a las organizaciones a implementar y optimizar sus soluciones de machine learning.\n",
        "\n",
        "\n",
        "#### **Google Cloud Platform (GCP)**\n",
        "##### **Características:**\n",
        "\n",
        "* **Infraestructura Sólida y Escalable:** Utiliza la infraestructura robusta de Google para proporcionar servicios en la nube.\n",
        "* **Modelo de Pago por Uso:** Solo se paga por los recursos utilizados.\n",
        "* **Latencia Baja y Alta Disponibilidad:** Rápida conectividad entre zonas y alta disponibilidad a través de múltiples regiones.\n",
        "\n",
        "**Servicios de Machine Learning ofrecidos:** Vertex AI, AutoML, BigQuery ML, TensorFlow Enterprise, AI Platform Training, AI Platform Prediction, AI Hub, AI Platform Notebooks, AI Platform Pipelines, Cloud Natural Language, Cloud Vision, Cloud Speech-to-Text, Cloud Text-to-Speech, Cloud Translation.\n",
        "\n",
        "**Ventajas:**\n",
        "\n",
        "* **Innovación Tecnológica:** GCP es conocido por su enfoque en la innovación continua, especialmente en machine learning y IA, ofreciendo tecnologías avanzadas como AutoML que facilita la creación de modelos personalizados sin necesidad de conocimientos profundos en machine learning.\n",
        "* **Facilidad de Uso:** GCP proporciona herramientas intuitivas y fáciles de usar, como Vertex AI y BigQuery ML, que permiten a los desarrolladores y analistas de datos crear y entrenar modelos de machine learning utilizando SQL familiar.\n",
        "* **Integración con el Ecosistema de Google:** La capacidad de integrar fácilmente con otros servicios de Google como Google Analytics, Google Ads, y Google Workspace, permite una solución integral para la gestión de datos y análisis.\n",
        "* **Rendimiento y Escalabilidad:** La infraestructura global de Google garantiza un rendimiento confiable y alta disponibilidad, con capacidades de escalado automático para manejar picos de demanda.\n",
        "* **Seguridad y Conformidad:** GCP ofrece medidas avanzadas de seguridad y cumplimiento, incluyendo encriptación de datos, gestión de identidades y acceso (IAM), y cumplimiento con estándares internacionales como GDPR y HIPAA.\n",
        "* **Colaboración y Desarrollo:** Herramientas como AI Platform Notebooks y AI Hub facilitan la colaboración entre equipos de datos y desarrollo, permitiendo compartir y reutilizar modelos y pipelines de machine learning.\n",
        "\n",
        "#### **IBM Watson**\n",
        "##### **Características:**\n",
        "\n",
        "* **Foco en IA para Negocios:** Integración de IA para mejorar operaciones comerciales.\n",
        "* **Plataforma en la Nube:** Flexibilidad y escalabilidad para diversas aplicaciones comerciales.\n",
        "* **Tecnología de Vanguardia:** Herramientas avanzadas de IA y machine learning.\n",
        "\n",
        "**Servicios de Machine Learning ofrecidos:** Watson Studio, Watson Assistant, Watson Discovery, Watson Knowledge Catalog, Watson Natural Language Understanding, Watson Speech-to-Text, Watson Text to Speech, Watson Visual Recognition, Watson Machine Learning, Watson Language Translator, Watson Compare & Comply, Watson Annotator for Clinical Data.\n",
        "\n",
        "**Ventajas:**\n",
        "\n",
        "* **Especialización en IA para Empresas:** IBM Watson está diseñado específicamente para aplicaciones empresariales, ofreciendo soluciones personalizadas que se adaptan a las necesidades de diferentes industrias.\n",
        "* **Interfaz Intuitiva y Herramientas Sin Código:** Watson Studio proporciona una interfaz amigable y herramientas sin necesidad de programación, permitiendo a usuarios de diferentes niveles de habilidad desarrollar y desplegar modelos de machine learning.\n",
        "* **Capacidades Avanzadas de Análisis y Búsqueda:** Watson Discovery y Watson Knowledge Catalog permiten a las empresas gestionar y analizar grandes volúmenes de datos no estructurados, extrayendo información valiosa para la toma de decisiones.\n",
        "* **Enfoque en la Gobernanza y Transparencia:** IBM Watson enfatiza la transparencia y la ética en los flujos de trabajo de IA, garantizando que las soluciones sean explicables y responsables.\n",
        "* **Integración y Automatización:** Watson Assistant y otros servicios de automatización permiten a las empresas mejorar la eficiencia operativa, automatizando tareas repetitivas y mejorando la interacción con clientes.\n",
        "* **Apoyo a la Innovación Continua:** IBM Watson se mantiene a la vanguardia de las innovaciones en IA, proporcionando herramientas avanzadas como Watsonx para el desarrollo y despliegue de modelos generativos y personalizados.\n"
      ]
    },
    {
      "cell_type": "markdown",
      "metadata": {
        "id": "qGAg73RoHMkq"
      },
      "source": [
        "#### **Precios Azure**"
      ]
    },
    {
      "cell_type": "code",
      "execution_count": null,
      "metadata": {
        "id": "ihxXob_aHMkr",
        "outputId": "103c3bfb-16ba-4bf4-f17e-fe0b004a6bc3"
      },
      "outputs": [
        {
          "name": "stdout",
          "output_type": "stream",
          "text": [
            "+----------------+--------------------+--------------------+----------+-------------------+-------------------------------------+\n",
            "| SKU            |   Precio minorista | Unidad de medida   | Región   | Medidor           | Nombre del producto                 |\n",
            "|----------------+--------------------+--------------------+----------+-------------------+-------------------------------------|\n",
            "| Standard_D4_v3 |             0.0192 | 1 Hour             | eastus   | D4 v3/D4s v3 Spot | Virtual Machines Dv3 Series         |\n",
            "| Standard_D4_v3 |             0.0376 | 1 Hour             | eastus   | D4 v3/D4s v3 Spot | Virtual Machines Dv3 Series Windows |\n",
            "+----------------+--------------------+--------------------+----------+-------------------+-------------------------------------+\n"
          ]
        }
      ],
      "source": [
        "import requests  # Importa la biblioteca requests para realizar solicitudes HTTP\n",
        "import json     # Importa la biblioteca json para trabajar con datos JSON\n",
        "from tabulate import tabulate  # Importa la biblioteca tabulate para crear tablas\n",
        "\n",
        "\n",
        "def build_pricing_table(json_data, table_data):\n",
        "  \"\"\"\n",
        "  Esta función itera a través de una respuesta JSON que contiene información de precios de Azure\n",
        "  y crea una tabla con los detalles relevantes.\n",
        "\n",
        "  Argumentos:\n",
        "      json_data (dict): Los datos JSON recuperados de la API de precios minoristas de Azure.\n",
        "      table_data (list): Una lista de listas para almacenar los datos de la tabla de precios.\n",
        "  \"\"\"\n",
        "\n",
        "  for item in json_data['Items']:\n",
        "    meter = item['meterName']\n",
        "    table_data.append([\n",
        "      item['armSkuName'],  # Nombre de SKU del servicio de Azure\n",
        "      item['retailPrice'],  # Precio minorista para la unidad actual\n",
        "      item['unitOfMeasure'],  # Unidad en la que se mide el precio (por ejemplo, Horas)\n",
        "      item['armRegionName'],  # Región donde se aplica la fijación de precios\n",
        "      meter,                 # ID del medidor del servicio\n",
        "      item['productName']   # Nombre del producto (por ejemplo, Máquinas virtuales)\n",
        "    ])\n",
        "\n",
        "def main():\n",
        "  \"\"\"\n",
        "  La función principal realiza los siguientes pasos:\n",
        "  1. Define la URL y los parámetros de consulta de la API.\n",
        "  2. Realiza una solicitud GET a la API de precios minoristas de Azure.\n",
        "  3. Procesa los datos de respuesta y crea la tabla de precios (manejando la paginación).\n",
        "  4. Imprime la tabla de precios final utilizando tabulate.\n",
        "  \"\"\"\n",
        "\n",
        "  table_data = []\n",
        "  table_data.append(['SKU', 'Precio minorista', 'Unidad de medida', 'Región', 'Medidor', 'Nombre del producto'])  # Encabezados de tabla\n",
        "\n",
        "  api_url = \"https://prices.azure.com/api/retail/prices?api-version=2021-10-01-preview\"\n",
        "  query = \"armRegionName eq 'eastus' and armSkuName eq 'Standard_D4_v3' and priceType eq 'Consumption' and contains(meterName, 'Spot')\"  # Criterios de filtro\n",
        "\n",
        "  response = requests.get(api_url, params={'$filter': query})\n",
        "  json_data = json.loads(response.text)\n",
        "\n",
        "  build_pricing_table(json_data, table_data)\n",
        "\n",
        "  next_page_link = json_data.get('NextPageLink')  # Verifica si hay un enlace de paginación\n",
        "\n",
        "  while next_page_link:\n",
        "    response = requests.get(next_page_link)\n",
        "    json_data = json.loads(response.text)\n",
        "    next_page_link = json_data.get('NextPageLink')\n",
        "    build_pricing_table(json_data, table_data)\n",
        "\n",
        "  print(tabulate(table_data, headers='firstrow', tablefmt='psql'))  # Imprime la tabla en formato psql\n",
        "\n",
        "if __name__ == \"__main__\":\n",
        "  main()\n",
        "\n"
      ]
    },
    {
      "cell_type": "markdown",
      "metadata": {
        "id": "082GKWv7HMks"
      },
      "source": [
        "#### **Precios AWS**"
      ]
    },
    {
      "cell_type": "code",
      "execution_count": null,
      "metadata": {
        "id": "EmHv9YXNHMks",
        "outputId": "a0579d73-6376-4d80-bb86-3e8d28b54c5d"
      },
      "outputs": [
        {
          "name": "stdout",
          "output_type": "stream",
          "text": [
            "+-----------------------+--------------------------------+------------------+--------------+\n",
            "|       Location        |         Instance Name          |       SKU        |    Price     |\n",
            "+-----------------------+--------------------------------+------------------+--------------+\n",
            "| US East (N. Virginia) |          ml.t3.xlarge          | C4CN6TH7TXB89EW3 | 0.2000000000 |\n",
            "| US East (N. Virginia) |     ml.m6i.xlarge-Training     | GYKCK6TCERR8A732 | 0.2300000000 |\n",
            "| US East (N. Virginia) |     ml.c5.2xlarge-Hosting      | QMH3DCGE2UU5A9Q2 | 0.4080000000 |\n",
            "| US East (N. Virginia) |      ml.r5.large-Notebook      | 5ECFPCRSVWR7CWKA | 0.1510000000 |\n",
            "| US East (N. Virginia) |    ml.c6id.2xlarge-Notebook    | SUTZJCSFCX32XTRP | 0.4840000000 |\n",
            "| US East (N. Virginia) |     ml.g5.xlarge-Notebook      | C2ESEZF4H4V5GSBG | 1.4100000000 |\n",
            "| US East (N. Virginia) |    ml.m4.xlarge-Processing     | 3GBD66GRMVHN5WYF | 0.2400000000 |\n",
            "| US East (N. Virginia) |         ml.c7i.2xlarge         | T3W2TGAMUZYS7PYJ | 0.4280000000 |\n",
            "| US East (N. Virginia) |        ml.c6id.2xlarge         | T985X98BJXPEVAHN | 0.4840000000 |\n",
            "| US East (N. Virginia) |      ml.r5.large-Hosting       | CSTKPW7E9ZE3P5ZD | 0.1510000000 |\n",
            "| US East (N. Virginia) |          ml.g6.xlarge          | ZD48YNNKD6G5YWPF | 1.1270000000 |\n",
            "| US East (N. Virginia) |     ml.m7i.xlarge-AsyncInf     | CFKET482RK6XSXRE | 0.2420000000 |\n",
            "| US East (N. Virginia) |    ml.m5.xlarge-Processing     | 3NDENURB7XRCQXD8 | 0.2300000000 |\n",
            "| US East (N. Virginia) |     ml.g6.xlarge-Notebook      | N5BCXUPFFCZBED7S | 1.1270000000 |\n",
            "| US East (N. Virginia) |     ml.m4.xlarge-Notebook      | D2TN2QHB2YNH986W | 0.2400000000 |\n",
            "| US East (N. Virginia) |     ml.m5.xlarge-RSession      | JS3XRNXTD3BCPKYC | 0.2300000000 |\n",
            "| US East (N. Virginia) |    ml.c5d.2xlarge-Notebook     | AFFAFKC48G9NTCNS | 0.4610000000 |\n",
            "| US East (N. Virginia) |      ml.m5.xlarge-Hosting      | JDZQJFUVUR8SUWHS | 0.2300000000 |\n",
            "| US East (N. Virginia) |     ml.g6.xlarge-AsyncInf      | 46B5DQD6N2KFRBAX | 1.1267000000 |\n",
            "| US East (N. Virginia) |     ml.m6g.xlarge-AsyncInf     | N6V9YFQXUYTVATY3 | 0.1848000000 |\n",
            "| US East (N. Virginia) |     ml.c5.2xlarge-Notebook     | 6SPEVV88T2RD83XS | 0.4080000000 |\n",
            "| US East (N. Virginia) |     ml.m5.xlarge-Notebook      | EXQV9R8MSQAJ2D7W | 0.2300000000 |\n",
            "| US East (N. Virginia) |          ml.g6.xlarge          | D6DSTRQ535ZSUPHK | 1.1270000000 |\n",
            "| US East (N. Virginia) |          ml.r6i.large          | WHH9QT6MHTYZ9T66 | 0.1510000000 |\n",
            "| US East (N. Virginia) | ml.c5.2xlarge-RSessionGateway  | WSPJ3ZTMJR4JQUBZ | 0.4080000000 |\n",
            "| US East (N. Virginia) |     ml.g4dn.xlarge-Hosting     | RJMA4EBYTS3MN855 | 0.7360000000 |\n",
            "| US East (N. Virginia) |  ml.r5.large-RSessionGateway   | E8HA3VWEEWFE6XJD | 0.1510000000 |\n",
            "| US East (N. Virginia) |     ml.inf2.xlarge-Hosting     | KRX449CTTZW2TEWP | 0.9900000000 |\n",
            "| US East (N. Virginia) |    ml.inf1.2xlarge-Hosting     | QYDCVZZNXHGVX768 | 0.4340000000 |\n",
            "| US East (N. Virginia) |  ml.m5.xlarge-RSessionGateway  | C326KTBQVTTPM3U5 | 0.2300000000 |\n",
            "| US East (N. Virginia) |  ml.t3.xlarge-RSessionGateway  | ZSHAFR8RDEJQMT9J | 0.2000000000 |\n",
            "| US East (N. Virginia) |     ml.c5d.2xlarge-Hosting     | BC2WB5HCNARQUERT | 0.4610000000 |\n",
            "| US East (N. Virginia) |     ml.m5.xlarge-Notebook      | QT66CEUMAZ3QCWYH | 0.2300000000 |\n",
            "| US East (N. Virginia) |    ml.c6i.2xlarge-Training     | Y8NC345UFNY3BBHP | 0.4080000000 |\n",
            "| US East (N. Virginia) |         ml.c6i.2xlarge         | P3RCDSEVZUEWPAH3 | 0.4080000000 |\n",
            "|          Any          | ml.m5.xlarge-FreeMonitorParent | KX4NG7CYV28RR5UU | 0.0000000000 |\n",
            "| US East (N. Virginia) |     ml.c5.2xlarge-Cluster      | GW4TQBRNQJ34THXN | 0.4080000000 |\n",
            "| US East (N. Virginia) |    ml.c6gd.2xlarge-AsyncInf    | EVP2CWG4CZEGVGFU | 0.3686400000 |\n",
            "| US East (N. Virginia) |         ml.m6id.xlarge         | D8A8YTPYW46DU3DU | 0.2850000000 |\n",
            "| US East (N. Virginia) |     ml.m5d.xlarge-Notebook     | MTNMGKPSQQZQQBVD | 0.2710000000 |\n",
            "| US East (N. Virginia) |         ml.g4dn.xlarge         | SQ3CYRWWR7YE2BX8 | 0.7364000000 |\n",
            "| US East (N. Virginia) |          ml.g5.xlarge          | MN8TH5PT8E8NBVGC | 1.4100000000 |\n",
            "| US East (N. Virginia) |    ml.t3.xlarge-Processing     | ZB45UMFX37U497N6 | 0.2000000000 |\n",
            "| US East (N. Virginia) |     ml.r6g.large-AsyncInf      | 6QX4RMJZASSD2GQ5 | 0.1209600000 |\n",
            "| US East (N. Virginia) |    ml.c6i.2xlarge-AsyncInf     | F3YDQMNDBKW2UVPS | 0.4080000000 |\n",
            "| US East (N. Virginia) |    ml.c6i.2xlarge-Notebook     | 7AAQ6DNYD2SNH7Q7 | 0.4080000000 |\n",
            "| US East (N. Virginia) |         ml.c5.2xlarge          | FWM6GS3KX428U2CK | 0.4080000000 |\n",
            "| US East (N. Virginia) |     ml.m5d.xlarge-AsyncInf     | JZSSZVR3B6NR9T8S | 0.2710000000 |\n",
            "| US East (N. Virginia) |   ml.g4dn.xlarge-Processing    | WP4ANW2U4TUJ423F | 0.7360000000 |\n",
            "| US East (N. Virginia) |     ml.r6gd.large-AsyncInf     | RQMMS43CYMNDD3YX | 0.1382400000 |\n",
            "| US East (N. Virginia) |     ml.r5d.large-AsyncInf      | 4263D62SYYJJYS5E | 0.1730000000 |\n",
            "| US East (N. Virginia) |        ml.c6id.2xlarge         | PVQBZPP57NN7EQWA | 0.4840000000 |\n",
            "| US East (N. Virginia) |    ml.g4dn.xlarge-AsyncInf     | MUXZXRCEQ3HAC2UT | 0.7360000000 |\n",
            "| US East (N. Virginia) |     ml.m5.xlarge-AsyncInf      | 4RVRQMAPVW68QWHX | 0.2300000000 |\n",
            "| US East (N. Virginia) |      ml.r6g.large-Hosting      | 3CP9S9XXSKAK8EEJ | 0.1209600000 |\n",
            "| US East (N. Virginia) |     ml.inf2.xlarge-Cluster     | 4TWG8DW5ARSPUV2T | 0.9900000000 |\n",
            "| US East (N. Virginia) |         ml.c5.2xlarge          | V5VDT24YWHE3VDVH | 0.4080000000 |\n",
            "| US East (N. Virginia) |         ml.c7i.2xlarge         | N3YY8RJWKC8JVW29 | 0.4280000000 |\n",
            "| US East (N. Virginia) |      ml.m4.xlarge-Hosting      | HU9KJRQMMCV3SK27 | 0.2400000000 |\n",
            "| US East (N. Virginia) |     ml.r6i.large-Notebook      | GDV4WTATGV3N84XZ | 0.1510000000 |\n",
            "| US East (N. Virginia) |    ml.c7g.2xlarge-AsyncInf     | RSDGKY5VUGVF7RSM | 0.3480000000 |\n",
            "| US East (N. Virginia) |      ml.r5.large-AsyncInf      | P226292H39ER2DK7 | 0.1510000000 |\n",
            "| US East (N. Virginia) |     ml.t3.xlarge-Notebook      | VS465RSNBNMUZAVA | 0.2000000000 |\n",
            "| US East (N. Virginia) |         ml.m5d.xlarge          | K7G5WZ88JXSQ6ZVQ | 0.2710000000 |\n",
            "| US East (N. Virginia) |          ml.r7i.large          | X3T8KRY9SVJFJA5Y | 0.1590000000 |\n",
            "| US East (N. Virginia) |     ml.m5.xlarge-Training      | GW8NMG7QHEN6CFRX | 0.2300000000 |\n",
            "| US East (N. Virginia) |     ml.m5d.xlarge-Hosting      | 3QD3VDCF96ZXWETN | 0.2710000000 |\n",
            "| US East (N. Virginia) |     ml.c6i.2xlarge-Hosting     | GET7BZ4HK8KZWKQX | 0.4080000000 |\n",
            "| US East (N. Virginia) |     ml.r6id.large-Notebook     | 8UBTY465YHBQ88NA | 0.1810000000 |\n",
            "| US East (N. Virginia) |     ml.t3.xlarge-RSession      | YG8ZHFKEJV9EZCCM | 0.2000000000 |\n",
            "| US East (N. Virginia) |     ml.g5.xlarge-AsyncInf      | 99K6GJ834JHBU7WA | 1.4080000000 |\n",
            "| US East (N. Virginia) |    ml.c6gn.2xlarge-AsyncInf    | QTVF7D89RMU6GZNJ | 0.4147200000 |\n",
            "| US East (N. Virginia) |         ml.m6i.xlarge          | UTRPK7ZGYVKPBQ6C | 0.2300000000 |\n",
            "| US East (N. Virginia) |    ml.c6gd.2xlarge-Hosting     | 7WZNR4EPYQ32T79Q | 0.3686400000 |\n",
            "| US East (N. Virginia) |     ml.c7i.2xlarge-Hosting     | R4QTEE7DKDWW7XAC | 0.4280000000 |\n",
            "| US East (N. Virginia) |     ml.r6gd.large-Hosting      | CZJG54U5QX643NMX | 0.1382400000 |\n",
            "| US East (N. Virginia) |          ml.r7i.large          | WRRJXAYCGFY7EEXD | 0.1590000000 |\n",
            "| US East (N. Virginia) |    ml.g4dn.xlarge-Notebook     | NE34BTUSK4Z2HRUJ | 0.7364000000 |\n",
            "| US East (N. Virginia) |  ml.m5.xlarge-BatchTransform   | 5UKVRFJN2FSFW7V9 | 0.2300000000 |\n",
            "| US East (N. Virginia) |          ml.g5.xlarge          | CJPWBM3VN2NZUUAT | 1.4100000000 |\n",
            "| US East (N. Virginia) |     ml.m4.xlarge-AsyncInf      | UHMUFF4BAGCN8GRH | 0.2400000000 |\n",
            "| US East (N. Virginia) |  ml.c5.2xlarge-BatchTransform  | 2DZTBWFRT8JQCKK5 | 0.4080000000 |\n",
            "| US East (N. Virginia) |    ml.c6gn.2xlarge-Hosting     | RSVVM8P8XRUQFF2U | 0.4147200000 |\n",
            "| US East (N. Virginia) |    ml.inf2.xlarge-AsyncInf     | JCQP3TG4ESZKWVAR | 0.9900000000 |\n",
            "| US East (N. Virginia) |     ml.c5.2xlarge-Cluster      | AVQJKB74ETP56CHF | 0.4080000000 |\n",
            "| US East (N. Virginia) |    ml.g4dn.xlarge-Training     | 74GUJFY3X99E3FGR | 0.7360000000 |\n",
            "| US East (N. Virginia) |     ml.m6i.xlarge-Notebook     | MYQMT9FMAZZ2YR63 | 0.2300000000 |\n",
            "| US East (N. Virginia) |     ml.t2.xlarge-AsyncInf      | K9KXHWPG2NMRAPMF | 0.2230000000 |\n",
            "| US East (N. Virginia) |      ml.t3.xlarge-Cluster      | 74KJ3BPZ4GNZD4VZ | 0.2000000000 |\n",
            "| US East (N. Virginia) |     ml.c7g.2xlarge-Hosting     | CF9DB95BUJPT3CJX | 0.3480000000 |\n",
            "| US East (N. Virginia) |     ml.m6gd.xlarge-Hosting     | 25EMKMNK2Q27AUY2 | 0.2169600000 |\n",
            "| US East (N. Virginia) |     ml.c5.2xlarge-AsyncInf     | Z5GXE9BFBEJ8652W | 0.4080000000 |\n",
            "| US East (N. Virginia) |         ml.m6i.xlarge          | 6AHU6PWHAXBF6C9N | 0.2300000000 |\n",
            "| US East (N. Virginia) |      ml.g6.xlarge-Hosting      | VS6QR2AYRGYF5H3F | 1.1267000000 |\n",
            "| US East (N. Virginia) |     ml.t2.xlarge-Notebook      | K5YJUYXCAFD9DXJM | 0.2230000000 |\n",
            "| US East (N. Virginia) |          ml.t3.xlarge          | 2HV3P8EXFR68QGC2 | 0.2000000000 |\n",
            "| US East (N. Virginia) |    ml.c7i.2xlarge-Notebook     | 9EV4MVSUYQM6SFQY | 0.4280000000 |\n",
            "| US East (N. Virginia) |          ml.r5.large           | XAJ5Q5BHDFQDQ598 | 0.1510000000 |\n",
            "| US East (N. Virginia) |    ml.g4dn.xlarge-RSession     | BDDB59P6NWQZCXPW | 0.7360000000 |\n",
            "| US East (N. Virginia) |         ml.r6id.large          | 7WSACD5VAMZ3BTBZ | 0.1810000000 |\n",
            "| US East (N. Virginia) |      ml.r5d.large-Hosting      | FD8N9RW4VZW7Z2JT | 0.1730000000 |\n",
            "| US East (N. Virginia) |     ml.r7i.large-Notebook      | 7XM523NSMYNNAWZ6 | 0.1590000000 |\n",
            "| US East (N. Virginia) |     ml.t3.xlarge-Notebook      | N3YKFRU8EJZRR2T2 | 0.2000000000 |\n",
            "| US East (N. Virginia) |     ml.r7i.large-AsyncInf      | QA8VSSKC89N8JZE2 | 0.1590000000 |\n",
            "| US East (N. Virginia) |     ml.m5d.xlarge-RSession     | XETSM9TPEM6FZXRU | 0.2710000000 |\n",
            "| US East (N. Virginia) |     ml.c5.2xlarge-Notebook     | FGJQ9XRJ6E7VHVX9 | 0.4080000000 |\n",
            "| US East (N. Virginia) |          ml.r6i.large          | 7HVJ7MPHUN44YAXY | 0.1510000000 |\n",
            "| US East (N. Virginia) |         ml.c6i.2xlarge         | 2K62KUZ53DMQUPBP | 0.4080000000 |\n",
            "| US East (N. Virginia) |          ml.m5.xlarge          | 3VQ5YEDVG642FXKD | 0.2300000000 |\n",
            "| US East (N. Virginia) |     ml.g5.xlarge-Notebook      | YWSRUSQ3BMHTQH8C | 1.4100000000 |\n",
            "| US East (N. Virginia) |    ml.c7i.2xlarge-AsyncInf     | X7TKZHJPEZ7DVCVD | 0.4280000000 |\n",
            "| US East (N. Virginia) |    ml.m5.xlarge-Processing     | 2M5BU2DMNZJRZUVQ | 0.2300000000 |\n",
            "| US East (N. Virginia) |    ml.m6gd.xlarge-AsyncInf     | 8WDPM3VGX2VFAAHQ | 0.2169600000 |\n",
            "| US East (N. Virginia) |     ml.c6g.2xlarge-Hosting     | ZW7NN2T7YNDPP7BE | 0.3264000000 |\n",
            "| US East (N. Virginia) |      ml.t3.xlarge-Cluster      | BWTGPDATFZTHQJPR | 0.2000000000 |\n",
            "| US East (N. Virginia) |          ml.m5.xlarge          | UJNTS434US74KJHZ | 0.2300000000 |\n",
            "| US East (N. Virginia) |     ml.r5.large-Processing     | BQ38FQKD52TG2NU2 | 0.1510000000 |\n",
            "| US East (N. Virginia) |      ml.m5.xlarge-Cluster      | T8368BH5Y4GV2JXE | 0.2300000000 |\n",
            "| US East (N. Virginia) |         ml.g4dn.xlarge         | EHRD2CGPCAVBXXTZ | 0.7364000000 |\n",
            "| US East (N. Virginia) |     ml.m6g.xlarge-Hosting      | A9JD9A4YZA37KBT2 | 0.1848000000 |\n",
            "| US East (N. Virginia) |    ml.m6id.xlarge-Notebook     | 6EA2R5SHTF7RKW9B | 0.2850000000 |\n",
            "| US East (N. Virginia) |    ml.inf1.2xlarge-Notebook    | 9NN8ME7ZKAUB77MC | 0.4340000000 |\n",
            "| US East (N. Virginia) |          ml.r5.large           | 5Y8JRJ37C23S7EMQ | 0.1510000000 |\n",
            "| US East (N. Virginia) |      ml.g5.xlarge-Cluster      | S9RRHJETKB5EE2UY | 1.4080000000 |\n",
            "| US East (N. Virginia) |     ml.c5.2xlarge-RSession     | H3F448K7JQ9FESBE | 0.4080000000 |\n",
            "| US East (N. Virginia) |    ml.r5.large-HTensorBoard    | R6UHQ4J8ASGUWDZD | 0.1260000000 |\n",
            "| US East (N. Virginia) |    ml.c5.2xlarge-Processing    | 5BBBYB4XZSJJ9AC2 | 0.4080000000 |\n",
            "| US East (N. Virginia) |      ml.t2.xlarge-Hosting      | KXUTZK569JSDDHNN | 0.2230000000 |\n",
            "| US East (N. Virginia) |    ml.g4dn.xlarge-Notebook     | TMCX4JJZFDH9HRCH | 0.7360000000 |\n",
            "| US East (N. Virginia) |     ml.inf2.xlarge-Cluster     | VK4AKY2THD5YMU9C | 0.9900000000 |\n",
            "| US East (N. Virginia) |     ml.m5d.xlarge-Notebook     | 38WZBXTKHK3BCQEG | 0.2710000000 |\n",
            "| US East (N. Virginia) |         ml.m6id.xlarge         | JDFPW72K9QPG227F | 0.2850000000 |\n",
            "| US East (N. Virginia) |    ml.c5d.2xlarge-AsyncInf     | FVJHY8Q9QP97BZ5G | 0.4610000000 |\n",
            "| US East (N. Virginia) |      ml.g5.xlarge-Hosting      | 3Q7F5GS2TPJ87UUD | 1.4080000000 |\n",
            "| US East (N. Virginia) |  ml.m4.xlarge-BatchTransform   | 2XDPZ8CQ6MRG4CSP | 0.2400000000 |\n",
            "| US East (N. Virginia) | ml.g4dn.xlarge-RSessionGateway | KU2AQRTW9BB6M4DG | 0.7360000000 |\n",
            "| US East (N. Virginia) |     ml.c5.2xlarge-Training     | DDBF78CKF93PWBT8 | 0.4080000000 |\n",
            "| US East (N. Virginia) |     ml.g5.xlarge-Training      | 79YF9TGHCN2XR27C | 1.4080000000 |\n",
            "| US East (N. Virginia) |      ml.m5.xlarge-Cluster      | ZDEXJTWUED5ER4VD | 0.2300000000 |\n",
            "| US East (N. Virginia) |      ml.r5.large-RSession      | WC7UD4TQRMXYBRPF | 0.1510000000 |\n",
            "| US East (N. Virginia) |     ml.m7i.xlarge-Hosting      | HGYZ7XDUEUNGCAKG | 0.2420000000 |\n",
            "| US East (N. Virginia) |      ml.r7i.large-Hosting      | EHN8VC78HXN32VDR | 0.1590000000 |\n",
            "| US East (N. Virginia) |         ml.r6id.large          | 9QB4DGH89UKVHVPH | 0.1810000000 |\n",
            "| US East (N. Virginia) | ml.g4dn.xlarge-BatchTransform  | HKUEKYJREEG3DTXB | 0.7360000000 |\n",
            "| US East (N. Virginia) |         ml.m7i.xlarge          | 2XQYBQX3MPXUEVZ5 | 0.2420000000 |\n",
            "| US East (N. Virginia) |     ml.m4.xlarge-Training      | 3EKV2E4R6FVJ5JHG | 0.2400000000 |\n",
            "| US East (N. Virginia) |    ml.c6g.2xlarge-AsyncInf     | MYHEVJDFDGUKCT7W | 0.3264000000 |\n",
            "| US East (N. Virginia) |     ml.m7i.xlarge-Notebook     | DXG9KVJPM28QW8BX | 0.2420000000 |\n",
            "| US East (N. Virginia) |      ml.r5.large-Notebook      | QQSBPAEZVQUG9H5N | 0.1510000000 |\n",
            "| US East (N. Virginia) |         ml.m7i.xlarge          | H4VNJ8N4ZBGU44CB | 0.2420000000 |\n",
            "| US East (N. Virginia) | ml.m5d.xlarge-RSessionGateway  | W5WADBF9HZWJKCPK | 0.2710000000 |\n",
            "| US East (N. Virginia) |      ml.g5.xlarge-Cluster      | WCPGT5KY7PYWZ2XY | 1.4080000000 |\n",
            "+-----------------------+--------------------------------+------------------+--------------+\n"
          ]
        }
      ],
      "source": [
        "# Descargar los datos de la API\n",
        "url = \"https://pricing.us-east-1.amazonaws.com/offers/v1.0/aws/AmazonSageMaker/current/us-east-1/index.json\"\n",
        "response = requests.get(url)\n",
        "data = response.json()\n",
        "\n",
        "# Lista para almacenar las máquinas virtuales que cumplen con el criterio\n",
        "filtered_vms = []\n",
        "\n",
        "# Analizar y filtrar los datos\n",
        "for sku, product in data['products'].items():\n",
        "    if 'attributes' in product and 'memory' in product['attributes']:\n",
        "        memory = product['attributes']['memory']\n",
        "        if '16 GiB' in memory:\n",
        "            instance_name = product['attributes'].get('instanceType', 'N/A')\n",
        "            location = product['attributes'].get('location', 'us-east-1')\n",
        "\n",
        "            # Obtener el precio de manera más robusta\n",
        "            price = 'N/A'\n",
        "            if sku in data['terms']['OnDemand']:\n",
        "                offer_terms = data['terms']['OnDemand'][sku]\n",
        "                for term_key, term_value in offer_terms.items():\n",
        "                    price_dimensions = term_value.get('priceDimensions')\n",
        "                    if price_dimensions:\n",
        "                        for dimension_key, dimension_value in price_dimensions.items():\n",
        "                            price = dimension_value.get('pricePerUnit', {}).get('USD', 'N/A')\n",
        "                            break  # Salir después de encontrar el primer precio\n",
        "\n",
        "            filtered_vms.append([location, instance_name, sku, price])\n",
        "\n",
        "# Imprimir los resultados en una tabla\n",
        "headers = [\"Location\", \"Instance Name\", \"SKU\", \"Price\"]\n",
        "print(tabulate(filtered_vms, headers, tablefmt=\"pretty\"))"
      ]
    },
    {
      "cell_type": "markdown",
      "metadata": {
        "id": "kkPsrcoQ3sRX"
      },
      "source": [
        "## Referencias bibliográficas\n",
        "\n",
        "* Breiman, L. (1996). Bagging predictors. Machine Learning.\n",
        "\n",
        "* Bergstra, J., & Bengio, Y. (2012). Random search for hyper-parameter optimization.\n",
        "\n",
        "* Hodge, V. J., & Austin, J. (2004). A survey of outlier detection methodologies.\n",
        "\n",
        "* Snoek, J., Larochelle, H., & Adams, R. P. (2012). Practical Bayesian optimization of machine learning algorithms.\n",
        "\n"
      ]
    }
  ],
  "metadata": {
    "colab": {
      "provenance": [],
      "toc_visible": true,
      "include_colab_link": true
    },
    "kernelspec": {
      "display_name": "Python 3",
      "name": "python3"
    },
    "language_info": {
      "codemirror_mode": {
        "name": "ipython",
        "version": 3
      },
      "file_extension": ".py",
      "mimetype": "text/x-python",
      "name": "python",
      "nbconvert_exporter": "python",
      "pygments_lexer": "ipython3",
      "version": "3.10.10"
    }
  },
  "nbformat": 4,
  "nbformat_minor": 0
}