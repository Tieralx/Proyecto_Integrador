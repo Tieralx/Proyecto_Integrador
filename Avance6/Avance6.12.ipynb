{
  "cells": [
    {
      "cell_type": "markdown",
      "metadata": {
        "colab_type": "text",
        "id": "view-in-github"
      },
      "source": [
        "<a href=\"https://colab.research.google.com/github/rromerov/Proyecto_Integrador/blob/main/Avance6/Avance6.12.ipynb\" target=\"_parent\"><img src=\"https://colab.research.google.com/assets/colab-badge.svg\" alt=\"Open In Colab\"/></a>"
      ]
    },
    {
      "cell_type": "markdown",
      "metadata": {
        "id": "DAYmOHhX06Y3"
      },
      "source": [
        "# Instituto Tecnológico y de Estudios Superiores de Monterrey\n",
        "## Maestría en Inteligencia Artificial Aplicada\n",
        "### Proyecto Integrador (Gpo 10) - TC5035.10\n",
        "\n",
        "### **Proyecto: Diseño Acelerado de Fármacos**\n",
        "\n",
        "### Avance 6: Conclusiones clave\n",
        "\n",
        "#### **Docentes:**\n",
        "- Dra. Grettel Barceló Alonso - Profesor Titular\n",
        "- Dr. Luis Eduardo Falcón Morales - Profesor Titular\n",
        "- Dr. Ricardo Ambrocio Ramírez Mendoza  – Profesor Tutor\n",
        "\n",
        "#### **Miembros del equipo:**\n",
        "- Ernesto Enríquez Rubio - A01228409\n",
        "- Roberto Romero Vielma - A00822314\n",
        "- Herbert Joadan Romero Villarreal –  A01794199"
      ]
    },
    {
      "cell_type": "markdown",
      "metadata": {
        "id": "g9E817jcLQOt"
      },
      "source": [
        "\n",
        "\n",
        "---\n",
        "\n",
        "\n",
        "### Conclusiones clave\n",
        "#### Background:\n",
        "\n",
        "TODO: Tipo abstract de todo lo que hicimos. Hablar de rendiomiento del modelo, margen de mejora, recomendaciones clave para implementar la solución, stakeholders, etc."
      ]
    },
    {
      "cell_type": "markdown",
      "metadata": {
        "id": "jvkUJFWURW6c"
      },
      "source": [
        "\n",
        "\n",
        "---\n",
        "\n",
        "### Instrucciones\n",
        "\n",
        "En este avance, se busca fundamentar si es viable implementar el modelo, evaluando su adecuación a los criterios de éxito previamente establecidos y considerando los resultados obtenidos durante la etapa de modelado.\n",
        "\n",
        "En cualquier caso, será importante también incluir los siguientes cuestionamientos:\n",
        "\n",
        "* ¿El rendimiento del modelo es lo suficientemente bueno para su implementación en producción?\n",
        "* ¿Existe margen para mejorar aún más el rendimiento?\n",
        "* ¿Cuáles serían las recomendaciones clave para poder implementar la solución?\n",
        "* ¿Qué tareas / procedimientos son accionables para las partes interesadas (stakeholders)?\n",
        "\n",
        "\n",
        "Realizar un análisis detallado para determinar la plataforma de servicios en la nube más adecuada para implementar la solución de ML. Para ello deberán:\n",
        "\n",
        "* Evaluar las características y ventajas de los principales proveedores como: AWS, Azure, GCP e IBM Watson.\n",
        "* Considerar factores como la facilidad de uso, la escalabilidad, los servicios específicos ofrecidos, los costos asociados y cualquier otro aspecto relevante.\n",
        "* Proporcionar una justificación fundamentada para la elección del proveedor que consideren más apropiado.\n",
        "\n",
        "\n",
        "\n",
        "\n",
        "---\n",
        "\n"
      ]
    },
    {
      "cell_type": "markdown",
      "metadata": {
        "id": "uoned92F-Ril"
      },
      "source": [
        "### **Conclusiones clave a detalle**"
      ]
    },
    {
      "cell_type": "markdown",
      "metadata": {
        "id": "g455562ZLHTC"
      },
      "source": [
        "TODO: Explicar\n",
        "\n",
        "* ¿El rendimiento del modelo es lo suficientemente bueno para su implementación en producción?\n",
        "* ¿Existe margen para mejorar aún más el rendimiento?\n",
        "* ¿Cuáles serían las recomendaciones clave para poder implementar la solución?\n",
        "* ¿Qué tareas / procedimientos son accionables para las partes interesadas (stakeholders)?"
      ]
    },
    {
      "cell_type": "markdown",
      "metadata": {
        "id": "Nl31CQ7L-V7M"
      },
      "source": [
        "**pIC50** es una medida del efecto inhibitorio de una sustancia en una diana biológica específica, y su predicción precisa es crucial para el desarrollo de fármacos eficaces. Los modelos utilizados deben tener alta precisión y baja variabilidad en sus predicciones debido a la importancia de estos valores en la toma de decisiones para la optimización de compuestos."
      ]
    },
    {
      "cell_type": "markdown",
      "metadata": {
        "id": "SIa0UxLu8YQw"
      },
      "source": [
        "# **Métricas del modelo elegido**"
      ]
    },
    {
      "cell_type": "markdown",
      "metadata": {
        "id": "Szc6kBHy7pvw"
      },
      "source": [
        "|Model|training\\_time|R\\_squ|MAE|MSE|RMSE|MAPE|Explained Variance|Max Error|Median AE|\n",
        "|---|---|---|---|---|---|---|---|---|---|\n",
        "|Stacking Regressor|20\\.493980407714844|0\\.657080810748961|0\\.0658999651965703|0\\.00809453049440956|0\\.08996960872655588|0\\.15736389042591833|0\\.6572117907298017|0\\.374440575528705|0\\.04619879524040091|"
      ]
    },
    {
      "cell_type": "markdown",
      "metadata": {
        "id": "AZB2uA79-gbS"
      },
      "source": [
        "**Evaluación de las métricas**\n",
        "\n",
        "\n",
        "\n"
      ]
    },
    {
      "cell_type": "markdown",
      "metadata": {
        "id": "hyBo1Uk9BsYM"
      },
      "source": [
        "**R Squared (R^2):**\n",
        "\n",
        "**Valor:** 0.6571\n",
        "\n",
        "Un valor de 0.6571 sugiere que el 65.71% de la variabilidad en los datos de pIC50 es capturada por las predicciones del modelo. Es decir que, aproximadamente el 34.29% de la variabilidad en los datos no es explicada por el modelo. Se esperaría un R^2 más alto para aplicaciones críticas como el descubrimiento de fármacos.\n",
        "\n",
        "**Valor ideal:** Superior a 0.8 sería aceptable para asegurar una alta precisión.\n",
        "\n",
        "**Acciones que pudieran mejorar esta métrica:**\n",
        "* Añadir características relevantes o transformar las existentes puede aumentar la capacidad predictiva del modelo.\n",
        "* Realizar una búsqueda exhaustiva de hiperparámetros para optimizar el rendimiento del modelo."
      ]
    },
    {
      "cell_type": "markdown",
      "metadata": {
        "id": "SBlwNiKcBuE4"
      },
      "source": [
        "**Mean Absolute Error (MAE):**\n",
        "\n",
        "**Valor:** 0.0659\n",
        "\n",
        "Mide el error promedio absoluto entre las predicciones y los valores reales de pIC50. Un MAE de 0.0659 indica que, en promedio, las predicciones están desviadas por aproximadamente 0.066 unidades de los valores reales.\n",
        "\n",
        "**Valor ideal:** Un MAE inferior a 0.05 sería más deseable para aplicaciones de descubrimiento de fármacos.\n",
        "\n",
        "**Acciones que pudieran mejorar esta métrica:**\n",
        "* Mejorar técnicas de regularización.\n",
        "* Obtener más datos de entrenamiento."
      ]
    },
    {
      "cell_type": "markdown",
      "metadata": {
        "id": "mjV2iNpMC21k"
      },
      "source": [
        "**Mean Squared Error (MSE):**\n",
        "\n",
        "**Valor:** 0.0081\n",
        "\n",
        "Mide el promedio de los errores al cuadrado entre las predicciones y los valores reales de pIC50. Penaliza más los errores grandes, lo que es útil para detectar grandes desviaciones.\n",
        "\n",
        "**Valor ideal:** Un MSE inferior a 0.005 sería más adecuado para aplicaciones de alta precisión.\n",
        "\n",
        "**Acciones que pudieran mejorar esta métrica:**\n",
        "* Identificar y manejar outliers.\n",
        "* Combinar diferentes tipos de modelos."
      ]
    },
    {
      "cell_type": "markdown",
      "metadata": {
        "id": "Yu81ZMIGDhmb"
      },
      "source": [
        "**Root Mean Squared Error (RMSE):**\n",
        "\n",
        "**Valor:** 0.0900\n",
        "\n",
        "Es la raíz cuadrada del MSE, proporcionando una medida del error en las mismas unidades que la variable de salida (pIC50). Un RMSE de 0.0900 indica el error promedio en las mismas unidades que los datos.\n",
        "\n",
        "**Valor ideal:** Un RMSE inferior a 0.07 sería más deseable.\n",
        "\n",
        "**Acciones que pudieran mejorar esta métrica:**\n",
        "* Utilizar validación cruzada.\n",
        "* Mejora de modelos en el stacking"
      ]
    },
    {
      "cell_type": "markdown",
      "metadata": {
        "id": "1Xt8YgETEE7c"
      },
      "source": [
        "**Mean Absolute Percentage Error (MAPE):**\n",
        "\n",
        "**Valor:** 15.74%\n",
        "\n",
        "Mide el error promedio absoluto en términos porcentuales, lo que puede ser más intuitivo para evaluar el rendimiento del modelo. Un MAPE de 15.74% indica que el error promedio es del 15.74% del valor real.\n",
        "\n",
        "**Valor ideal:** Un MAPE inferior al 10% sería aceptable, y menos del 5% sería ideal.\n",
        "\n",
        "**Acciones que pudieran mejorar esta métrica:**\n",
        "* Normalización/Estandarización\n",
        "* Generar datos sintéticos."
      ]
    },
    {
      "cell_type": "markdown",
      "metadata": {
        "id": "04a_dM04Etiz"
      },
      "source": [
        "**Max Error:**\n",
        "\n",
        "**Valor:** 0.3744\n",
        "\n",
        "Mide el error absoluto máximo en las predicciones. Un Max Error de 0.3744 indica que, en el peor caso, la predicción está desviada por 0.3744 unidades de pIC50.\n",
        "\n",
        "**Valor ideal:** Un Max Error inferior a 0.3 sería más adecuado para minimizar riesgos.\n",
        "\n",
        "**Acciones que pudieran mejorar esta métrica:**\n",
        "* Identificar y manejar outliers."
      ]
    },
    {
      "cell_type": "markdown",
      "metadata": {
        "id": "C35AfPZrFNv6"
      },
      "source": [
        "**Median Absolute Error (Median AE):**\n",
        "\n",
        "**Valor:** 0.0462\n",
        "\n",
        "Mide la mediana de los errores absolutos, lo que es robusto frente a outliers. Un Median AE de 0.0462 indica que la mitad de los errores absolutos están por debajo de este valor.\n",
        "\n",
        "**Valor ideal:** Este es un valor aceptable, se encuentra por dejabajo de 0.05"
      ]
    },
    {
      "cell_type": "markdown",
      "metadata": {
        "id": "a1S_TiUP-qbF"
      },
      "source": [
        "### **Análisis de despliegue en la nube**"
      ]
    },
    {
      "cell_type": "markdown",
      "metadata": {
        "id": "Vyqi9Moa_sP7"
      },
      "source": [
        "TODO: Explicar\n",
        "\n",
        "* Evaluar las características y ventajas de los principales proveedores como: AWS, Azure, GCP e IBM Watson.\n",
        "* Considerar factores como la facilidad de uso, la escalabilidad, los servicios específicos ofrecidos, los costos asociados y cualquier otro aspecto relevante.\n",
        "* Proporcionar una justificación fundamentada para la elección del proveedor que consideren más apropiado."
      ]
    },
    {
      "cell_type": "markdown",
      "metadata": {},
      "source": [
        "#### **AWS (Amazon Web Services)**\n",
        "##### **Características:**\n",
        "\n",
        "* Variedad de Herramientas y Productos: AWS ofrece una amplia gama de servicios, incluyendo herramientas de cómputo, almacenamiento de bases de datos y entrega de contenido.\n",
        "* Escalabilidad y Pago por Uso: Modelo de pago por uso que permite a los usuarios escalar recursos según lo necesiten.\n",
        "* Cobertura Global: AWS está disponible en 245 países y territorios.\n",
        "\n",
        "**Servicios de Machine Learning ofrecidos:** Amazon SageMaker, AWS Deep Learning AMIs, AWS DeepLens, AWS Lambda, AWS Glue, Amazon Comprehend, Amazon Rekognition, Amazon Lex, Amazon Polly, Amazon Transcribe, Amazon Translate.\n",
        "\n",
        "##### **Ventajas:**\n",
        "* **Integración Sencilla:** La capacidad de integrar fácilmente servicios de machine learning con otros servicios de AWS como S3 (almacenamiento), Redshift (almacenamiento de datos), y Lambda (funciones sin servidor), proporciona una solución integral y sin fisuras.\n",
        "* **Escalabilidad Automática:** Los servicios de machine learning pueden escalar automáticamente en función de la demanda, permitiendo a las empresas manejar picos de carga sin problemas.\n",
        "* **Amplia Comunidad y Recursos:** AWS cuenta con una gran comunidad de usuarios y desarrolladores, lo que facilita encontrar soporte y recursos, incluyendo una extensa documentación, tutoriales, y ejemplos de uso.\n",
        "* **Seguridad Robusta:** AWS proporciona medidas de seguridad avanzadas, incluyendo cifrado de datos en tránsito y en reposo, y gestión de identidad y acceso (IAM), lo que garantiza la protección de los datos y modelos de machine learning.\n",
        "* **Innovación Continua:** AWS invierte significativamente en investigación y desarrollo, lo que asegura que sus servicios de machine learning estén a la vanguardia de la tecnología.\n",
        "\n",
        "#### **Microsoft Azure**\n",
        "##### **Características:**\n",
        "\n",
        "* **Portal en Línea y Servicios de Administración:** Permite acceso y gestión de servicios y recursos en la nube a través de un portal en línea.\n",
        "* **Compatibilidad con Múltiples Lenguajes de Programación:** Soporte para Java, JavaScript, Python 3 y C#.\n",
        "* **Amplia Red de Centros de Datos:** 42 centros de datos en todo el mundo, con planes de expansión.\n",
        "\n",
        "**Servicios de Machine Learning ofrecidos:** Azure Machine Learning, Azure Databricks, Azure Synapse Analytics, Azure Cognitive Services (incluyendo Vision, Speech, Language, Decision), Azure Bot Services.\n",
        "\n",
        "##### **Ventajas:**\n",
        "\n",
        "* **Integración con el Ecosistema de Microsoft:** La capacidad de integrar servicios de machine learning con otros productos de Microsoft, como Power BI para visualización de datos, y Dynamics 365 para aplicaciones empresariales, proporciona una solución unificada.\n",
        "* **Desarrollo Ágil y DevOps:** Azure facilita la implementación continua y el desarrollo ágil a través de servicios como Azure DevOps y GitHub, que soportan el ciclo de vida completo del desarrollo de machine learning.\n",
        "* **Servicios Cognitivos:** Azure ofrece una serie de servicios cognitivos preentrenados que facilitan la implementación rápida de capacidades de IA como visión por computadora, reconocimiento de voz y análisis de lenguaje natural.\n",
        "* **Seguridad y Cumplimiento:** Azure cumple con una amplia gama de estándares de cumplimiento y ofrece robustas características de seguridad, incluyendo administración de identidades, encriptación avanzada y monitoreo continuo.\n",
        "* **Soporte Empresarial:** Azure proporciona un fuerte soporte para empresas, con opciones de soporte técnico 24/7 y programas de consultoría para ayudar a las organizaciones a implementar y optimizar sus soluciones de machine learning.\n",
        "\n",
        "\n",
        "#### **Google Cloud Platform (GCP)**\n",
        "##### **Características:**\n",
        "\n",
        "* **Infraestructura Sólida y Escalable:** Utiliza la infraestructura robusta de Google para proporcionar servicios en la nube.\n",
        "* **Modelo de Pago por Uso:** Solo se paga por los recursos utilizados.\n",
        "* **Latencia Baja y Alta Disponibilidad:** Rápida conectividad entre zonas y alta disponibilidad a través de múltiples regiones.\n",
        "\n",
        "**Servicios de Machine Learning ofrecidos:** Vertex AI, AutoML, BigQuery ML, TensorFlow Enterprise, AI Platform Training, AI Platform Prediction, AI Hub, AI Platform Notebooks, AI Platform Pipelines, Cloud Natural Language, Cloud Vision, Cloud Speech-to-Text, Cloud Text-to-Speech, Cloud Translation.\n",
        "\n",
        "**Ventajas:**\n",
        "\n",
        "* **Innovación Tecnológica:** GCP es conocido por su enfoque en la innovación continua, especialmente en machine learning y IA, ofreciendo tecnologías avanzadas como AutoML que facilita la creación de modelos personalizados sin necesidad de conocimientos profundos en machine learning.\n",
        "* **Facilidad de Uso:** GCP proporciona herramientas intuitivas y fáciles de usar, como Vertex AI y BigQuery ML, que permiten a los desarrolladores y analistas de datos crear y entrenar modelos de machine learning utilizando SQL familiar.\n",
        "* **Integración con el Ecosistema de Google:** La capacidad de integrar fácilmente con otros servicios de Google como Google Analytics, Google Ads, y Google Workspace, permite una solución integral para la gestión de datos y análisis.\n",
        "* **Rendimiento y Escalabilidad:** La infraestructura global de Google garantiza un rendimiento confiable y alta disponibilidad, con capacidades de escalado automático para manejar picos de demanda.\n",
        "* **Seguridad y Conformidad:** GCP ofrece medidas avanzadas de seguridad y cumplimiento, incluyendo encriptación de datos, gestión de identidades y acceso (IAM), y cumplimiento con estándares internacionales como GDPR y HIPAA.\n",
        "* **Colaboración y Desarrollo:** Herramientas como AI Platform Notebooks y AI Hub facilitan la colaboración entre equipos de datos y desarrollo, permitiendo compartir y reutilizar modelos y pipelines de machine learning.\n",
        "\n",
        "#### **IBM Watson**\n",
        "##### **Características:**\n",
        "\n",
        "* **Foco en IA para Negocios:** Integración de IA para mejorar operaciones comerciales.\n",
        "* **Plataforma en la Nube:** Flexibilidad y escalabilidad para diversas aplicaciones comerciales.\n",
        "* **Tecnología de Vanguardia:** Herramientas avanzadas de IA y machine learning.\n",
        "\n",
        "**Servicios de Machine Learning ofrecidos:** Watson Studio, Watson Assistant, Watson Discovery, Watson Knowledge Catalog, Watson Natural Language Understanding, Watson Speech-to-Text, Watson Text to Speech, Watson Visual Recognition, Watson Machine Learning, Watson Language Translator, Watson Compare & Comply, Watson Annotator for Clinical Data.\n",
        "\n",
        "**Ventajas:**\n",
        "\n",
        "* **Especialización en IA para Empresas:** IBM Watson está diseñado específicamente para aplicaciones empresariales, ofreciendo soluciones personalizadas que se adaptan a las necesidades de diferentes industrias.\n",
        "* **Interfaz Intuitiva y Herramientas Sin Código:** Watson Studio proporciona una interfaz amigable y herramientas sin necesidad de programación, permitiendo a usuarios de diferentes niveles de habilidad desarrollar y desplegar modelos de machine learning.\n",
        "* **Capacidades Avanzadas de Análisis y Búsqueda:** Watson Discovery y Watson Knowledge Catalog permiten a las empresas gestionar y analizar grandes volúmenes de datos no estructurados, extrayendo información valiosa para la toma de decisiones.\n",
        "* **Enfoque en la Gobernanza y Transparencia:** IBM Watson enfatiza la transparencia y la ética en los flujos de trabajo de IA, garantizando que las soluciones sean explicables y responsables.\n",
        "* **Integración y Automatización:** Watson Assistant y otros servicios de automatización permiten a las empresas mejorar la eficiencia operativa, automatizando tareas repetitivas y mejorando la interacción con clientes.\n",
        "* **Apoyo a la Innovación Continua:** IBM Watson se mantiene a la vanguardia de las innovaciones en IA, proporcionando herramientas avanzadas como Watsonx para el desarrollo y despliegue de modelos generativos y personalizados.\n"
      ]
    },
    {
      "cell_type": "markdown",
      "metadata": {
        "id": "kkPsrcoQ3sRX"
      },
      "source": [
        "## Referencias bibliográficas\n",
        "\n",
        "TODO: Add new references"
      ]
    }
  ],
  "metadata": {
    "colab": {
      "include_colab_link": true,
      "provenance": [],
      "toc_visible": true
    },
    "kernelspec": {
      "display_name": "Python 3",
      "name": "python3"
    },
    "language_info": {
      "name": "python"
    }
  },
  "nbformat": 4,
  "nbformat_minor": 0
}
