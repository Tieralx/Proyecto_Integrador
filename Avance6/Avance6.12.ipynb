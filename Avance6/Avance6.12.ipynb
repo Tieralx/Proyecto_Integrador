{
  "nbformat": 4,
  "nbformat_minor": 0,
  "metadata": {
    "colab": {
      "provenance": [],
      "toc_visible": true,
      "include_colab_link": true
    },
    "kernelspec": {
      "name": "python3",
      "display_name": "Python 3"
    },
    "language_info": {
      "name": "python"
    }
  },
  "cells": [
    {
      "cell_type": "markdown",
      "metadata": {
        "id": "view-in-github",
        "colab_type": "text"
      },
      "source": [
        "<a href=\"https://colab.research.google.com/github/rromerov/Proyecto_Integrador/blob/main/Avance6/Avance6.12.ipynb\" target=\"_parent\"><img src=\"https://colab.research.google.com/assets/colab-badge.svg\" alt=\"Open In Colab\"/></a>"
      ]
    },
    {
      "cell_type": "markdown",
      "source": [
        "# Instituto Tecnológico y de Estudios Superiores de Monterrey\n",
        "## Maestría en Inteligencia Artificial Aplicada\n",
        "### Proyecto Integrador (Gpo 10) - TC5035.10\n",
        "\n",
        "### **Proyecto: Diseño Acelerado de Fármacos**\n",
        "\n",
        "### Avance 6: Conclusiones clave\n",
        "\n",
        "#### **Docentes:**\n",
        "- Dra. Grettel Barceló Alonso - Profesor Titular\n",
        "- Dr. Luis Eduardo Falcón Morales - Profesor Titular\n",
        "- Dr. Ricardo Ambrocio Ramírez Mendoza  – Profesor Tutor\n",
        "\n",
        "#### **Miembros del equipo:**\n",
        "- Ernesto Enríquez Rubio - A01228409\n",
        "- Roberto Romero Vielma - A00822314\n",
        "- Herbert Joadan Romero Villarreal –  A01794199"
      ],
      "metadata": {
        "id": "DAYmOHhX06Y3"
      }
    },
    {
      "cell_type": "markdown",
      "source": [
        "\n",
        "\n",
        "---\n",
        "\n",
        "\n",
        "### Conclusiones clave\n",
        "#### Background:\n",
        "\n",
        "TODO: Tipo abstract de todo lo que hicimos. Hablar de rendiomiento del modelo, margen de mejora, recomendaciones clave para implementar la solución, stakeholders, etc."
      ],
      "metadata": {
        "id": "g9E817jcLQOt"
      }
    },
    {
      "cell_type": "markdown",
      "source": [
        "\n",
        "\n",
        "---\n",
        "\n",
        "### Instrucciones\n",
        "\n",
        "En este avance, se busca fundamentar si es viable implementar el modelo, evaluando su adecuación a los criterios de éxito previamente establecidos y considerando los resultados obtenidos durante la etapa de modelado.\n",
        "\n",
        "En cualquier caso, será importante también incluir los siguientes cuestionamientos:\n",
        "\n",
        "* ¿El rendimiento del modelo es lo suficientemente bueno para su implementación en producción?\n",
        "* ¿Existe margen para mejorar aún más el rendimiento?\n",
        "* ¿Cuáles serían las recomendaciones clave para poder implementar la solución?\n",
        "* ¿Qué tareas / procedimientos son accionables para las partes interesadas (stakeholders)?\n",
        "\n",
        "\n",
        "Realizar un análisis detallado para determinar la plataforma de servicios en la nube más adecuada para implementar la solución de ML. Para ello deberán:\n",
        "\n",
        "* Evaluar las características y ventajas de los principales proveedores como: AWS, Azure, GCP e IBM Watson.\n",
        "* Considerar factores como la facilidad de uso, la escalabilidad, los servicios específicos ofrecidos, los costos asociados y cualquier otro aspecto relevante.\n",
        "* Proporcionar una justificación fundamentada para la elección del proveedor que consideren más apropiado.\n",
        "\n",
        "\n",
        "\n",
        "\n",
        "---\n",
        "\n"
      ],
      "metadata": {
        "id": "jvkUJFWURW6c"
      }
    },
    {
      "cell_type": "markdown",
      "source": [
        "### **Conclusiones clave a detalle**"
      ],
      "metadata": {
        "id": "uoned92F-Ril"
      }
    },
    {
      "cell_type": "markdown",
      "source": [
        "TODO: Explicar\n",
        "\n",
        "* ¿El rendimiento del modelo es lo suficientemente bueno para su implementación en producción?\n",
        "* ¿Existe margen para mejorar aún más el rendimiento?\n",
        "* ¿Cuáles serían las recomendaciones clave para poder implementar la solución?\n",
        "* ¿Qué tareas / procedimientos son accionables para las partes interesadas (stakeholders)?"
      ],
      "metadata": {
        "id": "g455562ZLHTC"
      }
    },
    {
      "cell_type": "markdown",
      "source": [
        "### **Análisis de despliegue en la nube**"
      ],
      "metadata": {
        "id": "a1S_TiUP-qbF"
      }
    },
    {
      "cell_type": "markdown",
      "source": [
        "TODO: Explicar\n",
        "\n",
        "* Evaluar las características y ventajas de los principales proveedores como: AWS, Azure, GCP e IBM Watson.\n",
        "* Considerar factores como la facilidad de uso, la escalabilidad, los servicios específicos ofrecidos, los costos asociados y cualquier otro aspecto relevante.\n",
        "* Proporcionar una justificación fundamentada para la elección del proveedor que consideren más apropiado."
      ],
      "metadata": {
        "id": "Vyqi9Moa_sP7"
      }
    },
    {
      "cell_type": "markdown",
      "source": [
        "## Referencias bibliográficas\n",
        "\n",
        "TODO: Add new references"
      ],
      "metadata": {
        "id": "kkPsrcoQ3sRX"
      }
    }
  ]
}