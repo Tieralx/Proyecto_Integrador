{
  "nbformat": 4,
  "nbformat_minor": 0,
  "metadata": {
    "colab": {
      "provenance": [],
      "toc_visible": true,
      "include_colab_link": true
    },
    "kernelspec": {
      "name": "python3",
      "display_name": "Python 3"
    },
    "language_info": {
      "name": "python"
    }
  },
  "cells": [
    {
      "cell_type": "markdown",
      "metadata": {
        "id": "view-in-github",
        "colab_type": "text"
      },
      "source": [
        "<a href=\"https://colab.research.google.com/github/rromerov/Proyecto_Integrador/blob/main/Avance6/Avance6.12.ipynb\" target=\"_parent\"><img src=\"https://colab.research.google.com/assets/colab-badge.svg\" alt=\"Open In Colab\"/></a>"
      ]
    },
    {
      "cell_type": "markdown",
      "source": [
        "# Instituto Tecnológico y de Estudios Superiores de Monterrey\n",
        "## Maestría en Inteligencia Artificial Aplicada\n",
        "### Proyecto Integrador (Gpo 10) - TC5035.10\n",
        "\n",
        "### **Proyecto: Diseño Acelerado de Fármacos**\n",
        "\n",
        "### Avance 6: Conclusiones clave\n",
        "\n",
        "#### **Docentes:**\n",
        "- Dra. Grettel Barceló Alonso - Profesor Titular\n",
        "- Dr. Luis Eduardo Falcón Morales - Profesor Titular\n",
        "- Dr. Ricardo Ambrocio Ramírez Mendoza  – Profesor Tutor\n",
        "\n",
        "#### **Miembros del equipo:**\n",
        "- Ernesto Enríquez Rubio - A01228409\n",
        "- Roberto Romero Vielma - A00822314\n",
        "- Herbert Joadan Romero Villarreal –  A01794199"
      ],
      "metadata": {
        "id": "DAYmOHhX06Y3"
      }
    },
    {
      "cell_type": "markdown",
      "source": [
        "\n",
        "\n",
        "---\n",
        "\n",
        "\n",
        "### Conclusiones clave\n",
        "#### Background:\n",
        "\n",
        "TODO: Tipo abstract de todo lo que hicimos. Hablar de rendiomiento del modelo, margen de mejora, recomendaciones clave para implementar la solución, stakeholders, etc."
      ],
      "metadata": {
        "id": "g9E817jcLQOt"
      }
    },
    {
      "cell_type": "markdown",
      "source": [
        "\n",
        "\n",
        "---\n",
        "\n",
        "### Instrucciones\n",
        "\n",
        "En este avance, se busca fundamentar si es viable implementar el modelo, evaluando su adecuación a los criterios de éxito previamente establecidos y considerando los resultados obtenidos durante la etapa de modelado.\n",
        "\n",
        "En cualquier caso, será importante también incluir los siguientes cuestionamientos:\n",
        "\n",
        "* ¿El rendimiento del modelo es lo suficientemente bueno para su implementación en producción?\n",
        "* ¿Existe margen para mejorar aún más el rendimiento?\n",
        "* ¿Cuáles serían las recomendaciones clave para poder implementar la solución?\n",
        "* ¿Qué tareas / procedimientos son accionables para las partes interesadas (stakeholders)?\n",
        "\n",
        "\n",
        "Realizar un análisis detallado para determinar la plataforma de servicios en la nube más adecuada para implementar la solución de ML. Para ello deberán:\n",
        "\n",
        "* Evaluar las características y ventajas de los principales proveedores como: AWS, Azure, GCP e IBM Watson.\n",
        "* Considerar factores como la facilidad de uso, la escalabilidad, los servicios específicos ofrecidos, los costos asociados y cualquier otro aspecto relevante.\n",
        "* Proporcionar una justificación fundamentada para la elección del proveedor que consideren más apropiado.\n",
        "\n",
        "\n",
        "\n",
        "\n",
        "---\n",
        "\n"
      ],
      "metadata": {
        "id": "jvkUJFWURW6c"
      }
    },
    {
      "cell_type": "markdown",
      "source": [
        "### **Conclusiones clave a detalle**"
      ],
      "metadata": {
        "id": "uoned92F-Ril"
      }
    },
    {
      "cell_type": "markdown",
      "source": [
        "TODO: Explicar\n",
        "\n",
        "* ¿El rendimiento del modelo es lo suficientemente bueno para su implementación en producción?\n",
        "* ¿Existe margen para mejorar aún más el rendimiento?\n",
        "* ¿Cuáles serían las recomendaciones clave para poder implementar la solución?\n",
        "* ¿Qué tareas / procedimientos son accionables para las partes interesadas (stakeholders)?"
      ],
      "metadata": {
        "id": "g455562ZLHTC"
      }
    },
    {
      "cell_type": "markdown",
      "source": [
        "**pIC50** es una medida del efecto inhibitorio de una sustancia en una diana biológica específica, y su predicción precisa es crucial para el desarrollo de fármacos eficaces. Los modelos utilizados deben tener alta precisión y baja variabilidad en sus predicciones debido a la importancia de estos valores en la toma de decisiones para la optimización de compuestos."
      ],
      "metadata": {
        "id": "Nl31CQ7L-V7M"
      }
    },
    {
      "cell_type": "markdown",
      "source": [
        "# **Métricas del modelo elegido**"
      ],
      "metadata": {
        "id": "SIa0UxLu8YQw"
      }
    },
    {
      "cell_type": "markdown",
      "source": [
        "|Model|training\\_time|R\\_squ|MAE|MSE|RMSE|MAPE|Explained Variance|Max Error|Median AE|\n",
        "|---|---|---|---|---|---|---|---|---|---|\n",
        "|Stacking Regressor|20\\.493980407714844|0\\.657080810748961|0\\.0658999651965703|0\\.00809453049440956|0\\.08996960872655588|0\\.15736389042591833|0\\.6572117907298017|0\\.374440575528705|0\\.04619879524040091|"
      ],
      "metadata": {
        "id": "Szc6kBHy7pvw"
      }
    },
    {
      "cell_type": "markdown",
      "source": [
        "**Evaluación de las métricas**\n",
        "\n",
        "\n",
        "\n"
      ],
      "metadata": {
        "id": "AZB2uA79-gbS"
      }
    },
    {
      "cell_type": "markdown",
      "source": [
        "**R Squared (R^2):**\n",
        "\n",
        "**Valor:** 0.6571\n",
        "\n",
        "Un valor de 0.6571 sugiere que el 65.71% de la variabilidad en los datos de pIC50 es capturada por las predicciones del modelo. Es decir que, aproximadamente el 34.29% de la variabilidad en los datos no es explicada por el modelo. Se esperaría un R^2 más alto para aplicaciones críticas como el descubrimiento de fármacos.\n",
        "\n",
        "**Valor ideal:** Superior a 0.8 sería aceptable para asegurar una alta precisión.\n",
        "\n",
        "**Acciones que pudieran mejorar esta métrica:**\n",
        "* Añadir características relevantes o transformar las existentes puede aumentar la capacidad predictiva del modelo.\n",
        "* Realizar una búsqueda exhaustiva de hiperparámetros para optimizar el rendimiento del modelo."
      ],
      "metadata": {
        "id": "hyBo1Uk9BsYM"
      }
    },
    {
      "cell_type": "markdown",
      "source": [
        "**Mean Absolute Error (MAE):**\n",
        "\n",
        "**Valor:** 0.0659\n",
        "\n",
        "Mide el error promedio absoluto entre las predicciones y los valores reales de pIC50. Un MAE de 0.0659 indica que, en promedio, las predicciones están desviadas por aproximadamente 0.066 unidades de los valores reales.\n",
        "\n",
        "**Valor ideal:** Un MAE inferior a 0.05 sería más deseable para aplicaciones de descubrimiento de fármacos.\n",
        "\n",
        "**Acciones que pudieran mejorar esta métrica:**\n",
        "* Mejorar técnicas de regularización.\n",
        "* Obtener más datos de entrenamiento."
      ],
      "metadata": {
        "id": "SBlwNiKcBuE4"
      }
    },
    {
      "cell_type": "markdown",
      "source": [
        "**Mean Squared Error (MSE):**\n",
        "\n",
        "**Valor:** 0.0081\n",
        "\n",
        "Mide el promedio de los errores al cuadrado entre las predicciones y los valores reales de pIC50. Penaliza más los errores grandes, lo que es útil para detectar grandes desviaciones.\n",
        "\n",
        "**Valor ideal:** Un MSE inferior a 0.005 sería más adecuado para aplicaciones de alta precisión.\n",
        "\n",
        "**Acciones que pudieran mejorar esta métrica:**\n",
        "* Identificar y manejar outliers.\n",
        "* Combinar diferentes tipos de modelos."
      ],
      "metadata": {
        "id": "mjV2iNpMC21k"
      }
    },
    {
      "cell_type": "markdown",
      "source": [
        "**Root Mean Squared Error (RMSE):**\n",
        "\n",
        "**Valor:** 0.0900\n",
        "\n",
        "Es la raíz cuadrada del MSE, proporcionando una medida del error en las mismas unidades que la variable de salida (pIC50). Un RMSE de 0.0900 indica el error promedio en las mismas unidades que los datos.\n",
        "\n",
        "**Valor ideal:** Un RMSE inferior a 0.07 sería más deseable.\n",
        "\n",
        "**Acciones que pudieran mejorar esta métrica:**\n",
        "* Utilizar validación cruzada.\n",
        "* Mejora de modelos en el stacking"
      ],
      "metadata": {
        "id": "Yu81ZMIGDhmb"
      }
    },
    {
      "cell_type": "markdown",
      "source": [
        "**Mean Absolute Percentage Error (MAPE):**\n",
        "\n",
        "**Valor:** 15.74%\n",
        "\n",
        "Mide el error promedio absoluto en términos porcentuales, lo que puede ser más intuitivo para evaluar el rendimiento del modelo. Un MAPE de 15.74% indica que el error promedio es del 15.74% del valor real.\n",
        "\n",
        "**Valor ideal:** Un MAPE inferior al 10% sería aceptable, y menos del 5% sería ideal.\n",
        "\n",
        "**Acciones que pudieran mejorar esta métrica:**\n",
        "* Normalización/Estandarización\n",
        "* Generar datos sintéticos."
      ],
      "metadata": {
        "id": "1Xt8YgETEE7c"
      }
    },
    {
      "cell_type": "markdown",
      "source": [
        "**Max Error:**\n",
        "\n",
        "**Valor:** 0.3744\n",
        "\n",
        "Mide el error absoluto máximo en las predicciones. Un Max Error de 0.3744 indica que, en el peor caso, la predicción está desviada por 0.3744 unidades de pIC50.\n",
        "\n",
        "**Valor ideal:** Un Max Error inferior a 0.3 sería más adecuado para minimizar riesgos.\n",
        "\n",
        "**Acciones que pudieran mejorar esta métrica:**\n",
        "* Identificar y manejar outliers."
      ],
      "metadata": {
        "id": "04a_dM04Etiz"
      }
    },
    {
      "cell_type": "markdown",
      "source": [
        "**Median Absolute Error (Median AE):**\n",
        "\n",
        "**Valor:** 0.0462\n",
        "\n",
        "Mide la mediana de los errores absolutos, lo que es robusto frente a outliers. Un Median AE de 0.0462 indica que la mitad de los errores absolutos están por debajo de este valor.\n",
        "\n",
        "**Valor ideal:** Este es un valor aceptable, se encuentra por dejabajo de 0.05"
      ],
      "metadata": {
        "id": "C35AfPZrFNv6"
      }
    },
    {
      "cell_type": "markdown",
      "source": [
        "### **Análisis de despliegue en la nube**"
      ],
      "metadata": {
        "id": "a1S_TiUP-qbF"
      }
    },
    {
      "cell_type": "markdown",
      "source": [
        "TODO: Explicar\n",
        "\n",
        "* Evaluar las características y ventajas de los principales proveedores como: AWS, Azure, GCP e IBM Watson.\n",
        "* Considerar factores como la facilidad de uso, la escalabilidad, los servicios específicos ofrecidos, los costos asociados y cualquier otro aspecto relevante.\n",
        "* Proporcionar una justificación fundamentada para la elección del proveedor que consideren más apropiado."
      ],
      "metadata": {
        "id": "Vyqi9Moa_sP7"
      }
    },
    {
      "cell_type": "markdown",
      "source": [
        "## Referencias bibliográficas\n",
        "\n",
        "TODO: Add new references"
      ],
      "metadata": {
        "id": "kkPsrcoQ3sRX"
      }
    }
  ]
}